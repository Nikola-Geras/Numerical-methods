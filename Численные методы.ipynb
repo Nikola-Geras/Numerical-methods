{
 "cells": [
  {
   "cell_type": "markdown",
   "metadata": {},
   "source": [
    "# Определение стоимости автомобилей"
   ]
  },
  {
   "cell_type": "markdown",
   "metadata": {},
   "source": [
    "Сервис по продаже автомобилей с пробегом «Не бит, не крашен» разрабатывает приложение для привлечения новых клиентов. В нём можно быстро узнать рыночную стоимость своего автомобиля. В вашем распоряжении исторические данные: технические характеристики, комплектации и цены автомобилей. Вам нужно построить модель для определения стоимости. \n",
    "\n",
    "Заказчику важны:\n",
    "\n",
    "- качество предсказания;\n",
    "- скорость предсказания;\n",
    "- время обучения."
   ]
  },
  {
   "cell_type": "markdown",
   "metadata": {},
   "source": [
    "## Подготовка данных"
   ]
  },
  {
   "cell_type": "code",
   "execution_count": 1,
   "metadata": {},
   "outputs": [],
   "source": [
    "import matplotlib.pyplot as plt\n",
    "import numpy as np\n",
    "import pandas as pd\n",
    "import warnings\n",
    "from scipy.sparse import hstack\n",
    "from sklearn.model_selection import train_test_split\n",
    "from sklearn.preprocessing import StandardScaler\n",
    "from sklearn.metrics import mean_squared_error\n",
    "from sklearn.preprocessing import OrdinalEncoder\n",
    "from sklearn.preprocessing import OneHotEncoder\n",
    "from sklearn.linear_model import LinearRegression\n",
    "from sklearn.linear_model import Ridge\n",
    "from sklearn.model_selection import GridSearchCV\n",
    "from sklearn.tree import DecisionTreeRegressor\n",
    "from catboost import Pool, CatBoostRegressor, cv\n",
    "from lightgbm import LGBMRegressor\n",
    "warnings.filterwarnings('ignore')"
   ]
  },
  {
   "cell_type": "code",
   "execution_count": 2,
   "metadata": {},
   "outputs": [],
   "source": [
    "data = pd.read_csv(\"/datasets/autos.csv\")"
   ]
  },
  {
   "cell_type": "markdown",
   "metadata": {},
   "source": [
    "## Изучение данных"
   ]
  },
  {
   "cell_type": "code",
   "execution_count": 3,
   "metadata": {},
   "outputs": [
    {
     "data": {
      "text/html": [
       "<div>\n",
       "<style scoped>\n",
       "    .dataframe tbody tr th:only-of-type {\n",
       "        vertical-align: middle;\n",
       "    }\n",
       "\n",
       "    .dataframe tbody tr th {\n",
       "        vertical-align: top;\n",
       "    }\n",
       "\n",
       "    .dataframe thead th {\n",
       "        text-align: right;\n",
       "    }\n",
       "</style>\n",
       "<table border=\"1\" class=\"dataframe\">\n",
       "  <thead>\n",
       "    <tr style=\"text-align: right;\">\n",
       "      <th></th>\n",
       "      <th>DateCrawled</th>\n",
       "      <th>Price</th>\n",
       "      <th>VehicleType</th>\n",
       "      <th>RegistrationYear</th>\n",
       "      <th>Gearbox</th>\n",
       "      <th>Power</th>\n",
       "      <th>Model</th>\n",
       "      <th>Kilometer</th>\n",
       "      <th>RegistrationMonth</th>\n",
       "      <th>FuelType</th>\n",
       "      <th>Brand</th>\n",
       "      <th>Repaired</th>\n",
       "      <th>DateCreated</th>\n",
       "      <th>NumberOfPictures</th>\n",
       "      <th>PostalCode</th>\n",
       "      <th>LastSeen</th>\n",
       "    </tr>\n",
       "  </thead>\n",
       "  <tbody>\n",
       "    <tr>\n",
       "      <th>0</th>\n",
       "      <td>2016-03-24 11:52:17</td>\n",
       "      <td>480</td>\n",
       "      <td>NaN</td>\n",
       "      <td>1993</td>\n",
       "      <td>manual</td>\n",
       "      <td>0</td>\n",
       "      <td>golf</td>\n",
       "      <td>150000</td>\n",
       "      <td>0</td>\n",
       "      <td>petrol</td>\n",
       "      <td>volkswagen</td>\n",
       "      <td>NaN</td>\n",
       "      <td>2016-03-24 00:00:00</td>\n",
       "      <td>0</td>\n",
       "      <td>70435</td>\n",
       "      <td>2016-04-07 03:16:57</td>\n",
       "    </tr>\n",
       "    <tr>\n",
       "      <th>1</th>\n",
       "      <td>2016-03-24 10:58:45</td>\n",
       "      <td>18300</td>\n",
       "      <td>coupe</td>\n",
       "      <td>2011</td>\n",
       "      <td>manual</td>\n",
       "      <td>190</td>\n",
       "      <td>NaN</td>\n",
       "      <td>125000</td>\n",
       "      <td>5</td>\n",
       "      <td>gasoline</td>\n",
       "      <td>audi</td>\n",
       "      <td>yes</td>\n",
       "      <td>2016-03-24 00:00:00</td>\n",
       "      <td>0</td>\n",
       "      <td>66954</td>\n",
       "      <td>2016-04-07 01:46:50</td>\n",
       "    </tr>\n",
       "    <tr>\n",
       "      <th>2</th>\n",
       "      <td>2016-03-14 12:52:21</td>\n",
       "      <td>9800</td>\n",
       "      <td>suv</td>\n",
       "      <td>2004</td>\n",
       "      <td>auto</td>\n",
       "      <td>163</td>\n",
       "      <td>grand</td>\n",
       "      <td>125000</td>\n",
       "      <td>8</td>\n",
       "      <td>gasoline</td>\n",
       "      <td>jeep</td>\n",
       "      <td>NaN</td>\n",
       "      <td>2016-03-14 00:00:00</td>\n",
       "      <td>0</td>\n",
       "      <td>90480</td>\n",
       "      <td>2016-04-05 12:47:46</td>\n",
       "    </tr>\n",
       "    <tr>\n",
       "      <th>3</th>\n",
       "      <td>2016-03-17 16:54:04</td>\n",
       "      <td>1500</td>\n",
       "      <td>small</td>\n",
       "      <td>2001</td>\n",
       "      <td>manual</td>\n",
       "      <td>75</td>\n",
       "      <td>golf</td>\n",
       "      <td>150000</td>\n",
       "      <td>6</td>\n",
       "      <td>petrol</td>\n",
       "      <td>volkswagen</td>\n",
       "      <td>no</td>\n",
       "      <td>2016-03-17 00:00:00</td>\n",
       "      <td>0</td>\n",
       "      <td>91074</td>\n",
       "      <td>2016-03-17 17:40:17</td>\n",
       "    </tr>\n",
       "    <tr>\n",
       "      <th>4</th>\n",
       "      <td>2016-03-31 17:25:20</td>\n",
       "      <td>3600</td>\n",
       "      <td>small</td>\n",
       "      <td>2008</td>\n",
       "      <td>manual</td>\n",
       "      <td>69</td>\n",
       "      <td>fabia</td>\n",
       "      <td>90000</td>\n",
       "      <td>7</td>\n",
       "      <td>gasoline</td>\n",
       "      <td>skoda</td>\n",
       "      <td>no</td>\n",
       "      <td>2016-03-31 00:00:00</td>\n",
       "      <td>0</td>\n",
       "      <td>60437</td>\n",
       "      <td>2016-04-06 10:17:21</td>\n",
       "    </tr>\n",
       "  </tbody>\n",
       "</table>\n",
       "</div>"
      ],
      "text/plain": [
       "           DateCrawled  Price VehicleType  RegistrationYear Gearbox  Power  \\\n",
       "0  2016-03-24 11:52:17    480         NaN              1993  manual      0   \n",
       "1  2016-03-24 10:58:45  18300       coupe              2011  manual    190   \n",
       "2  2016-03-14 12:52:21   9800         suv              2004    auto    163   \n",
       "3  2016-03-17 16:54:04   1500       small              2001  manual     75   \n",
       "4  2016-03-31 17:25:20   3600       small              2008  manual     69   \n",
       "\n",
       "   Model  Kilometer  RegistrationMonth  FuelType       Brand Repaired  \\\n",
       "0   golf     150000                  0    petrol  volkswagen      NaN   \n",
       "1    NaN     125000                  5  gasoline        audi      yes   \n",
       "2  grand     125000                  8  gasoline        jeep      NaN   \n",
       "3   golf     150000                  6    petrol  volkswagen       no   \n",
       "4  fabia      90000                  7  gasoline       skoda       no   \n",
       "\n",
       "           DateCreated  NumberOfPictures  PostalCode             LastSeen  \n",
       "0  2016-03-24 00:00:00                 0       70435  2016-04-07 03:16:57  \n",
       "1  2016-03-24 00:00:00                 0       66954  2016-04-07 01:46:50  \n",
       "2  2016-03-14 00:00:00                 0       90480  2016-04-05 12:47:46  \n",
       "3  2016-03-17 00:00:00                 0       91074  2016-03-17 17:40:17  \n",
       "4  2016-03-31 00:00:00                 0       60437  2016-04-06 10:17:21  "
      ]
     },
     "execution_count": 3,
     "metadata": {},
     "output_type": "execute_result"
    }
   ],
   "source": [
    "data.head()"
   ]
  },
  {
   "cell_type": "code",
   "execution_count": 4,
   "metadata": {},
   "outputs": [
    {
     "name": "stdout",
     "output_type": "stream",
     "text": [
      "<class 'pandas.core.frame.DataFrame'>\n",
      "RangeIndex: 354369 entries, 0 to 354368\n",
      "Data columns (total 16 columns):\n",
      " #   Column             Non-Null Count   Dtype \n",
      "---  ------             --------------   ----- \n",
      " 0   DateCrawled        354369 non-null  object\n",
      " 1   Price              354369 non-null  int64 \n",
      " 2   VehicleType        316879 non-null  object\n",
      " 3   RegistrationYear   354369 non-null  int64 \n",
      " 4   Gearbox            334536 non-null  object\n",
      " 5   Power              354369 non-null  int64 \n",
      " 6   Model              334664 non-null  object\n",
      " 7   Kilometer          354369 non-null  int64 \n",
      " 8   RegistrationMonth  354369 non-null  int64 \n",
      " 9   FuelType           321474 non-null  object\n",
      " 10  Brand              354369 non-null  object\n",
      " 11  Repaired           283215 non-null  object\n",
      " 12  DateCreated        354369 non-null  object\n",
      " 13  NumberOfPictures   354369 non-null  int64 \n",
      " 14  PostalCode         354369 non-null  int64 \n",
      " 15  LastSeen           354369 non-null  object\n",
      "dtypes: int64(7), object(9)\n",
      "memory usage: 43.3+ MB\n"
     ]
    },
    {
     "data": {
      "text/plain": [
       "None"
      ]
     },
     "metadata": {},
     "output_type": "display_data"
    }
   ],
   "source": [
    "display(data.info())"
   ]
  },
  {
   "cell_type": "markdown",
   "metadata": {},
   "source": [
    "Признаки\n",
    "- DateCrawled — дата скачивания анкеты из базы\n",
    "- VehicleType — тип автомобильного кузова\n",
    "- RegistrationYear — год регистрации автомобиля\n",
    "- Gearbox — тип коробки передач\n",
    "- Power — мощность (л. с.)\n",
    "- Model — модель автомобиля\n",
    "- Kilometer — пробег (км)\n",
    "- RegistrationMonth — месяц регистрации автомобиля\n",
    "- FuelType — тип топлива\n",
    "- Brand — марка автомобиля\n",
    "- Repaired — была машина в ремонте или нет\n",
    "- DateCreated — дата создания анкеты\n",
    "- NumberOfPictures — количество фотографий автомобиля\n",
    "- PostalCode — почтовый индекс владельца анкеты (пользователя)\n",
    "- LastSeen — дата последней активности пользователя\n",
    "\n",
    "Целевой признак\n",
    "- Price — цена (евро)"
   ]
  },
  {
   "cell_type": "code",
   "execution_count": 5,
   "metadata": {},
   "outputs": [
    {
     "data": {
      "text/html": [
       "<div>\n",
       "<style scoped>\n",
       "    .dataframe tbody tr th:only-of-type {\n",
       "        vertical-align: middle;\n",
       "    }\n",
       "\n",
       "    .dataframe tbody tr th {\n",
       "        vertical-align: top;\n",
       "    }\n",
       "\n",
       "    .dataframe thead th {\n",
       "        text-align: right;\n",
       "    }\n",
       "</style>\n",
       "<table border=\"1\" class=\"dataframe\">\n",
       "  <thead>\n",
       "    <tr style=\"text-align: right;\">\n",
       "      <th></th>\n",
       "      <th>DateCrawled</th>\n",
       "      <th>Price</th>\n",
       "      <th>VehicleType</th>\n",
       "      <th>RegistrationYear</th>\n",
       "      <th>Gearbox</th>\n",
       "      <th>Power</th>\n",
       "      <th>Model</th>\n",
       "      <th>Kilometer</th>\n",
       "      <th>RegistrationMonth</th>\n",
       "      <th>FuelType</th>\n",
       "      <th>Brand</th>\n",
       "      <th>Repaired</th>\n",
       "      <th>DateCreated</th>\n",
       "      <th>NumberOfPictures</th>\n",
       "      <th>PostalCode</th>\n",
       "      <th>LastSeen</th>\n",
       "    </tr>\n",
       "  </thead>\n",
       "  <tbody>\n",
       "    <tr>\n",
       "      <th>41529</th>\n",
       "      <td>2016-03-18 18:46:15</td>\n",
       "      <td>1999</td>\n",
       "      <td>wagon</td>\n",
       "      <td>2001</td>\n",
       "      <td>manual</td>\n",
       "      <td>131</td>\n",
       "      <td>passat</td>\n",
       "      <td>150000</td>\n",
       "      <td>7</td>\n",
       "      <td>gasoline</td>\n",
       "      <td>volkswagen</td>\n",
       "      <td>no</td>\n",
       "      <td>2016-03-18 00:00:00</td>\n",
       "      <td>0</td>\n",
       "      <td>36391</td>\n",
       "      <td>2016-03-18 18:46:15</td>\n",
       "    </tr>\n",
       "    <tr>\n",
       "      <th>88087</th>\n",
       "      <td>2016-03-08 18:42:48</td>\n",
       "      <td>1799</td>\n",
       "      <td>coupe</td>\n",
       "      <td>1999</td>\n",
       "      <td>auto</td>\n",
       "      <td>193</td>\n",
       "      <td>clk</td>\n",
       "      <td>20000</td>\n",
       "      <td>7</td>\n",
       "      <td>petrol</td>\n",
       "      <td>mercedes_benz</td>\n",
       "      <td>no</td>\n",
       "      <td>2016-03-08 00:00:00</td>\n",
       "      <td>0</td>\n",
       "      <td>89518</td>\n",
       "      <td>2016-03-09 09:46:57</td>\n",
       "    </tr>\n",
       "    <tr>\n",
       "      <th>90964</th>\n",
       "      <td>2016-03-28 00:56:10</td>\n",
       "      <td>1000</td>\n",
       "      <td>small</td>\n",
       "      <td>2002</td>\n",
       "      <td>manual</td>\n",
       "      <td>83</td>\n",
       "      <td>other</td>\n",
       "      <td>150000</td>\n",
       "      <td>1</td>\n",
       "      <td>petrol</td>\n",
       "      <td>suzuki</td>\n",
       "      <td>no</td>\n",
       "      <td>2016-03-28 00:00:00</td>\n",
       "      <td>0</td>\n",
       "      <td>66589</td>\n",
       "      <td>2016-03-28 08:46:21</td>\n",
       "    </tr>\n",
       "    <tr>\n",
       "      <th>171088</th>\n",
       "      <td>2016-03-08 18:42:48</td>\n",
       "      <td>1799</td>\n",
       "      <td>coupe</td>\n",
       "      <td>1999</td>\n",
       "      <td>auto</td>\n",
       "      <td>193</td>\n",
       "      <td>clk</td>\n",
       "      <td>20000</td>\n",
       "      <td>7</td>\n",
       "      <td>petrol</td>\n",
       "      <td>mercedes_benz</td>\n",
       "      <td>no</td>\n",
       "      <td>2016-03-08 00:00:00</td>\n",
       "      <td>0</td>\n",
       "      <td>89518</td>\n",
       "      <td>2016-03-09 09:46:57</td>\n",
       "    </tr>\n",
       "    <tr>\n",
       "      <th>187735</th>\n",
       "      <td>2016-04-03 09:01:15</td>\n",
       "      <td>4699</td>\n",
       "      <td>coupe</td>\n",
       "      <td>2003</td>\n",
       "      <td>auto</td>\n",
       "      <td>218</td>\n",
       "      <td>clk</td>\n",
       "      <td>125000</td>\n",
       "      <td>6</td>\n",
       "      <td>petrol</td>\n",
       "      <td>mercedes_benz</td>\n",
       "      <td>yes</td>\n",
       "      <td>2016-04-03 00:00:00</td>\n",
       "      <td>0</td>\n",
       "      <td>75196</td>\n",
       "      <td>2016-04-07 09:44:54</td>\n",
       "    </tr>\n",
       "    <tr>\n",
       "      <th>231258</th>\n",
       "      <td>2016-03-28 00:56:10</td>\n",
       "      <td>1000</td>\n",
       "      <td>small</td>\n",
       "      <td>2002</td>\n",
       "      <td>manual</td>\n",
       "      <td>83</td>\n",
       "      <td>other</td>\n",
       "      <td>150000</td>\n",
       "      <td>1</td>\n",
       "      <td>petrol</td>\n",
       "      <td>suzuki</td>\n",
       "      <td>no</td>\n",
       "      <td>2016-03-28 00:00:00</td>\n",
       "      <td>0</td>\n",
       "      <td>66589</td>\n",
       "      <td>2016-03-28 08:46:21</td>\n",
       "    </tr>\n",
       "    <tr>\n",
       "      <th>258109</th>\n",
       "      <td>2016-04-03 09:01:15</td>\n",
       "      <td>4699</td>\n",
       "      <td>coupe</td>\n",
       "      <td>2003</td>\n",
       "      <td>auto</td>\n",
       "      <td>218</td>\n",
       "      <td>clk</td>\n",
       "      <td>125000</td>\n",
       "      <td>6</td>\n",
       "      <td>petrol</td>\n",
       "      <td>mercedes_benz</td>\n",
       "      <td>yes</td>\n",
       "      <td>2016-04-03 00:00:00</td>\n",
       "      <td>0</td>\n",
       "      <td>75196</td>\n",
       "      <td>2016-04-07 09:44:54</td>\n",
       "    </tr>\n",
       "    <tr>\n",
       "      <th>325651</th>\n",
       "      <td>2016-03-18 18:46:15</td>\n",
       "      <td>1999</td>\n",
       "      <td>wagon</td>\n",
       "      <td>2001</td>\n",
       "      <td>manual</td>\n",
       "      <td>131</td>\n",
       "      <td>passat</td>\n",
       "      <td>150000</td>\n",
       "      <td>7</td>\n",
       "      <td>gasoline</td>\n",
       "      <td>volkswagen</td>\n",
       "      <td>no</td>\n",
       "      <td>2016-03-18 00:00:00</td>\n",
       "      <td>0</td>\n",
       "      <td>36391</td>\n",
       "      <td>2016-03-18 18:46:15</td>\n",
       "    </tr>\n",
       "  </tbody>\n",
       "</table>\n",
       "</div>"
      ],
      "text/plain": [
       "                DateCrawled  Price VehicleType  RegistrationYear Gearbox  \\\n",
       "41529   2016-03-18 18:46:15   1999       wagon              2001  manual   \n",
       "88087   2016-03-08 18:42:48   1799       coupe              1999    auto   \n",
       "90964   2016-03-28 00:56:10   1000       small              2002  manual   \n",
       "171088  2016-03-08 18:42:48   1799       coupe              1999    auto   \n",
       "187735  2016-04-03 09:01:15   4699       coupe              2003    auto   \n",
       "231258  2016-03-28 00:56:10   1000       small              2002  manual   \n",
       "258109  2016-04-03 09:01:15   4699       coupe              2003    auto   \n",
       "325651  2016-03-18 18:46:15   1999       wagon              2001  manual   \n",
       "\n",
       "        Power   Model  Kilometer  RegistrationMonth  FuelType          Brand  \\\n",
       "41529     131  passat     150000                  7  gasoline     volkswagen   \n",
       "88087     193     clk      20000                  7    petrol  mercedes_benz   \n",
       "90964      83   other     150000                  1    petrol         suzuki   \n",
       "171088    193     clk      20000                  7    petrol  mercedes_benz   \n",
       "187735    218     clk     125000                  6    petrol  mercedes_benz   \n",
       "231258     83   other     150000                  1    petrol         suzuki   \n",
       "258109    218     clk     125000                  6    petrol  mercedes_benz   \n",
       "325651    131  passat     150000                  7  gasoline     volkswagen   \n",
       "\n",
       "       Repaired          DateCreated  NumberOfPictures  PostalCode  \\\n",
       "41529        no  2016-03-18 00:00:00                 0       36391   \n",
       "88087        no  2016-03-08 00:00:00                 0       89518   \n",
       "90964        no  2016-03-28 00:00:00                 0       66589   \n",
       "171088       no  2016-03-08 00:00:00                 0       89518   \n",
       "187735      yes  2016-04-03 00:00:00                 0       75196   \n",
       "231258       no  2016-03-28 00:00:00                 0       66589   \n",
       "258109      yes  2016-04-03 00:00:00                 0       75196   \n",
       "325651       no  2016-03-18 00:00:00                 0       36391   \n",
       "\n",
       "                   LastSeen  \n",
       "41529   2016-03-18 18:46:15  \n",
       "88087   2016-03-09 09:46:57  \n",
       "90964   2016-03-28 08:46:21  \n",
       "171088  2016-03-09 09:46:57  \n",
       "187735  2016-04-07 09:44:54  \n",
       "231258  2016-03-28 08:46:21  \n",
       "258109  2016-04-07 09:44:54  \n",
       "325651  2016-03-18 18:46:15  "
      ]
     },
     "execution_count": 5,
     "metadata": {},
     "output_type": "execute_result"
    }
   ],
   "source": [
    "data[data.duplicated(keep=False)]"
   ]
  },
  {
   "cell_type": "code",
   "execution_count": 6,
   "metadata": {},
   "outputs": [
    {
     "data": {
      "text/html": [
       "<div>\n",
       "<style scoped>\n",
       "    .dataframe tbody tr th:only-of-type {\n",
       "        vertical-align: middle;\n",
       "    }\n",
       "\n",
       "    .dataframe tbody tr th {\n",
       "        vertical-align: top;\n",
       "    }\n",
       "\n",
       "    .dataframe thead th {\n",
       "        text-align: right;\n",
       "    }\n",
       "</style>\n",
       "<table border=\"1\" class=\"dataframe\">\n",
       "  <thead>\n",
       "    <tr style=\"text-align: right;\">\n",
       "      <th></th>\n",
       "      <th>Price</th>\n",
       "      <th>RegistrationYear</th>\n",
       "      <th>Power</th>\n",
       "      <th>Kilometer</th>\n",
       "      <th>RegistrationMonth</th>\n",
       "      <th>NumberOfPictures</th>\n",
       "      <th>PostalCode</th>\n",
       "    </tr>\n",
       "  </thead>\n",
       "  <tbody>\n",
       "    <tr>\n",
       "      <th>count</th>\n",
       "      <td>354369.000000</td>\n",
       "      <td>354369.000000</td>\n",
       "      <td>354369.000000</td>\n",
       "      <td>354369.000000</td>\n",
       "      <td>354369.000000</td>\n",
       "      <td>354369.0</td>\n",
       "      <td>354369.000000</td>\n",
       "    </tr>\n",
       "    <tr>\n",
       "      <th>mean</th>\n",
       "      <td>4416.656776</td>\n",
       "      <td>2004.234448</td>\n",
       "      <td>110.094337</td>\n",
       "      <td>128211.172535</td>\n",
       "      <td>5.714645</td>\n",
       "      <td>0.0</td>\n",
       "      <td>50508.689087</td>\n",
       "    </tr>\n",
       "    <tr>\n",
       "      <th>std</th>\n",
       "      <td>4514.158514</td>\n",
       "      <td>90.227958</td>\n",
       "      <td>189.850405</td>\n",
       "      <td>37905.341530</td>\n",
       "      <td>3.726421</td>\n",
       "      <td>0.0</td>\n",
       "      <td>25783.096248</td>\n",
       "    </tr>\n",
       "    <tr>\n",
       "      <th>min</th>\n",
       "      <td>0.000000</td>\n",
       "      <td>1000.000000</td>\n",
       "      <td>0.000000</td>\n",
       "      <td>5000.000000</td>\n",
       "      <td>0.000000</td>\n",
       "      <td>0.0</td>\n",
       "      <td>1067.000000</td>\n",
       "    </tr>\n",
       "    <tr>\n",
       "      <th>25%</th>\n",
       "      <td>1050.000000</td>\n",
       "      <td>1999.000000</td>\n",
       "      <td>69.000000</td>\n",
       "      <td>125000.000000</td>\n",
       "      <td>3.000000</td>\n",
       "      <td>0.0</td>\n",
       "      <td>30165.000000</td>\n",
       "    </tr>\n",
       "    <tr>\n",
       "      <th>50%</th>\n",
       "      <td>2700.000000</td>\n",
       "      <td>2003.000000</td>\n",
       "      <td>105.000000</td>\n",
       "      <td>150000.000000</td>\n",
       "      <td>6.000000</td>\n",
       "      <td>0.0</td>\n",
       "      <td>49413.000000</td>\n",
       "    </tr>\n",
       "    <tr>\n",
       "      <th>75%</th>\n",
       "      <td>6400.000000</td>\n",
       "      <td>2008.000000</td>\n",
       "      <td>143.000000</td>\n",
       "      <td>150000.000000</td>\n",
       "      <td>9.000000</td>\n",
       "      <td>0.0</td>\n",
       "      <td>71083.000000</td>\n",
       "    </tr>\n",
       "    <tr>\n",
       "      <th>max</th>\n",
       "      <td>20000.000000</td>\n",
       "      <td>9999.000000</td>\n",
       "      <td>20000.000000</td>\n",
       "      <td>150000.000000</td>\n",
       "      <td>12.000000</td>\n",
       "      <td>0.0</td>\n",
       "      <td>99998.000000</td>\n",
       "    </tr>\n",
       "  </tbody>\n",
       "</table>\n",
       "</div>"
      ],
      "text/plain": [
       "               Price  RegistrationYear          Power      Kilometer  \\\n",
       "count  354369.000000     354369.000000  354369.000000  354369.000000   \n",
       "mean     4416.656776       2004.234448     110.094337  128211.172535   \n",
       "std      4514.158514         90.227958     189.850405   37905.341530   \n",
       "min         0.000000       1000.000000       0.000000    5000.000000   \n",
       "25%      1050.000000       1999.000000      69.000000  125000.000000   \n",
       "50%      2700.000000       2003.000000     105.000000  150000.000000   \n",
       "75%      6400.000000       2008.000000     143.000000  150000.000000   \n",
       "max     20000.000000       9999.000000   20000.000000  150000.000000   \n",
       "\n",
       "       RegistrationMonth  NumberOfPictures     PostalCode  \n",
       "count      354369.000000          354369.0  354369.000000  \n",
       "mean            5.714645               0.0   50508.689087  \n",
       "std             3.726421               0.0   25783.096248  \n",
       "min             0.000000               0.0    1067.000000  \n",
       "25%             3.000000               0.0   30165.000000  \n",
       "50%             6.000000               0.0   49413.000000  \n",
       "75%             9.000000               0.0   71083.000000  \n",
       "max            12.000000               0.0   99998.000000  "
      ]
     },
     "execution_count": 6,
     "metadata": {},
     "output_type": "execute_result"
    }
   ],
   "source": [
    "data.describe()"
   ]
  },
  {
   "cell_type": "markdown",
   "metadata": {},
   "source": [
    "Важные признаки: VehicleType, Gearbox, Power, Kilometer, FuelType, Brand, NotRepaired, RegistrationYear, Model.\n",
    "\n",
    "Признаки NumberOfPictures, PostalCode не несут полезной информации, их можно удалить.\n",
    "DateCrawled, LastSeen, NumberOfPictures могли быть полезными для прогнозирования скорости продажи но для прогнозирования цены авто они не нужны.\n",
    "DateCreated может быть полезна для анализа с учетом инфляции.\n",
    "\n",
    "По многим важным параметрам есть пропуски и нулевые значеня необходимо будет восстановить их или удалить.\n",
    "Есть неадекватные значения параметров необходимо будет восстановить их или удалить\n",
    "Найдено небольшое количество дубликатов необходимо их удалить"
   ]
  },
  {
   "cell_type": "markdown",
   "metadata": {},
   "source": [
    "## Предобработка данных"
   ]
  },
  {
   "cell_type": "markdown",
   "metadata": {},
   "source": [
    "Обраотаем целевой признак price, пропусков данных нет, но есть цена равная нулю, восстановить по среднему было бы некоректно, так как признак целевой и это напрямую повлияет на прогноз."
   ]
  },
  {
   "cell_type": "code",
   "execution_count": 7,
   "metadata": {},
   "outputs": [
    {
     "name": "stdout",
     "output_type": "stream",
     "text": [
      "Колличество объявлений с нулевой ценой: 10772\n"
     ]
    }
   ],
   "source": [
    "print(\"Колличество объявлений с нулевой ценой:\",len(data.loc[data['Price'] == 0]))"
   ]
  },
  {
   "cell_type": "code",
   "execution_count": 8,
   "metadata": {},
   "outputs": [],
   "source": [
    "data = data.loc[data['Price'] != 0]"
   ]
  },
  {
   "cell_type": "markdown",
   "metadata": {},
   "source": [
    "Имеются пропуски в Model к сожалению их нельзя восстановит по Brand придется удалить"
   ]
  },
  {
   "cell_type": "code",
   "execution_count": 9,
   "metadata": {},
   "outputs": [
    {
     "name": "stdout",
     "output_type": "stream",
     "text": [
      "Колличество объявлений с пропущенной моделью: 17521\n"
     ]
    }
   ],
   "source": [
    "print(\"Колличество объявлений с пропущенной моделью:\", len(data.loc[data['Model'].isna()]))"
   ]
  },
  {
   "cell_type": "code",
   "execution_count": 10,
   "metadata": {},
   "outputs": [],
   "source": [
    "data = data.loc[~data['Model'].isna()]"
   ]
  },
  {
   "cell_type": "markdown",
   "metadata": {},
   "source": [
    "Колличество пропусков в VehicleType около 10 процентов, данных слишком много чтобы просто от них избавится, если заменить на среднюю это тоже может сказаться на точности предсказания. Если брать в расчет что в дальнейшем пользователи при оценке автомобиля могут так же не вводить тип кузова, то стоит заменить пропущенные значения на unknown"
   ]
  },
  {
   "cell_type": "code",
   "execution_count": 11,
   "metadata": {},
   "outputs": [
    {
     "name": "stdout",
     "output_type": "stream",
     "text": [
      "Колличество объявлений с незаполненным типом кузова: 28166\n"
     ]
    }
   ],
   "source": [
    "print(\"Колличество объявлений с незаполненным типом кузова:\", len(data.loc[data['VehicleType'].isna()]))"
   ]
  },
  {
   "cell_type": "code",
   "execution_count": 12,
   "metadata": {},
   "outputs": [],
   "source": [
    "data['VehicleType'] = data['VehicleType'].fillna('unknown')"
   ]
  },
  {
   "cell_type": "markdown",
   "metadata": {},
   "source": [
    "Количество явных некорректных данных RegistrationYear незначительно, можно их удалить"
   ]
  },
  {
   "cell_type": "code",
   "execution_count": 13,
   "metadata": {},
   "outputs": [
    {
     "name": "stdout",
     "output_type": "stream",
     "text": [
      "Колличество объявлений с некорректной годом: 83\n"
     ]
    }
   ],
   "source": [
    "print(\"Колличество объявлений с некорректной годом:\",len(data.loc[(data['RegistrationYear'] > 2021) | (data['RegistrationYear'] < 1769)]))"
   ]
  },
  {
   "cell_type": "code",
   "execution_count": 14,
   "metadata": {},
   "outputs": [
    {
     "data": {
      "text/plain": [
       "'2016-04-07 14:36:58'"
      ]
     },
     "execution_count": 14,
     "metadata": {},
     "output_type": "execute_result"
    }
   ],
   "source": [
    "data['DateCrawled'].max()"
   ]
  },
  {
   "cell_type": "code",
   "execution_count": 15,
   "metadata": {},
   "outputs": [],
   "source": [
    "data = data.loc[(data['RegistrationYear'] <= 2016) & (data['RegistrationYear'] >= 1900)]"
   ]
  },
  {
   "cell_type": "markdown",
   "metadata": {},
   "source": [
    "Колличество пропусков в Gearbox тоже велико. Заменю на наиболее встречающийся тип коробки в модели."
   ]
  },
  {
   "cell_type": "code",
   "execution_count": 16,
   "metadata": {},
   "outputs": [
    {
     "name": "stdout",
     "output_type": "stream",
     "text": [
      "Колличество объявлений с незаполненным типом коробки: 12889\n"
     ]
    }
   ],
   "source": [
    "print(\"Колличество объявлений с незаполненным типом коробки:\", len(data.loc[data['Gearbox'].isna()]))"
   ]
  },
  {
   "cell_type": "code",
   "execution_count": 17,
   "metadata": {},
   "outputs": [],
   "source": [
    "data['Gearbox'] = data['Gearbox'].fillna(data\n",
    "                                         .groupby('Model')['Gearbox']\n",
    "                                         .transform(lambda x: x.value_counts().idxmax())\n",
    "                                        )"
   ]
  },
  {
   "cell_type": "markdown",
   "metadata": {},
   "source": [
    "Имеются значения Power равные 0 и больше 1000 что являеться некорректным, можно заменить их на медиану по модели"
   ]
  },
  {
   "cell_type": "code",
   "execution_count": 18,
   "metadata": {},
   "outputs": [
    {
     "name": "stdout",
     "output_type": "stream",
     "text": [
      "Колличество объявлений с некорректной мощностью: 28700\n"
     ]
    }
   ],
   "source": [
    "print(\"Колличество объявлений с некорректной мощностью:\",len(data.loc[(data['Power'] > 1000) | (data['Power'] <= 0)]))"
   ]
  },
  {
   "cell_type": "code",
   "execution_count": 19,
   "metadata": {},
   "outputs": [],
   "source": [
    "data.loc[(data['Power'] > 1000) | (data['Power'] <= 0), 'Power'] = None\n",
    "data['Power'] = data['Power'].fillna(data.groupby('Model')['Power'].transform('median'))\n",
    "data = data.loc[~data['Power'].isna()]\n",
    "data['Power'] = data['Power'].astype('int64')"
   ]
  },
  {
   "cell_type": "markdown",
   "metadata": {},
   "source": [
    "Пропуски в FuelType заменю на среднее по моделям"
   ]
  },
  {
   "cell_type": "code",
   "execution_count": 20,
   "metadata": {},
   "outputs": [],
   "source": [
    "data['FuelType'] = data['FuelType'].fillna(data.groupby('Model')['FuelType'].transform(lambda x: x.value_counts().idxmax()))"
   ]
  },
  {
   "cell_type": "markdown",
   "metadata": {},
   "source": [
    "Пропуски в Repaired состоявляют треть от данных. Скорее всего если автомобиль не был поврежден то этот параметр просто не заполнялся. Заменю на \"no\""
   ]
  },
  {
   "cell_type": "code",
   "execution_count": 21,
   "metadata": {},
   "outputs": [],
   "source": [
    "data[\"Repaired\"].fillna(\"no\", inplace=True)"
   ]
  },
  {
   "cell_type": "markdown",
   "metadata": {},
   "source": [
    "Признак DateCreated преобразуем в количество дней с момента 2014-03-01."
   ]
  },
  {
   "cell_type": "code",
   "execution_count": 22,
   "metadata": {},
   "outputs": [
    {
     "name": "stdout",
     "output_type": "stream",
     "text": [
      "Минимальная дата создания объявления: 2014-03-10 00:00:00\n"
     ]
    }
   ],
   "source": [
    "print(\"Минимальная дата создания объявления:\", min(data['DateCreated']))"
   ]
  },
  {
   "cell_type": "code",
   "execution_count": 23,
   "metadata": {},
   "outputs": [],
   "source": [
    "base_date = pd.Timestamp(min(data['DateCreated']))\n",
    "data['DateCreated'] = data['DateCreated'].map(lambda date : (pd.Timestamp(date) - base_date).days)"
   ]
  },
  {
   "cell_type": "markdown",
   "metadata": {},
   "source": [
    "Удалим дубликаты"
   ]
  },
  {
   "cell_type": "code",
   "execution_count": 24,
   "metadata": {},
   "outputs": [],
   "source": [
    "data = data.drop_duplicates()"
   ]
  },
  {
   "cell_type": "markdown",
   "metadata": {},
   "source": [
    "Удалю ненужные признаки NumberOfPictures, PostalCode, DateCrawled, LastSeen, RegistrationMonth, DateCreated."
   ]
  },
  {
   "cell_type": "code",
   "execution_count": 25,
   "metadata": {},
   "outputs": [],
   "source": [
    "data = data.drop(['NumberOfPictures', 'PostalCode', 'DateCrawled', 'LastSeen', 'RegistrationMonth', 'DateCreated'], axis=1)"
   ]
  },
  {
   "cell_type": "code",
   "execution_count": 26,
   "metadata": {},
   "outputs": [],
   "source": [
    "data = data.reset_index(drop=True)"
   ]
  },
  {
   "cell_type": "code",
   "execution_count": 27,
   "metadata": {},
   "outputs": [
    {
     "name": "stdout",
     "output_type": "stream",
     "text": [
      "<class 'pandas.core.frame.DataFrame'>\n",
      "RangeIndex: 314122 entries, 0 to 314121\n",
      "Data columns (total 10 columns):\n",
      " #   Column            Non-Null Count   Dtype \n",
      "---  ------            --------------   ----- \n",
      " 0   Price             314122 non-null  int64 \n",
      " 1   VehicleType       314122 non-null  object\n",
      " 2   RegistrationYear  314122 non-null  int64 \n",
      " 3   Gearbox           314122 non-null  object\n",
      " 4   Power             314122 non-null  int64 \n",
      " 5   Model             314122 non-null  object\n",
      " 6   Kilometer         314122 non-null  int64 \n",
      " 7   FuelType          314122 non-null  object\n",
      " 8   Brand             314122 non-null  object\n",
      " 9   Repaired          314122 non-null  object\n",
      "dtypes: int64(4), object(6)\n",
      "memory usage: 24.0+ MB\n"
     ]
    }
   ],
   "source": [
    "data.info()"
   ]
  },
  {
   "cell_type": "code",
   "execution_count": 28,
   "metadata": {},
   "outputs": [
    {
     "data": {
      "text/html": [
       "<div>\n",
       "<style scoped>\n",
       "    .dataframe tbody tr th:only-of-type {\n",
       "        vertical-align: middle;\n",
       "    }\n",
       "\n",
       "    .dataframe tbody tr th {\n",
       "        vertical-align: top;\n",
       "    }\n",
       "\n",
       "    .dataframe thead th {\n",
       "        text-align: right;\n",
       "    }\n",
       "</style>\n",
       "<table border=\"1\" class=\"dataframe\">\n",
       "  <thead>\n",
       "    <tr style=\"text-align: right;\">\n",
       "      <th></th>\n",
       "      <th>Price</th>\n",
       "      <th>RegistrationYear</th>\n",
       "      <th>Power</th>\n",
       "      <th>Kilometer</th>\n",
       "    </tr>\n",
       "  </thead>\n",
       "  <tbody>\n",
       "    <tr>\n",
       "      <th>count</th>\n",
       "      <td>314122.000000</td>\n",
       "      <td>314122.000000</td>\n",
       "      <td>314122.000000</td>\n",
       "      <td>314122.000000</td>\n",
       "    </tr>\n",
       "    <tr>\n",
       "      <th>mean</th>\n",
       "      <td>4672.038269</td>\n",
       "      <td>2002.739124</td>\n",
       "      <td>119.590535</td>\n",
       "      <td>128428.524586</td>\n",
       "    </tr>\n",
       "    <tr>\n",
       "      <th>std</th>\n",
       "      <td>4559.202910</td>\n",
       "      <td>6.637302</td>\n",
       "      <td>53.337357</td>\n",
       "      <td>37041.686246</td>\n",
       "    </tr>\n",
       "    <tr>\n",
       "      <th>min</th>\n",
       "      <td>1.000000</td>\n",
       "      <td>1910.000000</td>\n",
       "      <td>1.000000</td>\n",
       "      <td>5000.000000</td>\n",
       "    </tr>\n",
       "    <tr>\n",
       "      <th>25%</th>\n",
       "      <td>1250.000000</td>\n",
       "      <td>1999.000000</td>\n",
       "      <td>75.000000</td>\n",
       "      <td>125000.000000</td>\n",
       "    </tr>\n",
       "    <tr>\n",
       "      <th>50%</th>\n",
       "      <td>2990.000000</td>\n",
       "      <td>2003.000000</td>\n",
       "      <td>110.000000</td>\n",
       "      <td>150000.000000</td>\n",
       "    </tr>\n",
       "    <tr>\n",
       "      <th>75%</th>\n",
       "      <td>6790.000000</td>\n",
       "      <td>2007.000000</td>\n",
       "      <td>147.000000</td>\n",
       "      <td>150000.000000</td>\n",
       "    </tr>\n",
       "    <tr>\n",
       "      <th>max</th>\n",
       "      <td>20000.000000</td>\n",
       "      <td>2016.000000</td>\n",
       "      <td>1000.000000</td>\n",
       "      <td>150000.000000</td>\n",
       "    </tr>\n",
       "  </tbody>\n",
       "</table>\n",
       "</div>"
      ],
      "text/plain": [
       "               Price  RegistrationYear          Power      Kilometer\n",
       "count  314122.000000     314122.000000  314122.000000  314122.000000\n",
       "mean     4672.038269       2002.739124     119.590535  128428.524586\n",
       "std      4559.202910          6.637302      53.337357   37041.686246\n",
       "min         1.000000       1910.000000       1.000000    5000.000000\n",
       "25%      1250.000000       1999.000000      75.000000  125000.000000\n",
       "50%      2990.000000       2003.000000     110.000000  150000.000000\n",
       "75%      6790.000000       2007.000000     147.000000  150000.000000\n",
       "max     20000.000000       2016.000000    1000.000000  150000.000000"
      ]
     },
     "execution_count": 28,
     "metadata": {},
     "output_type": "execute_result"
    }
   ],
   "source": [
    "data.describe()"
   ]
  },
  {
   "cell_type": "code",
   "execution_count": 29,
   "metadata": {},
   "outputs": [
    {
     "name": "stdout",
     "output_type": "stream",
     "text": [
      "Количество дубликатов в финальной версии таблицы: 53704\n"
     ]
    }
   ],
   "source": [
    "print(\"Количество дубликатов в финальной версии таблицы:\", data.duplicated().sum())"
   ]
  },
  {
   "cell_type": "code",
   "execution_count": 30,
   "metadata": {},
   "outputs": [],
   "source": [
    "data = data.drop_duplicates()"
   ]
  },
  {
   "cell_type": "code",
   "execution_count": 31,
   "metadata": {},
   "outputs": [
    {
     "name": "stdout",
     "output_type": "stream",
     "text": [
      "Количество дубликатов в финальной версии таблицы: 0\n"
     ]
    }
   ],
   "source": [
    "print(\"Количество дубликатов в финальной версии таблицы:\", data.duplicated().sum())"
   ]
  },
  {
   "cell_type": "markdown",
   "metadata": {},
   "source": [
    "## Кодирование категориальных признаков"
   ]
  },
  {
   "cell_type": "markdown",
   "metadata": {},
   "source": [
    "Разобью данные на тренировочную, тестовую и валидационную выборки и на признаки и целевой признак"
   ]
  },
  {
   "cell_type": "code",
   "execution_count": 32,
   "metadata": {},
   "outputs": [],
   "source": [
    "target = data['Price']\n",
    "features = data.drop('Price', axis=1)\n",
    "\n"
   ]
  },
  {
   "cell_type": "code",
   "execution_count": 33,
   "metadata": {},
   "outputs": [
    {
     "name": "stdout",
     "output_type": "stream",
     "text": [
      "Размер тренировочной выборки: 156250\n",
      "Размер валидационной выборки: 52084\n",
      "Размер тестовой выборки: 52084\n"
     ]
    }
   ],
   "source": [
    "# Разбиение данных на тренировочную и оставшуюся часть\n",
    "features_trainval, features_test, target_trainval, target_test = train_test_split(\n",
    "    features, target, test_size=0.2, random_state=12345)\n",
    "\n",
    "# Разбиение оставшейся части на валидационную и тестовую выборки\n",
    "features_train, features_val, target_train, target_val = train_test_split(\n",
    "    features_trainval, target_trainval, test_size=0.25, random_state=12345)\n",
    "\n",
    "print(\"Размер тренировочной выборки:\", len(features_train))\n",
    "print(\"Размер валидационной выборки:\", len(features_val))\n",
    "print(\"Размер тестовой выборки:\", len(features_test))"
   ]
  },
  {
   "cell_type": "markdown",
   "metadata": {},
   "source": [
    "Получили features_train, feautures_val, feautures_test, target_train, target_val, target_test. Далее закодируем их.\n"
   ]
  },
  {
   "cell_type": "code",
   "execution_count": 34,
   "metadata": {},
   "outputs": [],
   "source": [
    "#data_reg = data"
   ]
  },
  {
   "cell_type": "code",
   "execution_count": 35,
   "metadata": {},
   "outputs": [],
   "source": [
    "#encoder = OrdinalEncoder()\n",
    "#encoder.fit(data) \n",
    "#data_ordinal = pd.DataFrame(encoder.transform(data), columns=data.columns)\n",
    "\n",
    "#data_ordinal.reset_index()\n",
    "#data.loc[:,['Brand', 'Model']] = data_ordinal.loc[:,['Brand', 'Model']]\n",
    "#data['Brand'] = data['Brand'].astype(int)\n",
    "#data['Model'] = data['Model'].astype(int)"
   ]
  },
  {
   "cell_type": "code",
   "execution_count": 73,
   "metadata": {},
   "outputs": [
    {
     "data": {
      "text/html": [
       "<div>\n",
       "<style scoped>\n",
       "    .dataframe tbody tr th:only-of-type {\n",
       "        vertical-align: middle;\n",
       "    }\n",
       "\n",
       "    .dataframe tbody tr th {\n",
       "        vertical-align: top;\n",
       "    }\n",
       "\n",
       "    .dataframe thead th {\n",
       "        text-align: right;\n",
       "    }\n",
       "</style>\n",
       "<table border=\"1\" class=\"dataframe\">\n",
       "  <thead>\n",
       "    <tr style=\"text-align: right;\">\n",
       "      <th></th>\n",
       "      <th>RegistrationYear</th>\n",
       "      <th>Power</th>\n",
       "      <th>Kilometer</th>\n",
       "      <th>0</th>\n",
       "      <th>1</th>\n",
       "      <th>2</th>\n",
       "      <th>3</th>\n",
       "      <th>4</th>\n",
       "      <th>5</th>\n",
       "      <th>6</th>\n",
       "      <th>...</th>\n",
       "      <th>297</th>\n",
       "      <th>298</th>\n",
       "      <th>299</th>\n",
       "      <th>300</th>\n",
       "      <th>301</th>\n",
       "      <th>302</th>\n",
       "      <th>303</th>\n",
       "      <th>304</th>\n",
       "      <th>305</th>\n",
       "      <th>306</th>\n",
       "    </tr>\n",
       "  </thead>\n",
       "  <tbody>\n",
       "    <tr>\n",
       "      <th>195985</th>\n",
       "      <td>2009</td>\n",
       "      <td>122</td>\n",
       "      <td>50000</td>\n",
       "      <td>0.0</td>\n",
       "      <td>0.0</td>\n",
       "      <td>0.0</td>\n",
       "      <td>0.0</td>\n",
       "      <td>0.0</td>\n",
       "      <td>0.0</td>\n",
       "      <td>0.0</td>\n",
       "      <td>...</td>\n",
       "      <td>0.0</td>\n",
       "      <td>0.0</td>\n",
       "      <td>0.0</td>\n",
       "      <td>0.0</td>\n",
       "      <td>0.0</td>\n",
       "      <td>0.0</td>\n",
       "      <td>0.0</td>\n",
       "      <td>0.0</td>\n",
       "      <td>0.0</td>\n",
       "      <td>0.0</td>\n",
       "    </tr>\n",
       "    <tr>\n",
       "      <th>228151</th>\n",
       "      <td>2005</td>\n",
       "      <td>54</td>\n",
       "      <td>50000</td>\n",
       "      <td>0.0</td>\n",
       "      <td>0.0</td>\n",
       "      <td>0.0</td>\n",
       "      <td>0.0</td>\n",
       "      <td>0.0</td>\n",
       "      <td>0.0</td>\n",
       "      <td>0.0</td>\n",
       "      <td>...</td>\n",
       "      <td>0.0</td>\n",
       "      <td>0.0</td>\n",
       "      <td>0.0</td>\n",
       "      <td>0.0</td>\n",
       "      <td>0.0</td>\n",
       "      <td>0.0</td>\n",
       "      <td>0.0</td>\n",
       "      <td>0.0</td>\n",
       "      <td>0.0</td>\n",
       "      <td>0.0</td>\n",
       "    </tr>\n",
       "    <tr>\n",
       "      <th>33534</th>\n",
       "      <td>1993</td>\n",
       "      <td>150</td>\n",
       "      <td>150000</td>\n",
       "      <td>0.0</td>\n",
       "      <td>0.0</td>\n",
       "      <td>1.0</td>\n",
       "      <td>0.0</td>\n",
       "      <td>0.0</td>\n",
       "      <td>0.0</td>\n",
       "      <td>0.0</td>\n",
       "      <td>...</td>\n",
       "      <td>1.0</td>\n",
       "      <td>0.0</td>\n",
       "      <td>0.0</td>\n",
       "      <td>0.0</td>\n",
       "      <td>0.0</td>\n",
       "      <td>0.0</td>\n",
       "      <td>0.0</td>\n",
       "      <td>1.0</td>\n",
       "      <td>1.0</td>\n",
       "      <td>0.0</td>\n",
       "    </tr>\n",
       "    <tr>\n",
       "      <th>284505</th>\n",
       "      <td>2001</td>\n",
       "      <td>58</td>\n",
       "      <td>90000</td>\n",
       "      <td>0.0</td>\n",
       "      <td>0.0</td>\n",
       "      <td>0.0</td>\n",
       "      <td>0.0</td>\n",
       "      <td>0.0</td>\n",
       "      <td>0.0</td>\n",
       "      <td>0.0</td>\n",
       "      <td>...</td>\n",
       "      <td>0.0</td>\n",
       "      <td>0.0</td>\n",
       "      <td>0.0</td>\n",
       "      <td>0.0</td>\n",
       "      <td>0.0</td>\n",
       "      <td>0.0</td>\n",
       "      <td>0.0</td>\n",
       "      <td>0.0</td>\n",
       "      <td>0.0</td>\n",
       "      <td>0.0</td>\n",
       "    </tr>\n",
       "    <tr>\n",
       "      <th>299576</th>\n",
       "      <td>1982</td>\n",
       "      <td>80</td>\n",
       "      <td>90000</td>\n",
       "      <td>0.0</td>\n",
       "      <td>0.0</td>\n",
       "      <td>0.0</td>\n",
       "      <td>0.0</td>\n",
       "      <td>0.0</td>\n",
       "      <td>0.0</td>\n",
       "      <td>0.0</td>\n",
       "      <td>...</td>\n",
       "      <td>0.0</td>\n",
       "      <td>0.0</td>\n",
       "      <td>0.0</td>\n",
       "      <td>0.0</td>\n",
       "      <td>0.0</td>\n",
       "      <td>0.0</td>\n",
       "      <td>0.0</td>\n",
       "      <td>0.0</td>\n",
       "      <td>0.0</td>\n",
       "      <td>0.0</td>\n",
       "    </tr>\n",
       "    <tr>\n",
       "      <th>...</th>\n",
       "      <td>...</td>\n",
       "      <td>...</td>\n",
       "      <td>...</td>\n",
       "      <td>...</td>\n",
       "      <td>...</td>\n",
       "      <td>...</td>\n",
       "      <td>...</td>\n",
       "      <td>...</td>\n",
       "      <td>...</td>\n",
       "      <td>...</td>\n",
       "      <td>...</td>\n",
       "      <td>...</td>\n",
       "      <td>...</td>\n",
       "      <td>...</td>\n",
       "      <td>...</td>\n",
       "      <td>...</td>\n",
       "      <td>...</td>\n",
       "      <td>...</td>\n",
       "      <td>...</td>\n",
       "      <td>...</td>\n",
       "      <td>...</td>\n",
       "    </tr>\n",
       "    <tr>\n",
       "      <th>198257</th>\n",
       "      <td>2008</td>\n",
       "      <td>170</td>\n",
       "      <td>150000</td>\n",
       "      <td>0.0</td>\n",
       "      <td>0.0</td>\n",
       "      <td>0.0</td>\n",
       "      <td>0.0</td>\n",
       "      <td>0.0</td>\n",
       "      <td>0.0</td>\n",
       "      <td>0.0</td>\n",
       "      <td>...</td>\n",
       "      <td>0.0</td>\n",
       "      <td>0.0</td>\n",
       "      <td>0.0</td>\n",
       "      <td>0.0</td>\n",
       "      <td>0.0</td>\n",
       "      <td>0.0</td>\n",
       "      <td>0.0</td>\n",
       "      <td>0.0</td>\n",
       "      <td>0.0</td>\n",
       "      <td>0.0</td>\n",
       "    </tr>\n",
       "    <tr>\n",
       "      <th>70364</th>\n",
       "      <td>2010</td>\n",
       "      <td>90</td>\n",
       "      <td>125000</td>\n",
       "      <td>0.0</td>\n",
       "      <td>0.0</td>\n",
       "      <td>0.0</td>\n",
       "      <td>0.0</td>\n",
       "      <td>0.0</td>\n",
       "      <td>0.0</td>\n",
       "      <td>0.0</td>\n",
       "      <td>...</td>\n",
       "      <td>1.0</td>\n",
       "      <td>0.0</td>\n",
       "      <td>0.0</td>\n",
       "      <td>0.0</td>\n",
       "      <td>0.0</td>\n",
       "      <td>0.0</td>\n",
       "      <td>0.0</td>\n",
       "      <td>1.0</td>\n",
       "      <td>1.0</td>\n",
       "      <td>0.0</td>\n",
       "    </tr>\n",
       "    <tr>\n",
       "      <th>116989</th>\n",
       "      <td>1998</td>\n",
       "      <td>133</td>\n",
       "      <td>90000</td>\n",
       "      <td>0.0</td>\n",
       "      <td>0.0</td>\n",
       "      <td>0.0</td>\n",
       "      <td>0.0</td>\n",
       "      <td>0.0</td>\n",
       "      <td>0.0</td>\n",
       "      <td>0.0</td>\n",
       "      <td>...</td>\n",
       "      <td>1.0</td>\n",
       "      <td>0.0</td>\n",
       "      <td>0.0</td>\n",
       "      <td>1.0</td>\n",
       "      <td>0.0</td>\n",
       "      <td>0.0</td>\n",
       "      <td>0.0</td>\n",
       "      <td>0.0</td>\n",
       "      <td>1.0</td>\n",
       "      <td>0.0</td>\n",
       "    </tr>\n",
       "    <tr>\n",
       "      <th>7501</th>\n",
       "      <td>2006</td>\n",
       "      <td>125</td>\n",
       "      <td>90000</td>\n",
       "      <td>0.0</td>\n",
       "      <td>0.0</td>\n",
       "      <td>1.0</td>\n",
       "      <td>0.0</td>\n",
       "      <td>0.0</td>\n",
       "      <td>0.0</td>\n",
       "      <td>0.0</td>\n",
       "      <td>...</td>\n",
       "      <td>1.0</td>\n",
       "      <td>0.0</td>\n",
       "      <td>0.0</td>\n",
       "      <td>0.0</td>\n",
       "      <td>0.0</td>\n",
       "      <td>0.0</td>\n",
       "      <td>0.0</td>\n",
       "      <td>1.0</td>\n",
       "      <td>1.0</td>\n",
       "      <td>0.0</td>\n",
       "    </tr>\n",
       "    <tr>\n",
       "      <th>60891</th>\n",
       "      <td>2001</td>\n",
       "      <td>107</td>\n",
       "      <td>150000</td>\n",
       "      <td>0.0</td>\n",
       "      <td>0.0</td>\n",
       "      <td>0.0</td>\n",
       "      <td>0.0</td>\n",
       "      <td>0.0</td>\n",
       "      <td>0.0</td>\n",
       "      <td>0.0</td>\n",
       "      <td>...</td>\n",
       "      <td>1.0</td>\n",
       "      <td>0.0</td>\n",
       "      <td>0.0</td>\n",
       "      <td>1.0</td>\n",
       "      <td>0.0</td>\n",
       "      <td>0.0</td>\n",
       "      <td>0.0</td>\n",
       "      <td>0.0</td>\n",
       "      <td>1.0</td>\n",
       "      <td>0.0</td>\n",
       "    </tr>\n",
       "  </tbody>\n",
       "</table>\n",
       "<p>156250 rows × 310 columns</p>\n",
       "</div>"
      ],
      "text/plain": [
       "        RegistrationYear  Power  Kilometer    0    1    2    3    4    5    6  \\\n",
       "195985              2009    122      50000  0.0  0.0  0.0  0.0  0.0  0.0  0.0   \n",
       "228151              2005     54      50000  0.0  0.0  0.0  0.0  0.0  0.0  0.0   \n",
       "33534               1993    150     150000  0.0  0.0  1.0  0.0  0.0  0.0  0.0   \n",
       "284505              2001     58      90000  0.0  0.0  0.0  0.0  0.0  0.0  0.0   \n",
       "299576              1982     80      90000  0.0  0.0  0.0  0.0  0.0  0.0  0.0   \n",
       "...                  ...    ...        ...  ...  ...  ...  ...  ...  ...  ...   \n",
       "198257              2008    170     150000  0.0  0.0  0.0  0.0  0.0  0.0  0.0   \n",
       "70364               2010     90     125000  0.0  0.0  0.0  0.0  0.0  0.0  0.0   \n",
       "116989              1998    133      90000  0.0  0.0  0.0  0.0  0.0  0.0  0.0   \n",
       "7501                2006    125      90000  0.0  0.0  1.0  0.0  0.0  0.0  0.0   \n",
       "60891               2001    107     150000  0.0  0.0  0.0  0.0  0.0  0.0  0.0   \n",
       "\n",
       "        ...  297  298  299  300  301  302  303  304  305  306  \n",
       "195985  ...  0.0  0.0  0.0  0.0  0.0  0.0  0.0  0.0  0.0  0.0  \n",
       "228151  ...  0.0  0.0  0.0  0.0  0.0  0.0  0.0  0.0  0.0  0.0  \n",
       "33534   ...  1.0  0.0  0.0  0.0  0.0  0.0  0.0  1.0  1.0  0.0  \n",
       "284505  ...  0.0  0.0  0.0  0.0  0.0  0.0  0.0  0.0  0.0  0.0  \n",
       "299576  ...  0.0  0.0  0.0  0.0  0.0  0.0  0.0  0.0  0.0  0.0  \n",
       "...     ...  ...  ...  ...  ...  ...  ...  ...  ...  ...  ...  \n",
       "198257  ...  0.0  0.0  0.0  0.0  0.0  0.0  0.0  0.0  0.0  0.0  \n",
       "70364   ...  1.0  0.0  0.0  0.0  0.0  0.0  0.0  1.0  1.0  0.0  \n",
       "116989  ...  1.0  0.0  0.0  1.0  0.0  0.0  0.0  0.0  1.0  0.0  \n",
       "7501    ...  1.0  0.0  0.0  0.0  0.0  0.0  0.0  1.0  1.0  0.0  \n",
       "60891   ...  1.0  0.0  0.0  1.0  0.0  0.0  0.0  0.0  1.0  0.0  \n",
       "\n",
       "[156250 rows x 310 columns]"
      ]
     },
     "execution_count": 73,
     "metadata": {},
     "output_type": "execute_result"
    }
   ],
   "source": [
    "encoder = OneHotEncoder(handle_unknown='ignore')\n",
    "\n",
    "encoder_feautures_train = pd.DataFrame(encoder.fit_transform(\n",
    "    features_train[['Brand', 'Model', 'VehicleType', 'Gearbox', 'FuelType', 'Repaired']]). toarray ())\n",
    "\n",
    "final_features_train = features_train.join(encoder_feautures_train)\n",
    "\n",
    "final_features_train.drop(['Brand', 'Model', 'VehicleType', 'Gearbox', 'FuelType', 'Repaired'], axis=1, inplace=True)\n",
    "\n",
    "final_features_train.fillna(0, inplace=True)\n",
    "\n",
    "final_features_train"
   ]
  },
  {
   "cell_type": "code",
   "execution_count": 37,
   "metadata": {},
   "outputs": [],
   "source": [
    "encoder_feautures_val = pd.DataFrame(encoder.transform(\n",
    "features_val[['Brand', 'Model', 'VehicleType', 'Gearbox', 'FuelType', 'Repaired']]). toarray ())\n",
    "\n",
    "final_features_val = features_val.join(encoder_feautures_val)\n",
    "\n",
    "final_features_val.drop(['Brand', 'Model', 'VehicleType', 'Gearbox', 'FuelType', 'Repaired'], axis=1, inplace=True)\n",
    "\n",
    "final_features_val.fillna(0, inplace=True)"
   ]
  },
  {
   "cell_type": "code",
   "execution_count": 38,
   "metadata": {},
   "outputs": [],
   "source": [
    "encoder_feautures_test = pd.DataFrame(encoder.transform(\n",
    "features_test[['Brand', 'Model', 'VehicleType', 'Gearbox', 'FuelType', 'Repaired']]). toarray ())\n",
    "\n",
    "final_features_test = features_val.join(encoder_feautures_test)\n",
    "\n",
    "final_features_test.drop(['Brand', 'Model', 'VehicleType', 'Gearbox', 'FuelType', 'Repaired'], axis=1, inplace=True)\n",
    "\n",
    "final_features_test.fillna(0, inplace=True)"
   ]
  },
  {
   "cell_type": "code",
   "execution_count": 39,
   "metadata": {},
   "outputs": [
    {
     "data": {
      "text/html": [
       "<div>\n",
       "<style scoped>\n",
       "    .dataframe tbody tr th:only-of-type {\n",
       "        vertical-align: middle;\n",
       "    }\n",
       "\n",
       "    .dataframe tbody tr th {\n",
       "        vertical-align: top;\n",
       "    }\n",
       "\n",
       "    .dataframe thead th {\n",
       "        text-align: right;\n",
       "    }\n",
       "</style>\n",
       "<table border=\"1\" class=\"dataframe\">\n",
       "  <thead>\n",
       "    <tr style=\"text-align: right;\">\n",
       "      <th></th>\n",
       "      <th>RegistrationYear</th>\n",
       "      <th>Power</th>\n",
       "      <th>Kilometer</th>\n",
       "      <th>0</th>\n",
       "      <th>1</th>\n",
       "      <th>2</th>\n",
       "      <th>3</th>\n",
       "      <th>4</th>\n",
       "      <th>5</th>\n",
       "      <th>6</th>\n",
       "      <th>...</th>\n",
       "      <th>297</th>\n",
       "      <th>298</th>\n",
       "      <th>299</th>\n",
       "      <th>300</th>\n",
       "      <th>301</th>\n",
       "      <th>302</th>\n",
       "      <th>303</th>\n",
       "      <th>304</th>\n",
       "      <th>305</th>\n",
       "      <th>306</th>\n",
       "    </tr>\n",
       "  </thead>\n",
       "  <tbody>\n",
       "    <tr>\n",
       "      <th>195985</th>\n",
       "      <td>2009</td>\n",
       "      <td>122</td>\n",
       "      <td>50000</td>\n",
       "      <td>0.0</td>\n",
       "      <td>0.0</td>\n",
       "      <td>0.0</td>\n",
       "      <td>0.0</td>\n",
       "      <td>0.0</td>\n",
       "      <td>0.0</td>\n",
       "      <td>0.0</td>\n",
       "      <td>...</td>\n",
       "      <td>0.0</td>\n",
       "      <td>0.0</td>\n",
       "      <td>0.0</td>\n",
       "      <td>0.0</td>\n",
       "      <td>0.0</td>\n",
       "      <td>0.0</td>\n",
       "      <td>0.0</td>\n",
       "      <td>0.0</td>\n",
       "      <td>0.0</td>\n",
       "      <td>0.0</td>\n",
       "    </tr>\n",
       "    <tr>\n",
       "      <th>228151</th>\n",
       "      <td>2005</td>\n",
       "      <td>54</td>\n",
       "      <td>50000</td>\n",
       "      <td>0.0</td>\n",
       "      <td>0.0</td>\n",
       "      <td>0.0</td>\n",
       "      <td>0.0</td>\n",
       "      <td>0.0</td>\n",
       "      <td>0.0</td>\n",
       "      <td>0.0</td>\n",
       "      <td>...</td>\n",
       "      <td>0.0</td>\n",
       "      <td>0.0</td>\n",
       "      <td>0.0</td>\n",
       "      <td>0.0</td>\n",
       "      <td>0.0</td>\n",
       "      <td>0.0</td>\n",
       "      <td>0.0</td>\n",
       "      <td>0.0</td>\n",
       "      <td>0.0</td>\n",
       "      <td>0.0</td>\n",
       "    </tr>\n",
       "    <tr>\n",
       "      <th>33534</th>\n",
       "      <td>1993</td>\n",
       "      <td>150</td>\n",
       "      <td>150000</td>\n",
       "      <td>0.0</td>\n",
       "      <td>0.0</td>\n",
       "      <td>1.0</td>\n",
       "      <td>0.0</td>\n",
       "      <td>0.0</td>\n",
       "      <td>0.0</td>\n",
       "      <td>0.0</td>\n",
       "      <td>...</td>\n",
       "      <td>1.0</td>\n",
       "      <td>0.0</td>\n",
       "      <td>0.0</td>\n",
       "      <td>0.0</td>\n",
       "      <td>0.0</td>\n",
       "      <td>0.0</td>\n",
       "      <td>0.0</td>\n",
       "      <td>1.0</td>\n",
       "      <td>1.0</td>\n",
       "      <td>0.0</td>\n",
       "    </tr>\n",
       "    <tr>\n",
       "      <th>284505</th>\n",
       "      <td>2001</td>\n",
       "      <td>58</td>\n",
       "      <td>90000</td>\n",
       "      <td>0.0</td>\n",
       "      <td>0.0</td>\n",
       "      <td>0.0</td>\n",
       "      <td>0.0</td>\n",
       "      <td>0.0</td>\n",
       "      <td>0.0</td>\n",
       "      <td>0.0</td>\n",
       "      <td>...</td>\n",
       "      <td>0.0</td>\n",
       "      <td>0.0</td>\n",
       "      <td>0.0</td>\n",
       "      <td>0.0</td>\n",
       "      <td>0.0</td>\n",
       "      <td>0.0</td>\n",
       "      <td>0.0</td>\n",
       "      <td>0.0</td>\n",
       "      <td>0.0</td>\n",
       "      <td>0.0</td>\n",
       "    </tr>\n",
       "    <tr>\n",
       "      <th>299576</th>\n",
       "      <td>1982</td>\n",
       "      <td>80</td>\n",
       "      <td>90000</td>\n",
       "      <td>0.0</td>\n",
       "      <td>0.0</td>\n",
       "      <td>0.0</td>\n",
       "      <td>0.0</td>\n",
       "      <td>0.0</td>\n",
       "      <td>0.0</td>\n",
       "      <td>0.0</td>\n",
       "      <td>...</td>\n",
       "      <td>0.0</td>\n",
       "      <td>0.0</td>\n",
       "      <td>0.0</td>\n",
       "      <td>0.0</td>\n",
       "      <td>0.0</td>\n",
       "      <td>0.0</td>\n",
       "      <td>0.0</td>\n",
       "      <td>0.0</td>\n",
       "      <td>0.0</td>\n",
       "      <td>0.0</td>\n",
       "    </tr>\n",
       "    <tr>\n",
       "      <th>...</th>\n",
       "      <td>...</td>\n",
       "      <td>...</td>\n",
       "      <td>...</td>\n",
       "      <td>...</td>\n",
       "      <td>...</td>\n",
       "      <td>...</td>\n",
       "      <td>...</td>\n",
       "      <td>...</td>\n",
       "      <td>...</td>\n",
       "      <td>...</td>\n",
       "      <td>...</td>\n",
       "      <td>...</td>\n",
       "      <td>...</td>\n",
       "      <td>...</td>\n",
       "      <td>...</td>\n",
       "      <td>...</td>\n",
       "      <td>...</td>\n",
       "      <td>...</td>\n",
       "      <td>...</td>\n",
       "      <td>...</td>\n",
       "      <td>...</td>\n",
       "    </tr>\n",
       "    <tr>\n",
       "      <th>198257</th>\n",
       "      <td>2008</td>\n",
       "      <td>170</td>\n",
       "      <td>150000</td>\n",
       "      <td>0.0</td>\n",
       "      <td>0.0</td>\n",
       "      <td>0.0</td>\n",
       "      <td>0.0</td>\n",
       "      <td>0.0</td>\n",
       "      <td>0.0</td>\n",
       "      <td>0.0</td>\n",
       "      <td>...</td>\n",
       "      <td>0.0</td>\n",
       "      <td>0.0</td>\n",
       "      <td>0.0</td>\n",
       "      <td>0.0</td>\n",
       "      <td>0.0</td>\n",
       "      <td>0.0</td>\n",
       "      <td>0.0</td>\n",
       "      <td>0.0</td>\n",
       "      <td>0.0</td>\n",
       "      <td>0.0</td>\n",
       "    </tr>\n",
       "    <tr>\n",
       "      <th>70364</th>\n",
       "      <td>2010</td>\n",
       "      <td>90</td>\n",
       "      <td>125000</td>\n",
       "      <td>0.0</td>\n",
       "      <td>0.0</td>\n",
       "      <td>0.0</td>\n",
       "      <td>0.0</td>\n",
       "      <td>0.0</td>\n",
       "      <td>0.0</td>\n",
       "      <td>0.0</td>\n",
       "      <td>...</td>\n",
       "      <td>1.0</td>\n",
       "      <td>0.0</td>\n",
       "      <td>0.0</td>\n",
       "      <td>0.0</td>\n",
       "      <td>0.0</td>\n",
       "      <td>0.0</td>\n",
       "      <td>0.0</td>\n",
       "      <td>1.0</td>\n",
       "      <td>1.0</td>\n",
       "      <td>0.0</td>\n",
       "    </tr>\n",
       "    <tr>\n",
       "      <th>116989</th>\n",
       "      <td>1998</td>\n",
       "      <td>133</td>\n",
       "      <td>90000</td>\n",
       "      <td>0.0</td>\n",
       "      <td>0.0</td>\n",
       "      <td>0.0</td>\n",
       "      <td>0.0</td>\n",
       "      <td>0.0</td>\n",
       "      <td>0.0</td>\n",
       "      <td>0.0</td>\n",
       "      <td>...</td>\n",
       "      <td>1.0</td>\n",
       "      <td>0.0</td>\n",
       "      <td>0.0</td>\n",
       "      <td>1.0</td>\n",
       "      <td>0.0</td>\n",
       "      <td>0.0</td>\n",
       "      <td>0.0</td>\n",
       "      <td>0.0</td>\n",
       "      <td>1.0</td>\n",
       "      <td>0.0</td>\n",
       "    </tr>\n",
       "    <tr>\n",
       "      <th>7501</th>\n",
       "      <td>2006</td>\n",
       "      <td>125</td>\n",
       "      <td>90000</td>\n",
       "      <td>0.0</td>\n",
       "      <td>0.0</td>\n",
       "      <td>1.0</td>\n",
       "      <td>0.0</td>\n",
       "      <td>0.0</td>\n",
       "      <td>0.0</td>\n",
       "      <td>0.0</td>\n",
       "      <td>...</td>\n",
       "      <td>1.0</td>\n",
       "      <td>0.0</td>\n",
       "      <td>0.0</td>\n",
       "      <td>0.0</td>\n",
       "      <td>0.0</td>\n",
       "      <td>0.0</td>\n",
       "      <td>0.0</td>\n",
       "      <td>1.0</td>\n",
       "      <td>1.0</td>\n",
       "      <td>0.0</td>\n",
       "    </tr>\n",
       "    <tr>\n",
       "      <th>60891</th>\n",
       "      <td>2001</td>\n",
       "      <td>107</td>\n",
       "      <td>150000</td>\n",
       "      <td>0.0</td>\n",
       "      <td>0.0</td>\n",
       "      <td>0.0</td>\n",
       "      <td>0.0</td>\n",
       "      <td>0.0</td>\n",
       "      <td>0.0</td>\n",
       "      <td>0.0</td>\n",
       "      <td>...</td>\n",
       "      <td>1.0</td>\n",
       "      <td>0.0</td>\n",
       "      <td>0.0</td>\n",
       "      <td>1.0</td>\n",
       "      <td>0.0</td>\n",
       "      <td>0.0</td>\n",
       "      <td>0.0</td>\n",
       "      <td>0.0</td>\n",
       "      <td>1.0</td>\n",
       "      <td>0.0</td>\n",
       "    </tr>\n",
       "  </tbody>\n",
       "</table>\n",
       "<p>156250 rows × 310 columns</p>\n",
       "</div>"
      ],
      "text/plain": [
       "        RegistrationYear  Power  Kilometer    0    1    2    3    4    5    6  \\\n",
       "195985              2009    122      50000  0.0  0.0  0.0  0.0  0.0  0.0  0.0   \n",
       "228151              2005     54      50000  0.0  0.0  0.0  0.0  0.0  0.0  0.0   \n",
       "33534               1993    150     150000  0.0  0.0  1.0  0.0  0.0  0.0  0.0   \n",
       "284505              2001     58      90000  0.0  0.0  0.0  0.0  0.0  0.0  0.0   \n",
       "299576              1982     80      90000  0.0  0.0  0.0  0.0  0.0  0.0  0.0   \n",
       "...                  ...    ...        ...  ...  ...  ...  ...  ...  ...  ...   \n",
       "198257              2008    170     150000  0.0  0.0  0.0  0.0  0.0  0.0  0.0   \n",
       "70364               2010     90     125000  0.0  0.0  0.0  0.0  0.0  0.0  0.0   \n",
       "116989              1998    133      90000  0.0  0.0  0.0  0.0  0.0  0.0  0.0   \n",
       "7501                2006    125      90000  0.0  0.0  1.0  0.0  0.0  0.0  0.0   \n",
       "60891               2001    107     150000  0.0  0.0  0.0  0.0  0.0  0.0  0.0   \n",
       "\n",
       "        ...  297  298  299  300  301  302  303  304  305  306  \n",
       "195985  ...  0.0  0.0  0.0  0.0  0.0  0.0  0.0  0.0  0.0  0.0  \n",
       "228151  ...  0.0  0.0  0.0  0.0  0.0  0.0  0.0  0.0  0.0  0.0  \n",
       "33534   ...  1.0  0.0  0.0  0.0  0.0  0.0  0.0  1.0  1.0  0.0  \n",
       "284505  ...  0.0  0.0  0.0  0.0  0.0  0.0  0.0  0.0  0.0  0.0  \n",
       "299576  ...  0.0  0.0  0.0  0.0  0.0  0.0  0.0  0.0  0.0  0.0  \n",
       "...     ...  ...  ...  ...  ...  ...  ...  ...  ...  ...  ...  \n",
       "198257  ...  0.0  0.0  0.0  0.0  0.0  0.0  0.0  0.0  0.0  0.0  \n",
       "70364   ...  1.0  0.0  0.0  0.0  0.0  0.0  0.0  1.0  1.0  0.0  \n",
       "116989  ...  1.0  0.0  0.0  1.0  0.0  0.0  0.0  0.0  1.0  0.0  \n",
       "7501    ...  1.0  0.0  0.0  0.0  0.0  0.0  0.0  1.0  1.0  0.0  \n",
       "60891   ...  1.0  0.0  0.0  1.0  0.0  0.0  0.0  0.0  1.0  0.0  \n",
       "\n",
       "[156250 rows x 310 columns]"
      ]
     },
     "execution_count": 39,
     "metadata": {},
     "output_type": "execute_result"
    }
   ],
   "source": [
    "final_features_train"
   ]
  },
  {
   "cell_type": "markdown",
   "metadata": {},
   "source": [
    "Признаки VehicleType, Gearbox, FuelType, NotRepaired закодируем one-hot encoding."
   ]
  },
  {
   "cell_type": "code",
   "execution_count": 40,
   "metadata": {},
   "outputs": [],
   "source": [
    "#def dum(data, column):\n",
    "    #df = pd.get_dummies(data[column], prefix=column, drop_first=True)\n",
    " #  data = data.drop(column, axis=1)\n",
    "  #  return data.join(df)"
   ]
  },
  {
   "cell_type": "code",
   "execution_count": 41,
   "metadata": {},
   "outputs": [],
   "source": [
    "#data = dum(data, 'VehicleType')\n",
    "#data = dum(data, 'Gearbox')\n",
    "#data = dum(data, 'FuelType')\n",
    "#data = dum(data, 'NotRepaired')"
   ]
  },
  {
   "cell_type": "code",
   "execution_count": 42,
   "metadata": {},
   "outputs": [],
   "source": [
    "#features_train"
   ]
  },
  {
   "cell_type": "markdown",
   "metadata": {},
   "source": [
    "Стандартизирую численные признаки."
   ]
  },
  {
   "cell_type": "code",
   "execution_count": 43,
   "metadata": {},
   "outputs": [],
   "source": [
    "numeric = ['RegistrationYear', 'Power', 'Kilometer']"
   ]
  },
  {
   "cell_type": "code",
   "execution_count": 44,
   "metadata": {},
   "outputs": [
    {
     "name": "stdout",
     "output_type": "stream",
     "text": [
      "        RegistrationYear     Power  Kilometer    0    1    2    3    4    5  \\\n",
      "95063           1.193568  0.013916  -1.488796  0.0  0.0  0.0  0.0  0.0  0.0   \n",
      "163478         -0.995890  0.088352   0.610263  0.0  0.0  0.0  0.0  0.0  0.0   \n",
      "252247          0.901640 -0.376871  -0.045693  0.0  0.0  0.0  0.0  0.0  0.0   \n",
      "79403           1.193568  1.465411  -2.013561  0.0  0.0  0.0  0.0  0.0  0.0   \n",
      "35406           0.609712  0.348877   0.610263  0.0  0.0  0.0  0.0  0.0  0.0   \n",
      "\n",
      "          6  ...  297  298  299  300  301  302  303  304  305  306  \n",
      "95063   0.0  ...  0.0  0.0  0.0  0.0  0.0  0.0  0.0  0.0  0.0  0.0  \n",
      "163478  0.0  ...  0.0  0.0  0.0  0.0  0.0  0.0  0.0  0.0  0.0  0.0  \n",
      "252247  0.0  ...  0.0  0.0  0.0  0.0  0.0  0.0  0.0  0.0  0.0  0.0  \n",
      "79403   0.0  ...  0.0  0.0  0.0  0.0  0.0  0.0  0.0  0.0  0.0  0.0  \n",
      "35406   0.0  ...  1.0  0.0  0.0  0.0  0.0  0.0  0.0  1.0  0.0  1.0  \n",
      "\n",
      "[5 rows x 310 columns]\n"
     ]
    }
   ],
   "source": [
    "scaler = StandardScaler()\n",
    "scaler.fit(final_features_train[numeric])\n",
    "final_features_train[numeric] = scaler.transform(final_features_train[numeric])\n",
    "final_features_val[numeric] = scaler.transform(final_features_val[numeric])\n",
    "final_features_test[numeric] = scaler.transform(final_features_test[numeric])\n",
    "print(final_features_val.head())"
   ]
  },
  {
   "cell_type": "markdown",
   "metadata": {},
   "source": [
    "Вывод\n",
    "\n",
    "Дубликаты удалены. Отобраны признаки, необходимые для построения моделей.\n",
    "Пропущенные значения, выбросы, неправдоподобные значения в признаках заполнены на основе имеющейся инфрмации или удалены.\n",
    "Категориальные признаки преобразованы с помощью one-hot encoding.\n",
    "Признак с большим колличеством категорий закодирован техникой Ordinal Encoding.\n",
    "Данные разделены на тестовую и обучающую выборки и стандартизированны"
   ]
  },
  {
   "cell_type": "markdown",
   "metadata": {},
   "source": [
    "## Обучение моделей"
   ]
  },
  {
   "cell_type": "markdown",
   "metadata": {},
   "source": [
    "# Linear Regression"
   ]
  },
  {
   "cell_type": "code",
   "execution_count": 45,
   "metadata": {},
   "outputs": [
    {
     "name": "stdout",
     "output_type": "stream",
     "text": [
      "CPU times: user 10.3 s, sys: 3.29 s, total: 13.6 s\n",
      "Wall time: 13.6 s\n"
     ]
    },
    {
     "data": {
      "text/plain": [
       "LinearRegression()"
      ]
     },
     "execution_count": 45,
     "metadata": {},
     "output_type": "execute_result"
    }
   ],
   "source": [
    "%%time\n",
    "lmodel = LinearRegression()\n",
    "lmodel.fit(final_features_train, target_train)"
   ]
  },
  {
   "cell_type": "code",
   "execution_count": 46,
   "metadata": {},
   "outputs": [
    {
     "name": "stdout",
     "output_type": "stream",
     "text": [
      "CPU times: user 94.4 ms, sys: 93.4 ms, total: 188 ms\n",
      "Wall time: 216 ms\n"
     ]
    }
   ],
   "source": [
    "%%time\n",
    "preds_lmodel = lmodel.predict(final_features_val)"
   ]
  },
  {
   "cell_type": "code",
   "execution_count": 47,
   "metadata": {},
   "outputs": [
    {
     "name": "stdout",
     "output_type": "stream",
     "text": [
      "RMSE для линейной модели на тестовой выборке: 3275.22\n"
     ]
    }
   ],
   "source": [
    "mse_lmodel = mean_squared_error(target_val, preds_lmodel)\n",
    "print(\"RMSE для линейной модели на тестовой выборке:\", round((mse_lmodel) ** 0.5, 2))"
   ]
  },
  {
   "cell_type": "markdown",
   "metadata": {},
   "source": [
    "# Регрессия Ridge"
   ]
  },
  {
   "cell_type": "code",
   "execution_count": 48,
   "metadata": {},
   "outputs": [],
   "source": [
    "#%%time\n",
    "\n",
    "#rmodel = Ridge()\n",
    "#hyperparams = [{'solver':['auto', 'svd', 'cholesky', 'lsqr','sparse_cg']}]\n",
    "#rmodel = GridSearchCV(rmodel, hyperparams, scoring='neg_mean_squared_error')\n",
    "#rmodel.fit(final_features_train, target_train)\n",
    "#print(rmodel.best_params_)"
   ]
  },
  {
   "cell_type": "code",
   "execution_count": 49,
   "metadata": {},
   "outputs": [],
   "source": [
    "#%%time\n",
    "#preds_rmodel = rmodel.predict(final_features_val)"
   ]
  },
  {
   "cell_type": "code",
   "execution_count": 50,
   "metadata": {},
   "outputs": [],
   "source": [
    "#mse_rmodel = mean_squared_error(target_test, preds_rmodel)\n",
    "#print(\"RMSE для Ridge модели на тестовой выборке:\", round((mse_rmodel) ** 0.5, 2))"
   ]
  },
  {
   "cell_type": "markdown",
   "metadata": {},
   "source": [
    "# Регрессия DecisionTreeRegresso"
   ]
  },
  {
   "cell_type": "code",
   "execution_count": 51,
   "metadata": {},
   "outputs": [
    {
     "name": "stdout",
     "output_type": "stream",
     "text": [
      "CPU times: user 2.83 s, sys: 15.6 ms, total: 2.84 s\n",
      "Wall time: 2.84 s\n"
     ]
    },
    {
     "data": {
      "text/plain": [
       "DecisionTreeRegressor(max_depth=8, random_state=12345)"
      ]
     },
     "execution_count": 51,
     "metadata": {},
     "output_type": "execute_result"
    }
   ],
   "source": [
    "%%time\n",
    "\n",
    "trmodel = DecisionTreeRegressor(criterion='mse', \n",
    "                              max_depth=8, \n",
    "                              random_state=12345) \n",
    "trmodel.fit(final_features_train, target_train)"
   ]
  },
  {
   "cell_type": "code",
   "execution_count": 52,
   "metadata": {},
   "outputs": [
    {
     "name": "stdout",
     "output_type": "stream",
     "text": [
      "CPU times: user 25.4 ms, sys: 24.4 ms, total: 49.8 ms\n",
      "Wall time: 48.4 ms\n"
     ]
    }
   ],
   "source": [
    "%%time\n",
    "preds_trmodel = trmodel.predict(final_features_val)"
   ]
  },
  {
   "cell_type": "code",
   "execution_count": 53,
   "metadata": {},
   "outputs": [
    {
     "name": "stdout",
     "output_type": "stream",
     "text": [
      "RMSE для DecisionTreeRegresso модели на тестовой выборке: 2271.12\n"
     ]
    }
   ],
   "source": [
    "mse_trmodel = mean_squared_error(target_val, preds_trmodel)\n",
    "print(\"RMSE для DecisionTreeRegresso модели на тестовой выборке:\", round((mse_trmodel) ** 0.5, 2))\n"
   ]
  },
  {
   "cell_type": "markdown",
   "metadata": {},
   "source": [
    "# Регрессия CatBoostRegressor"
   ]
  },
  {
   "cell_type": "code",
   "execution_count": 54,
   "metadata": {},
   "outputs": [],
   "source": [
    "#numerical_features = ['DateCreated', 'Price', 'RegistrationYear', 'Power', 'Kilometer']"
   ]
  },
  {
   "cell_type": "code",
   "execution_count": 55,
   "metadata": {},
   "outputs": [],
   "source": [
    "#categorical_features = [col for col in list(features_train.columns) if col not in numerical_features]"
   ]
  },
  {
   "cell_type": "markdown",
   "metadata": {},
   "source": [
    "В связи с тем, что CatBoostRegressor принемает только целые числа или строки в категориях, пришлость пересобрать признаки.\n",
    "Так же попробывал оставить категориальные признаки без one-hot encoding, качество немного выросло на CatBoost и LGBM, но время обработки многократно увеличилось"
   ]
  },
  {
   "cell_type": "code",
   "execution_count": 56,
   "metadata": {},
   "outputs": [],
   "source": [
    "#data_reg.loc[:,['VehicleType','Gearbox', 'Brand', 'FuelType', 'Repaired']] = data_ordinal.loc[:,['VehicleType','Gearbox', 'Brand', 'FuelType', 'Repaired']]\n",
    "#catfeatures = data_reg.drop('Price', axis=1)\n",
    "#cattarget = data_reg['Price']\n",
    "#catfeatures_train, catfeatures_test, cattarget_train, cattarget_test = train_test_split(features, target, test_size=0.25, random_state=12345)"
   ]
  },
  {
   "cell_type": "code",
   "execution_count": 57,
   "metadata": {},
   "outputs": [],
   "source": [
    "#numericcat = ['RegistrationYear', 'Power', 'Kilometer', 'DateCreated']\n",
    "#scaler = StandardScaler()\n",
    "#scaler.fit(catfeatures_train[numericcat])\n",
    "#catfeatures_train[numericcat] = scaler.transform(catfeatures_train[numericcat])\n",
    "#catfeatures_test[numericcat] = scaler.transform(catfeatures_test[numericcat]) "
   ]
  },
  {
   "cell_type": "code",
   "execution_count": 58,
   "metadata": {},
   "outputs": [
    {
     "name": "stdout",
     "output_type": "stream",
     "text": [
      "CPU times: user 1min 55s, sys: 392 ms, total: 1min 55s\n",
      "Wall time: 1min 57s\n"
     ]
    },
    {
     "data": {
      "text/plain": [
       "<catboost.core.CatBoostRegressor at 0x7ff811985b20>"
      ]
     },
     "execution_count": 58,
     "metadata": {},
     "output_type": "execute_result"
    }
   ],
   "source": [
    "%%time\n",
    "catmodel = CatBoostRegressor(learning_rate=0.5, random_state=12345, verbose=False) \n",
    "catmodel.fit(features_train, target_train, cat_features=['Brand', 'Model', 'VehicleType', 'Gearbox', 'FuelType', 'Repaired'])"
   ]
  },
  {
   "cell_type": "code",
   "execution_count": 59,
   "metadata": {},
   "outputs": [
    {
     "name": "stdout",
     "output_type": "stream",
     "text": [
      "CPU times: user 621 ms, sys: 3.59 ms, total: 625 ms\n",
      "Wall time: 631 ms\n"
     ]
    }
   ],
   "source": [
    "%%time\n",
    "\n",
    "cat_predict = catmodel.predict(features_val)"
   ]
  },
  {
   "cell_type": "code",
   "execution_count": 60,
   "metadata": {},
   "outputs": [
    {
     "name": "stdout",
     "output_type": "stream",
     "text": [
      "RMSE для CatBoostRegressor модели на тестовой выборке: 1665.14\n"
     ]
    }
   ],
   "source": [
    "mse_catmodel = mean_squared_error(target_val, cat_predict)\n",
    "\n",
    "print(\"RMSE для CatBoostRegressor модели на тестовой выборке:\", round((mse_catmodel) ** 0.5, 2))"
   ]
  },
  {
   "cell_type": "markdown",
   "metadata": {},
   "source": [
    "# Регрессия LGBMRegressor"
   ]
  },
  {
   "cell_type": "code",
   "execution_count": 61,
   "metadata": {},
   "outputs": [],
   "source": [
    "cat_columns = ['Brand', 'Model', 'VehicleType', 'Gearbox', 'FuelType', 'Repaired']\n",
    "features_train[cat_columns] = features_train[cat_columns].astype('category')"
   ]
  },
  {
   "cell_type": "code",
   "execution_count": 62,
   "metadata": {},
   "outputs": [
    {
     "data": {
      "text/html": [
       "<div>\n",
       "<style scoped>\n",
       "    .dataframe tbody tr th:only-of-type {\n",
       "        vertical-align: middle;\n",
       "    }\n",
       "\n",
       "    .dataframe tbody tr th {\n",
       "        vertical-align: top;\n",
       "    }\n",
       "\n",
       "    .dataframe thead th {\n",
       "        text-align: right;\n",
       "    }\n",
       "</style>\n",
       "<table border=\"1\" class=\"dataframe\">\n",
       "  <thead>\n",
       "    <tr style=\"text-align: right;\">\n",
       "      <th></th>\n",
       "      <th>VehicleType</th>\n",
       "      <th>RegistrationYear</th>\n",
       "      <th>Gearbox</th>\n",
       "      <th>Power</th>\n",
       "      <th>Model</th>\n",
       "      <th>Kilometer</th>\n",
       "      <th>FuelType</th>\n",
       "      <th>Brand</th>\n",
       "      <th>Repaired</th>\n",
       "    </tr>\n",
       "  </thead>\n",
       "  <tbody>\n",
       "    <tr>\n",
       "      <th>195985</th>\n",
       "      <td>small</td>\n",
       "      <td>2009</td>\n",
       "      <td>auto</td>\n",
       "      <td>122</td>\n",
       "      <td>golf</td>\n",
       "      <td>50000</td>\n",
       "      <td>petrol</td>\n",
       "      <td>volkswagen</td>\n",
       "      <td>no</td>\n",
       "    </tr>\n",
       "    <tr>\n",
       "      <th>228151</th>\n",
       "      <td>small</td>\n",
       "      <td>2005</td>\n",
       "      <td>manual</td>\n",
       "      <td>54</td>\n",
       "      <td>polo</td>\n",
       "      <td>50000</td>\n",
       "      <td>petrol</td>\n",
       "      <td>volkswagen</td>\n",
       "      <td>no</td>\n",
       "    </tr>\n",
       "    <tr>\n",
       "      <th>33534</th>\n",
       "      <td>coupe</td>\n",
       "      <td>1993</td>\n",
       "      <td>auto</td>\n",
       "      <td>150</td>\n",
       "      <td>3er</td>\n",
       "      <td>150000</td>\n",
       "      <td>petrol</td>\n",
       "      <td>bmw</td>\n",
       "      <td>no</td>\n",
       "    </tr>\n",
       "    <tr>\n",
       "      <th>284505</th>\n",
       "      <td>small</td>\n",
       "      <td>2001</td>\n",
       "      <td>manual</td>\n",
       "      <td>58</td>\n",
       "      <td>corsa</td>\n",
       "      <td>90000</td>\n",
       "      <td>petrol</td>\n",
       "      <td>opel</td>\n",
       "      <td>no</td>\n",
       "    </tr>\n",
       "    <tr>\n",
       "      <th>299576</th>\n",
       "      <td>coupe</td>\n",
       "      <td>1982</td>\n",
       "      <td>manual</td>\n",
       "      <td>80</td>\n",
       "      <td>golf</td>\n",
       "      <td>90000</td>\n",
       "      <td>petrol</td>\n",
       "      <td>volkswagen</td>\n",
       "      <td>no</td>\n",
       "    </tr>\n",
       "    <tr>\n",
       "      <th>...</th>\n",
       "      <td>...</td>\n",
       "      <td>...</td>\n",
       "      <td>...</td>\n",
       "      <td>...</td>\n",
       "      <td>...</td>\n",
       "      <td>...</td>\n",
       "      <td>...</td>\n",
       "      <td>...</td>\n",
       "      <td>...</td>\n",
       "    </tr>\n",
       "    <tr>\n",
       "      <th>198257</th>\n",
       "      <td>sedan</td>\n",
       "      <td>2008</td>\n",
       "      <td>manual</td>\n",
       "      <td>170</td>\n",
       "      <td>3er</td>\n",
       "      <td>150000</td>\n",
       "      <td>petrol</td>\n",
       "      <td>bmw</td>\n",
       "      <td>no</td>\n",
       "    </tr>\n",
       "    <tr>\n",
       "      <th>70364</th>\n",
       "      <td>wagon</td>\n",
       "      <td>2010</td>\n",
       "      <td>manual</td>\n",
       "      <td>90</td>\n",
       "      <td>megane</td>\n",
       "      <td>125000</td>\n",
       "      <td>gasoline</td>\n",
       "      <td>renault</td>\n",
       "      <td>no</td>\n",
       "    </tr>\n",
       "    <tr>\n",
       "      <th>116989</th>\n",
       "      <td>sedan</td>\n",
       "      <td>1998</td>\n",
       "      <td>manual</td>\n",
       "      <td>133</td>\n",
       "      <td>nubira</td>\n",
       "      <td>90000</td>\n",
       "      <td>petrol</td>\n",
       "      <td>daewoo</td>\n",
       "      <td>no</td>\n",
       "    </tr>\n",
       "    <tr>\n",
       "      <th>7501</th>\n",
       "      <td>sedan</td>\n",
       "      <td>2006</td>\n",
       "      <td>manual</td>\n",
       "      <td>125</td>\n",
       "      <td>mondeo</td>\n",
       "      <td>90000</td>\n",
       "      <td>lpg</td>\n",
       "      <td>ford</td>\n",
       "      <td>no</td>\n",
       "    </tr>\n",
       "    <tr>\n",
       "      <th>60891</th>\n",
       "      <td>bus</td>\n",
       "      <td>2001</td>\n",
       "      <td>manual</td>\n",
       "      <td>107</td>\n",
       "      <td>scenic</td>\n",
       "      <td>150000</td>\n",
       "      <td>petrol</td>\n",
       "      <td>renault</td>\n",
       "      <td>yes</td>\n",
       "    </tr>\n",
       "  </tbody>\n",
       "</table>\n",
       "<p>156250 rows × 9 columns</p>\n",
       "</div>"
      ],
      "text/plain": [
       "       VehicleType  RegistrationYear Gearbox  Power   Model  Kilometer  \\\n",
       "195985       small              2009    auto    122    golf      50000   \n",
       "228151       small              2005  manual     54    polo      50000   \n",
       "33534        coupe              1993    auto    150     3er     150000   \n",
       "284505       small              2001  manual     58   corsa      90000   \n",
       "299576       coupe              1982  manual     80    golf      90000   \n",
       "...            ...               ...     ...    ...     ...        ...   \n",
       "198257       sedan              2008  manual    170     3er     150000   \n",
       "70364        wagon              2010  manual     90  megane     125000   \n",
       "116989       sedan              1998  manual    133  nubira      90000   \n",
       "7501         sedan              2006  manual    125  mondeo      90000   \n",
       "60891          bus              2001  manual    107  scenic     150000   \n",
       "\n",
       "        FuelType       Brand Repaired  \n",
       "195985    petrol  volkswagen       no  \n",
       "228151    petrol  volkswagen       no  \n",
       "33534     petrol         bmw       no  \n",
       "284505    petrol        opel       no  \n",
       "299576    petrol  volkswagen       no  \n",
       "...          ...         ...      ...  \n",
       "198257    petrol         bmw       no  \n",
       "70364   gasoline     renault       no  \n",
       "116989    petrol      daewoo       no  \n",
       "7501         lpg        ford       no  \n",
       "60891     petrol     renault      yes  \n",
       "\n",
       "[156250 rows x 9 columns]"
      ]
     },
     "execution_count": 62,
     "metadata": {},
     "output_type": "execute_result"
    }
   ],
   "source": [
    "features_train"
   ]
  },
  {
   "cell_type": "code",
   "execution_count": 63,
   "metadata": {},
   "outputs": [
    {
     "name": "stdout",
     "output_type": "stream",
     "text": [
      "CPU times: user 9min 7s, sys: 3.92 s, total: 9min 11s\n",
      "Wall time: 9min 14s\n"
     ]
    },
    {
     "data": {
      "text/plain": [
       "LGBMRegressor(num_leaves=100, random_state=12345)"
      ]
     },
     "execution_count": 63,
     "metadata": {},
     "output_type": "execute_result"
    }
   ],
   "source": [
    "%%time\n",
    "\n",
    "lgbmmodel = LGBMRegressor(learning_rate=0.1, \n",
    "                      num_leaves=100, \n",
    "                      random_state=12345)\n",
    "lgbmmodel.fit(features_train, target_train)"
   ]
  },
  {
   "cell_type": "code",
   "execution_count": 64,
   "metadata": {},
   "outputs": [],
   "source": [
    "features_val[cat_columns] = features_val[cat_columns].astype('category')"
   ]
  },
  {
   "cell_type": "code",
   "execution_count": 65,
   "metadata": {},
   "outputs": [
    {
     "name": "stdout",
     "output_type": "stream",
     "text": [
      "CPU times: user 860 ms, sys: 1 ms, total: 861 ms\n",
      "Wall time: 871 ms\n"
     ]
    }
   ],
   "source": [
    "%%time\n",
    "\n",
    "lgbm_predict = lgbmmodel.predict(features_val)"
   ]
  },
  {
   "cell_type": "code",
   "execution_count": 66,
   "metadata": {},
   "outputs": [
    {
     "name": "stdout",
     "output_type": "stream",
     "text": [
      "RMSE для LGBMRegressor модели на тестовой выборке: 1646.13\n"
     ]
    }
   ],
   "source": [
    "mse_lgbmmodel = mean_squared_error(target_val, lgbm_predict)\n",
    "\n",
    "print(\"RMSE для LGBMRegressor модели на тестовой выборке:\", round((mse_lgbmmodel) ** 0.5, 2))"
   ]
  },
  {
   "cell_type": "markdown",
   "metadata": {},
   "source": [
    "Проведены измерения:\n",
    "\n",
    "- времени обучения\n",
    "- времени предсказания моделей\n",
    "- качества предсказания по метрике RMSE"
   ]
  },
  {
   "cell_type": "markdown",
   "metadata": {},
   "source": [
    "## Тестирование лучшей модели"
   ]
  },
  {
   "cell_type": "code",
   "execution_count": 67,
   "metadata": {},
   "outputs": [],
   "source": [
    "features_test[cat_columns] = features_test[cat_columns].astype('category')"
   ]
  },
  {
   "cell_type": "code",
   "execution_count": 68,
   "metadata": {},
   "outputs": [
    {
     "name": "stdout",
     "output_type": "stream",
     "text": [
      "CPU times: user 835 ms, sys: 1.76 ms, total: 836 ms\n",
      "Wall time: 784 ms\n"
     ]
    }
   ],
   "source": [
    "%%time\n",
    "\n",
    "lgbm_predict = lgbmmodel.predict(features_test)"
   ]
  },
  {
   "cell_type": "code",
   "execution_count": 69,
   "metadata": {},
   "outputs": [
    {
     "name": "stdout",
     "output_type": "stream",
     "text": [
      "RMSE для LGBMRegressor модели на тестовой выборке: 1652.31\n"
     ]
    }
   ],
   "source": [
    "mse_lgbmmodel = mean_squared_error(target_test, lgbm_predict)\n",
    "\n",
    "print(\"RMSE для LGBMRegressor модели на тестовой выборке:\",round((mse_lgbmmodel) ** 0.5, 2))"
   ]
  },
  {
   "cell_type": "markdown",
   "metadata": {},
   "source": [
    "## Анализ моделей"
   ]
  },
  {
   "cell_type": "code",
   "execution_count": 70,
   "metadata": {},
   "outputs": [],
   "source": [
    "df = [[3275.21],\n",
    "        [2271.12],\n",
    "        [1665.14],\n",
    "        [1646.13]]\n",
    "model = [\"Linear Regression\", \"DecisionTreeRegresso\", \"CatBoostRegressor\", \"LGBMRegressor\"]"
   ]
  },
  {
   "cell_type": "code",
   "execution_count": 71,
   "metadata": {},
   "outputs": [
    {
     "data": {
      "text/html": [
       "<div>\n",
       "<style scoped>\n",
       "    .dataframe tbody tr th:only-of-type {\n",
       "        vertical-align: middle;\n",
       "    }\n",
       "\n",
       "    .dataframe tbody tr th {\n",
       "        vertical-align: top;\n",
       "    }\n",
       "\n",
       "    .dataframe thead th {\n",
       "        text-align: right;\n",
       "    }\n",
       "</style>\n",
       "<table border=\"1\" class=\"dataframe\">\n",
       "  <thead>\n",
       "    <tr style=\"text-align: right;\">\n",
       "      <th></th>\n",
       "      <th>RMSE</th>\n",
       "    </tr>\n",
       "  </thead>\n",
       "  <tbody>\n",
       "    <tr>\n",
       "      <th>Linear Regression</th>\n",
       "      <td>3275.21</td>\n",
       "    </tr>\n",
       "    <tr>\n",
       "      <th>DecisionTreeRegresso</th>\n",
       "      <td>2271.12</td>\n",
       "    </tr>\n",
       "    <tr>\n",
       "      <th>CatBoostRegressor</th>\n",
       "      <td>1665.14</td>\n",
       "    </tr>\n",
       "    <tr>\n",
       "      <th>LGBMRegressor</th>\n",
       "      <td>1646.13</td>\n",
       "    </tr>\n",
       "  </tbody>\n",
       "</table>\n",
       "</div>"
      ],
      "text/plain": [
       "                         RMSE\n",
       "Linear Regression     3275.21\n",
       "DecisionTreeRegresso  2271.12\n",
       "CatBoostRegressor     1665.14\n",
       "LGBMRegressor         1646.13"
      ]
     },
     "execution_count": 71,
     "metadata": {},
     "output_type": "execute_result"
    }
   ],
   "source": [
    "pd.DataFrame(data=df, index=model, columns=['RMSE'])"
   ]
  },
  {
   "cell_type": "markdown",
   "metadata": {},
   "source": [
    "Вывод 2.0\n",
    "\n",
    "В этой версии проекта лучший результат показала модель LGBMRegressor, CatBoostRegressor уступает, но не сильно. Кроме того, LGBMRegressor подтвердила результат на тестовой выборке."
   ]
  }
 ],
 "metadata": {
  "ExecuteTimeLog": [
   {
    "duration": 1896,
    "start_time": "2024-02-24T16:25:57.235Z"
   },
   {
    "duration": 3082,
    "start_time": "2024-02-24T16:25:59.133Z"
   },
   {
    "duration": 999,
    "start_time": "2024-02-24T16:26:35.033Z"
   },
   {
    "duration": 14,
    "start_time": "2024-02-24T16:26:38.317Z"
   },
   {
    "duration": 166,
    "start_time": "2024-02-24T16:26:50.758Z"
   },
   {
    "duration": 531,
    "start_time": "2024-02-24T16:28:52.875Z"
   },
   {
    "duration": 95,
    "start_time": "2024-02-24T16:29:07.450Z"
   },
   {
    "duration": 3,
    "start_time": "2024-02-24T16:30:05.250Z"
   },
   {
    "duration": 17,
    "start_time": "2024-02-24T16:31:13.041Z"
   },
   {
    "duration": 65,
    "start_time": "2024-02-24T16:31:26.296Z"
   },
   {
    "duration": 29,
    "start_time": "2024-02-24T16:32:06.543Z"
   },
   {
    "duration": 70,
    "start_time": "2024-02-24T16:32:31.486Z"
   },
   {
    "duration": 29,
    "start_time": "2024-02-24T16:32:54.951Z"
   },
   {
    "duration": 21,
    "start_time": "2024-02-24T16:33:39.634Z"
   },
   {
    "duration": 7,
    "start_time": "2024-02-24T16:34:34.869Z"
   },
   {
    "duration": 51,
    "start_time": "2024-02-24T16:35:31.185Z"
   },
   {
    "duration": 27,
    "start_time": "2024-02-24T16:35:52.152Z"
   },
   {
    "duration": 293,
    "start_time": "2024-02-24T16:36:37.669Z"
   },
   {
    "duration": 16,
    "start_time": "2024-02-24T16:37:57.127Z"
   },
   {
    "duration": 91,
    "start_time": "2024-02-24T16:38:28.388Z"
   },
   {
    "duration": 294,
    "start_time": "2024-02-24T16:39:06.593Z"
   },
   {
    "duration": 1673,
    "start_time": "2024-02-24T16:39:50.958Z"
   },
   {
    "duration": 21,
    "start_time": "2024-02-24T16:42:09.079Z"
   },
   {
    "duration": 29,
    "start_time": "2024-02-24T16:43:51.708Z"
   },
   {
    "duration": 3371,
    "start_time": "2024-02-24T16:44:25.460Z"
   },
   {
    "duration": 431,
    "start_time": "2024-02-24T16:44:50.249Z"
   },
   {
    "duration": 33,
    "start_time": "2024-02-24T16:45:19.026Z"
   },
   {
    "duration": 14,
    "start_time": "2024-02-24T16:45:40.158Z"
   },
   {
    "duration": 99,
    "start_time": "2024-02-24T16:45:48.741Z"
   },
   {
    "duration": 73,
    "start_time": "2024-02-24T16:46:06.138Z"
   },
   {
    "duration": 2,
    "start_time": "2024-02-24T16:46:54.919Z"
   },
   {
    "duration": 842,
    "start_time": "2024-02-24T16:47:03.552Z"
   },
   {
    "duration": 3,
    "start_time": "2024-02-24T16:47:42.449Z"
   },
   {
    "duration": 1736,
    "start_time": "2024-02-24T16:47:53.915Z"
   },
   {
    "duration": 1592,
    "start_time": "2024-02-24T16:48:04.029Z"
   },
   {
    "duration": 1570,
    "start_time": "2024-02-24T18:38:16.729Z"
   },
   {
    "duration": 80,
    "start_time": "2024-02-24T18:39:31.354Z"
   },
   {
    "duration": 1601,
    "start_time": "2024-02-24T19:26:48.696Z"
   },
   {
    "duration": 1027,
    "start_time": "2024-02-24T19:26:50.299Z"
   },
   {
    "duration": 16,
    "start_time": "2024-02-24T19:26:51.328Z"
   },
   {
    "duration": 196,
    "start_time": "2024-02-24T19:26:51.346Z"
   },
   {
    "duration": 596,
    "start_time": "2024-02-24T19:26:51.545Z"
   },
   {
    "duration": 109,
    "start_time": "2024-02-24T19:26:52.143Z"
   },
   {
    "duration": 13,
    "start_time": "2024-02-24T19:26:52.253Z"
   },
   {
    "duration": 57,
    "start_time": "2024-02-24T19:26:52.268Z"
   },
   {
    "duration": 29,
    "start_time": "2024-02-24T19:26:52.327Z"
   },
   {
    "duration": 93,
    "start_time": "2024-02-24T19:26:52.358Z"
   },
   {
    "duration": 47,
    "start_time": "2024-02-24T19:26:52.454Z"
   },
   {
    "duration": 22,
    "start_time": "2024-02-24T19:26:52.503Z"
   },
   {
    "duration": 10,
    "start_time": "2024-02-24T19:26:52.528Z"
   },
   {
    "duration": 78,
    "start_time": "2024-02-24T19:26:52.542Z"
   },
   {
    "duration": 34,
    "start_time": "2024-02-24T19:26:52.622Z"
   },
   {
    "duration": 307,
    "start_time": "2024-02-24T19:26:52.657Z"
   },
   {
    "duration": 33,
    "start_time": "2024-02-24T19:26:52.966Z"
   },
   {
    "duration": 101,
    "start_time": "2024-02-24T19:26:53.001Z"
   },
   {
    "duration": 297,
    "start_time": "2024-02-24T19:26:53.103Z"
   },
   {
    "duration": 21,
    "start_time": "2024-02-24T19:26:53.402Z"
   },
   {
    "duration": 35,
    "start_time": "2024-02-24T19:26:53.425Z"
   },
   {
    "duration": 3542,
    "start_time": "2024-02-24T19:26:53.461Z"
   },
   {
    "duration": 413,
    "start_time": "2024-02-24T19:26:57.004Z"
   },
   {
    "duration": 23,
    "start_time": "2024-02-24T19:26:57.418Z"
   },
   {
    "duration": 13,
    "start_time": "2024-02-24T19:26:57.443Z"
   },
   {
    "duration": 123,
    "start_time": "2024-02-24T19:26:57.458Z"
   },
   {
    "duration": 87,
    "start_time": "2024-02-24T19:26:57.584Z"
   },
   {
    "duration": 9,
    "start_time": "2024-02-24T19:26:57.673Z"
   },
   {
    "duration": 932,
    "start_time": "2024-02-24T19:26:57.689Z"
   },
   {
    "duration": 4,
    "start_time": "2024-02-24T19:26:58.623Z"
   },
   {
    "duration": 287,
    "start_time": "2024-02-24T19:26:58.629Z"
   },
   {
    "duration": 71,
    "start_time": "2024-02-24T19:27:41.825Z"
   },
   {
    "duration": 49,
    "start_time": "2024-02-24T19:28:11.549Z"
   },
   {
    "duration": 3,
    "start_time": "2024-02-24T19:28:45.794Z"
   },
   {
    "duration": 417,
    "start_time": "2024-02-24T19:28:56.245Z"
   },
   {
    "duration": 570,
    "start_time": "2024-02-24T19:30:04.513Z"
   },
   {
    "duration": 33,
    "start_time": "2024-02-24T19:30:23.647Z"
   },
   {
    "duration": 4,
    "start_time": "2024-02-24T19:30:36.008Z"
   },
   {
    "duration": 4,
    "start_time": "2024-02-24T19:31:55.135Z"
   },
   {
    "duration": 16238,
    "start_time": "2024-02-24T19:32:25.699Z"
   },
   {
    "duration": 20,
    "start_time": "2024-02-24T19:33:08.422Z"
   },
   {
    "duration": 15811,
    "start_time": "2024-02-24T19:33:14.774Z"
   },
   {
    "duration": 4,
    "start_time": "2024-02-24T19:33:53.911Z"
   },
   {
    "duration": 776,
    "start_time": "2024-02-24T19:34:35.322Z"
   },
   {
    "duration": 18,
    "start_time": "2024-02-24T19:34:47.588Z"
   },
   {
    "duration": 5,
    "start_time": "2024-02-24T19:34:58.838Z"
   },
   {
    "duration": 3,
    "start_time": "2024-02-24T19:35:35.640Z"
   },
   {
    "duration": 3,
    "start_time": "2024-02-24T19:36:00.180Z"
   },
   {
    "duration": 135,
    "start_time": "2024-02-24T19:36:43.073Z"
   },
   {
    "duration": 16,
    "start_time": "2024-02-24T19:37:14.714Z"
   },
   {
    "duration": 101,
    "start_time": "2024-02-24T19:38:46.972Z"
   },
   {
    "duration": 236,
    "start_time": "2024-02-24T19:39:18.896Z"
   },
   {
    "duration": 163779,
    "start_time": "2024-02-24T19:39:19.769Z"
   },
   {
    "duration": 101,
    "start_time": "2024-02-24T19:42:34.797Z"
   },
   {
    "duration": 1129,
    "start_time": "2024-02-24T19:42:54.856Z"
   },
   {
    "duration": 5,
    "start_time": "2024-02-24T19:42:58.831Z"
   },
   {
    "duration": 13380,
    "start_time": "2024-02-24T19:43:14.114Z"
   },
   {
    "duration": 888,
    "start_time": "2024-02-24T19:43:31.796Z"
   },
   {
    "duration": 4,
    "start_time": "2024-02-24T19:43:33.955Z"
   },
   {
    "duration": 4,
    "start_time": "2024-02-24T19:43:42.915Z"
   },
   {
    "duration": 9,
    "start_time": "2024-02-24T19:43:43.944Z"
   },
   {
    "duration": 1597,
    "start_time": "2024-02-24T20:37:10.449Z"
   },
   {
    "duration": 1096,
    "start_time": "2024-02-24T20:37:12.048Z"
   },
   {
    "duration": 15,
    "start_time": "2024-02-24T20:37:13.148Z"
   },
   {
    "duration": 143,
    "start_time": "2024-02-24T20:37:13.166Z"
   },
   {
    "duration": 447,
    "start_time": "2024-02-24T20:37:13.311Z"
   },
   {
    "duration": 96,
    "start_time": "2024-02-24T20:37:13.759Z"
   },
   {
    "duration": 12,
    "start_time": "2024-02-24T20:37:13.857Z"
   },
   {
    "duration": 43,
    "start_time": "2024-02-24T20:37:13.870Z"
   },
   {
    "duration": 37,
    "start_time": "2024-02-24T20:37:13.915Z"
   },
   {
    "duration": 62,
    "start_time": "2024-02-24T20:37:13.954Z"
   },
   {
    "duration": 38,
    "start_time": "2024-02-24T20:37:14.018Z"
   },
   {
    "duration": 19,
    "start_time": "2024-02-24T20:37:14.057Z"
   },
   {
    "duration": 5,
    "start_time": "2024-02-24T20:37:14.079Z"
   },
   {
    "duration": 66,
    "start_time": "2024-02-24T20:37:14.085Z"
   },
   {
    "duration": 25,
    "start_time": "2024-02-24T20:37:14.152Z"
   },
   {
    "duration": 262,
    "start_time": "2024-02-24T20:37:14.179Z"
   },
   {
    "duration": 14,
    "start_time": "2024-02-24T20:37:14.442Z"
   },
   {
    "duration": 95,
    "start_time": "2024-02-24T20:37:14.457Z"
   },
   {
    "duration": 236,
    "start_time": "2024-02-24T20:37:14.553Z"
   },
   {
    "duration": 18,
    "start_time": "2024-02-24T20:37:14.790Z"
   },
   {
    "duration": 40,
    "start_time": "2024-02-24T20:37:14.809Z"
   },
   {
    "duration": 2852,
    "start_time": "2024-02-24T20:37:14.850Z"
   },
   {
    "duration": 393,
    "start_time": "2024-02-24T20:37:17.704Z"
   },
   {
    "duration": 20,
    "start_time": "2024-02-24T20:37:18.099Z"
   },
   {
    "duration": 22,
    "start_time": "2024-02-24T20:37:18.121Z"
   },
   {
    "duration": 105,
    "start_time": "2024-02-24T20:37:18.145Z"
   },
   {
    "duration": 66,
    "start_time": "2024-02-24T20:37:18.252Z"
   },
   {
    "duration": 14,
    "start_time": "2024-02-24T20:37:18.319Z"
   },
   {
    "duration": 755,
    "start_time": "2024-02-24T20:37:18.335Z"
   },
   {
    "duration": 3,
    "start_time": "2024-02-24T20:37:19.091Z"
   },
   {
    "duration": 207,
    "start_time": "2024-02-24T20:37:19.096Z"
   },
   {
    "duration": 58,
    "start_time": "2024-02-24T20:37:19.305Z"
   },
   {
    "duration": 36,
    "start_time": "2024-02-24T20:37:19.364Z"
   },
   {
    "duration": 3,
    "start_time": "2024-02-24T20:37:19.402Z"
   },
   {
    "duration": 363,
    "start_time": "2024-02-24T20:37:19.406Z"
   },
   {
    "duration": 379,
    "start_time": "2024-02-24T20:37:19.771Z"
   },
   {
    "duration": 180,
    "start_time": "2024-02-24T20:37:20.152Z"
   },
   {
    "duration": 6,
    "start_time": "2024-02-24T20:37:20.335Z"
   },
   {
    "duration": 14211,
    "start_time": "2024-02-24T20:37:20.343Z"
   },
   {
    "duration": 102,
    "start_time": "2024-02-24T20:37:34.635Z"
   },
   {
    "duration": 95,
    "start_time": "2024-02-24T20:37:34.739Z"
   },
   {
    "duration": 777,
    "start_time": "2024-02-24T20:37:34.836Z"
   },
   {
    "duration": 27,
    "start_time": "2024-02-24T20:37:35.615Z"
   },
   {
    "duration": 5,
    "start_time": "2024-02-24T20:37:35.644Z"
   },
   {
    "duration": 3,
    "start_time": "2024-02-24T20:37:35.650Z"
   },
   {
    "duration": 4,
    "start_time": "2024-02-24T20:37:35.654Z"
   },
   {
    "duration": 111,
    "start_time": "2024-02-24T20:37:35.659Z"
   },
   {
    "duration": 232,
    "start_time": "2024-02-24T20:37:35.772Z"
   },
   {
    "duration": 141679,
    "start_time": "2024-02-24T20:37:36.005Z"
   },
   {
    "duration": 921,
    "start_time": "2024-02-24T20:39:57.686Z"
   },
   {
    "duration": 4,
    "start_time": "2024-02-24T20:39:58.609Z"
   },
   {
    "duration": 9627,
    "start_time": "2024-02-24T20:39:58.614Z"
   },
   {
    "duration": 812,
    "start_time": "2024-02-24T20:40:08.242Z"
   },
   {
    "duration": 4,
    "start_time": "2024-02-24T20:40:09.134Z"
   },
   {
    "duration": 21,
    "start_time": "2024-02-24T20:40:09.140Z"
   },
   {
    "duration": 20,
    "start_time": "2024-02-24T20:40:09.162Z"
   },
   {
    "duration": 51,
    "start_time": "2024-02-26T13:00:34.405Z"
   },
   {
    "duration": 1566,
    "start_time": "2024-02-26T13:00:49.229Z"
   },
   {
    "duration": 2767,
    "start_time": "2024-02-26T13:00:50.797Z"
   },
   {
    "duration": 16,
    "start_time": "2024-02-26T13:00:53.566Z"
   },
   {
    "duration": 180,
    "start_time": "2024-02-26T13:00:53.584Z"
   },
   {
    "duration": 489,
    "start_time": "2024-02-26T13:00:53.765Z"
   },
   {
    "duration": 96,
    "start_time": "2024-02-26T13:00:54.256Z"
   },
   {
    "duration": 11,
    "start_time": "2024-02-26T13:00:54.354Z"
   },
   {
    "duration": 90,
    "start_time": "2024-02-26T13:00:54.367Z"
   },
   {
    "duration": 25,
    "start_time": "2024-02-26T13:00:54.458Z"
   },
   {
    "duration": 100,
    "start_time": "2024-02-26T13:00:54.486Z"
   },
   {
    "duration": 25,
    "start_time": "2024-02-26T13:00:54.588Z"
   },
   {
    "duration": 44,
    "start_time": "2024-02-26T13:00:54.614Z"
   },
   {
    "duration": 47,
    "start_time": "2024-02-26T13:00:54.659Z"
   },
   {
    "duration": 102,
    "start_time": "2024-02-26T13:00:54.707Z"
   },
   {
    "duration": 133,
    "start_time": "2024-02-26T13:00:54.811Z"
   },
   {
    "duration": 0,
    "start_time": "2024-02-26T13:00:54.947Z"
   },
   {
    "duration": 0,
    "start_time": "2024-02-26T13:00:54.948Z"
   },
   {
    "duration": 0,
    "start_time": "2024-02-26T13:00:54.949Z"
   },
   {
    "duration": 0,
    "start_time": "2024-02-26T13:00:54.950Z"
   },
   {
    "duration": 1,
    "start_time": "2024-02-26T13:00:54.951Z"
   },
   {
    "duration": 0,
    "start_time": "2024-02-26T13:00:54.953Z"
   },
   {
    "duration": 0,
    "start_time": "2024-02-26T13:00:54.954Z"
   },
   {
    "duration": 0,
    "start_time": "2024-02-26T13:00:54.956Z"
   },
   {
    "duration": 0,
    "start_time": "2024-02-26T13:00:54.957Z"
   },
   {
    "duration": 0,
    "start_time": "2024-02-26T13:00:54.958Z"
   },
   {
    "duration": 0,
    "start_time": "2024-02-26T13:00:54.959Z"
   },
   {
    "duration": 0,
    "start_time": "2024-02-26T13:00:54.961Z"
   },
   {
    "duration": 0,
    "start_time": "2024-02-26T13:00:54.962Z"
   },
   {
    "duration": 0,
    "start_time": "2024-02-26T13:00:54.963Z"
   },
   {
    "duration": 0,
    "start_time": "2024-02-26T13:00:54.965Z"
   },
   {
    "duration": 0,
    "start_time": "2024-02-26T13:00:54.994Z"
   },
   {
    "duration": 0,
    "start_time": "2024-02-26T13:00:54.996Z"
   },
   {
    "duration": 0,
    "start_time": "2024-02-26T13:00:54.997Z"
   },
   {
    "duration": 0,
    "start_time": "2024-02-26T13:00:54.998Z"
   },
   {
    "duration": 0,
    "start_time": "2024-02-26T13:00:54.999Z"
   },
   {
    "duration": 0,
    "start_time": "2024-02-26T13:00:55.001Z"
   },
   {
    "duration": 0,
    "start_time": "2024-02-26T13:00:55.002Z"
   },
   {
    "duration": 0,
    "start_time": "2024-02-26T13:00:55.003Z"
   },
   {
    "duration": 0,
    "start_time": "2024-02-26T13:00:55.005Z"
   },
   {
    "duration": 0,
    "start_time": "2024-02-26T13:00:55.006Z"
   },
   {
    "duration": 0,
    "start_time": "2024-02-26T13:00:55.007Z"
   },
   {
    "duration": 0,
    "start_time": "2024-02-26T13:00:55.008Z"
   },
   {
    "duration": 0,
    "start_time": "2024-02-26T13:00:55.010Z"
   },
   {
    "duration": 0,
    "start_time": "2024-02-26T13:00:55.011Z"
   },
   {
    "duration": 0,
    "start_time": "2024-02-26T13:00:55.012Z"
   },
   {
    "duration": 0,
    "start_time": "2024-02-26T13:00:55.013Z"
   },
   {
    "duration": 0,
    "start_time": "2024-02-26T13:00:55.014Z"
   },
   {
    "duration": 0,
    "start_time": "2024-02-26T13:00:55.015Z"
   },
   {
    "duration": 0,
    "start_time": "2024-02-26T13:00:55.016Z"
   },
   {
    "duration": 0,
    "start_time": "2024-02-26T13:00:55.019Z"
   },
   {
    "duration": 0,
    "start_time": "2024-02-26T13:00:55.020Z"
   },
   {
    "duration": 0,
    "start_time": "2024-02-26T13:00:55.022Z"
   },
   {
    "duration": 0,
    "start_time": "2024-02-26T13:00:55.023Z"
   },
   {
    "duration": 0,
    "start_time": "2024-02-26T13:00:55.025Z"
   },
   {
    "duration": 0,
    "start_time": "2024-02-26T13:00:55.026Z"
   },
   {
    "duration": 1,
    "start_time": "2024-02-26T13:00:55.028Z"
   },
   {
    "duration": 0,
    "start_time": "2024-02-26T13:00:55.031Z"
   },
   {
    "duration": 28,
    "start_time": "2024-02-26T13:01:56.227Z"
   },
   {
    "duration": 5,
    "start_time": "2024-02-26T13:07:04.457Z"
   },
   {
    "duration": 48,
    "start_time": "2024-02-26T13:07:51.086Z"
   },
   {
    "duration": 25,
    "start_time": "2024-02-26T13:08:10.080Z"
   },
   {
    "duration": 14,
    "start_time": "2024-02-26T13:08:23.304Z"
   },
   {
    "duration": 25,
    "start_time": "2024-02-26T13:08:47.851Z"
   },
   {
    "duration": 36,
    "start_time": "2024-02-26T13:08:56.367Z"
   },
   {
    "duration": 13,
    "start_time": "2024-02-26T13:10:30.749Z"
   },
   {
    "duration": 11,
    "start_time": "2024-02-26T13:11:11.199Z"
   },
   {
    "duration": 37,
    "start_time": "2024-02-26T13:11:30.328Z"
   },
   {
    "duration": 1403,
    "start_time": "2024-02-26T13:13:12.853Z"
   },
   {
    "duration": 841,
    "start_time": "2024-02-26T13:13:14.258Z"
   },
   {
    "duration": 15,
    "start_time": "2024-02-26T13:13:15.101Z"
   },
   {
    "duration": 211,
    "start_time": "2024-02-26T13:13:15.118Z"
   },
   {
    "duration": 465,
    "start_time": "2024-02-26T13:13:15.330Z"
   },
   {
    "duration": 98,
    "start_time": "2024-02-26T13:13:15.797Z"
   },
   {
    "duration": 11,
    "start_time": "2024-02-26T13:13:15.897Z"
   },
   {
    "duration": 61,
    "start_time": "2024-02-26T13:13:15.910Z"
   },
   {
    "duration": 25,
    "start_time": "2024-02-26T13:13:15.973Z"
   },
   {
    "duration": 87,
    "start_time": "2024-02-26T13:13:16.000Z"
   },
   {
    "duration": 25,
    "start_time": "2024-02-26T13:13:16.089Z"
   },
   {
    "duration": 27,
    "start_time": "2024-02-26T13:13:16.116Z"
   },
   {
    "duration": 34,
    "start_time": "2024-02-26T13:13:16.145Z"
   },
   {
    "duration": 52,
    "start_time": "2024-02-26T13:13:16.180Z"
   },
   {
    "duration": 75,
    "start_time": "2024-02-26T13:13:16.234Z"
   },
   {
    "duration": 23,
    "start_time": "2024-02-26T13:13:16.310Z"
   },
   {
    "duration": 305,
    "start_time": "2024-02-26T13:13:16.334Z"
   },
   {
    "duration": 15,
    "start_time": "2024-02-26T13:13:16.641Z"
   },
   {
    "duration": 96,
    "start_time": "2024-02-26T13:13:16.657Z"
   },
   {
    "duration": 246,
    "start_time": "2024-02-26T13:13:16.755Z"
   },
   {
    "duration": 17,
    "start_time": "2024-02-26T13:13:17.003Z"
   },
   {
    "duration": 35,
    "start_time": "2024-02-26T13:13:17.022Z"
   },
   {
    "duration": 2890,
    "start_time": "2024-02-26T13:13:17.058Z"
   },
   {
    "duration": 441,
    "start_time": "2024-02-26T13:13:19.949Z"
   },
   {
    "duration": 21,
    "start_time": "2024-02-26T13:13:20.392Z"
   },
   {
    "duration": 13,
    "start_time": "2024-02-26T13:13:20.415Z"
   },
   {
    "duration": 100,
    "start_time": "2024-02-26T13:13:20.429Z"
   },
   {
    "duration": 78,
    "start_time": "2024-02-26T13:13:20.532Z"
   },
   {
    "duration": 3,
    "start_time": "2024-02-26T13:13:20.611Z"
   },
   {
    "duration": 721,
    "start_time": "2024-02-26T13:13:20.616Z"
   },
   {
    "duration": 3,
    "start_time": "2024-02-26T13:13:21.338Z"
   },
   {
    "duration": 262,
    "start_time": "2024-02-26T13:13:21.343Z"
   },
   {
    "duration": 51,
    "start_time": "2024-02-26T13:13:21.607Z"
   },
   {
    "duration": 40,
    "start_time": "2024-02-26T13:13:21.660Z"
   },
   {
    "duration": 2,
    "start_time": "2024-02-26T13:13:21.702Z"
   },
   {
    "duration": 378,
    "start_time": "2024-02-26T13:13:21.705Z"
   },
   {
    "duration": 410,
    "start_time": "2024-02-26T13:13:22.085Z"
   },
   {
    "duration": 99,
    "start_time": "2024-02-26T13:13:22.496Z"
   },
   {
    "duration": 100,
    "start_time": "2024-02-26T13:13:22.597Z"
   },
   {
    "duration": 12227,
    "start_time": "2024-02-26T13:13:22.699Z"
   },
   {
    "duration": 167,
    "start_time": "2024-02-26T13:13:34.927Z"
   },
   {
    "duration": 9,
    "start_time": "2024-02-26T13:13:35.097Z"
   },
   {
    "duration": 837,
    "start_time": "2024-02-26T13:13:35.108Z"
   },
   {
    "duration": 14,
    "start_time": "2024-02-26T13:13:35.947Z"
   },
   {
    "duration": 6,
    "start_time": "2024-02-26T13:13:35.962Z"
   },
   {
    "duration": 14,
    "start_time": "2024-02-26T13:13:35.970Z"
   },
   {
    "duration": 25,
    "start_time": "2024-02-26T13:13:35.985Z"
   },
   {
    "duration": 101,
    "start_time": "2024-02-26T13:13:36.011Z"
   },
   {
    "duration": 213,
    "start_time": "2024-02-26T13:13:36.113Z"
   },
   {
    "duration": 142971,
    "start_time": "2024-02-26T13:13:36.328Z"
   },
   {
    "duration": 982,
    "start_time": "2024-02-26T13:15:59.301Z"
   },
   {
    "duration": 10,
    "start_time": "2024-02-26T13:16:00.285Z"
   },
   {
    "duration": 31418,
    "start_time": "2024-02-26T13:16:00.297Z"
   },
   {
    "duration": 895,
    "start_time": "2024-02-26T13:16:31.716Z"
   },
   {
    "duration": 4,
    "start_time": "2024-02-26T13:16:32.613Z"
   },
   {
    "duration": 66,
    "start_time": "2024-02-26T13:16:32.618Z"
   },
   {
    "duration": 50,
    "start_time": "2024-02-26T13:16:32.685Z"
   },
   {
    "duration": 110,
    "start_time": "2024-02-26T13:31:16.501Z"
   },
   {
    "duration": 12,
    "start_time": "2024-02-26T13:31:34.659Z"
   },
   {
    "duration": 1477,
    "start_time": "2024-02-26T13:31:41.893Z"
   },
   {
    "duration": 849,
    "start_time": "2024-02-26T13:31:43.372Z"
   },
   {
    "duration": 15,
    "start_time": "2024-02-26T13:31:44.222Z"
   },
   {
    "duration": 160,
    "start_time": "2024-02-26T13:31:44.238Z"
   },
   {
    "duration": 493,
    "start_time": "2024-02-26T13:31:44.399Z"
   },
   {
    "duration": 106,
    "start_time": "2024-02-26T13:31:44.894Z"
   },
   {
    "duration": 14,
    "start_time": "2024-02-26T13:31:45.002Z"
   },
   {
    "duration": 111,
    "start_time": "2024-02-26T13:31:45.018Z"
   },
   {
    "duration": 39,
    "start_time": "2024-02-26T13:31:45.131Z"
   },
   {
    "duration": 233,
    "start_time": "2024-02-26T13:31:45.173Z"
   },
   {
    "duration": 193,
    "start_time": "2024-02-26T13:31:45.408Z"
   },
   {
    "duration": 97,
    "start_time": "2024-02-26T13:31:45.602Z"
   },
   {
    "duration": 48,
    "start_time": "2024-02-26T13:31:45.700Z"
   },
   {
    "duration": 78,
    "start_time": "2024-02-26T13:31:45.750Z"
   },
   {
    "duration": 61,
    "start_time": "2024-02-26T13:31:45.830Z"
   },
   {
    "duration": 34,
    "start_time": "2024-02-26T13:31:45.895Z"
   },
   {
    "duration": 249,
    "start_time": "2024-02-26T13:31:45.931Z"
   },
   {
    "duration": 14,
    "start_time": "2024-02-26T13:31:46.181Z"
   },
   {
    "duration": 96,
    "start_time": "2024-02-26T13:31:46.197Z"
   },
   {
    "duration": 246,
    "start_time": "2024-02-26T13:31:46.295Z"
   },
   {
    "duration": 18,
    "start_time": "2024-02-26T13:31:46.542Z"
   },
   {
    "duration": 46,
    "start_time": "2024-02-26T13:31:46.561Z"
   },
   {
    "duration": 2950,
    "start_time": "2024-02-26T13:31:46.608Z"
   },
   {
    "duration": 391,
    "start_time": "2024-02-26T13:31:49.559Z"
   },
   {
    "duration": 20,
    "start_time": "2024-02-26T13:31:49.951Z"
   },
   {
    "duration": 60,
    "start_time": "2024-02-26T13:31:49.973Z"
   },
   {
    "duration": 99,
    "start_time": "2024-02-26T13:31:50.034Z"
   },
   {
    "duration": 68,
    "start_time": "2024-02-26T13:31:50.136Z"
   },
   {
    "duration": 3,
    "start_time": "2024-02-26T13:31:50.205Z"
   },
   {
    "duration": 662,
    "start_time": "2024-02-26T13:31:50.209Z"
   },
   {
    "duration": 4,
    "start_time": "2024-02-26T13:31:50.872Z"
   },
   {
    "duration": 189,
    "start_time": "2024-02-26T13:31:50.877Z"
   },
   {
    "duration": 51,
    "start_time": "2024-02-26T13:31:51.068Z"
   },
   {
    "duration": 28,
    "start_time": "2024-02-26T13:31:51.121Z"
   },
   {
    "duration": 3,
    "start_time": "2024-02-26T13:31:51.150Z"
   },
   {
    "duration": 128,
    "start_time": "2024-02-26T13:31:51.154Z"
   },
   {
    "duration": 0,
    "start_time": "2024-02-26T13:31:51.283Z"
   },
   {
    "duration": 0,
    "start_time": "2024-02-26T13:31:51.285Z"
   },
   {
    "duration": 0,
    "start_time": "2024-02-26T13:31:51.286Z"
   },
   {
    "duration": 0,
    "start_time": "2024-02-26T13:31:51.287Z"
   },
   {
    "duration": 0,
    "start_time": "2024-02-26T13:31:51.289Z"
   },
   {
    "duration": 0,
    "start_time": "2024-02-26T13:31:51.294Z"
   },
   {
    "duration": 0,
    "start_time": "2024-02-26T13:31:51.295Z"
   },
   {
    "duration": 0,
    "start_time": "2024-02-26T13:31:51.296Z"
   },
   {
    "duration": 0,
    "start_time": "2024-02-26T13:31:51.298Z"
   },
   {
    "duration": 0,
    "start_time": "2024-02-26T13:31:51.299Z"
   },
   {
    "duration": 0,
    "start_time": "2024-02-26T13:31:51.300Z"
   },
   {
    "duration": 0,
    "start_time": "2024-02-26T13:31:51.302Z"
   },
   {
    "duration": 0,
    "start_time": "2024-02-26T13:31:51.303Z"
   },
   {
    "duration": 0,
    "start_time": "2024-02-26T13:31:51.304Z"
   },
   {
    "duration": 0,
    "start_time": "2024-02-26T13:31:51.306Z"
   },
   {
    "duration": 0,
    "start_time": "2024-02-26T13:31:51.307Z"
   },
   {
    "duration": 0,
    "start_time": "2024-02-26T13:31:51.309Z"
   },
   {
    "duration": 0,
    "start_time": "2024-02-26T13:31:51.310Z"
   },
   {
    "duration": 0,
    "start_time": "2024-02-26T13:31:51.311Z"
   },
   {
    "duration": 0,
    "start_time": "2024-02-26T13:31:51.312Z"
   },
   {
    "duration": 0,
    "start_time": "2024-02-26T13:31:51.314Z"
   },
   {
    "duration": 1496,
    "start_time": "2024-02-26T13:35:39.659Z"
   },
   {
    "duration": 871,
    "start_time": "2024-02-26T13:35:41.157Z"
   },
   {
    "duration": 16,
    "start_time": "2024-02-26T13:35:42.029Z"
   },
   {
    "duration": 152,
    "start_time": "2024-02-26T13:35:42.047Z"
   },
   {
    "duration": 467,
    "start_time": "2024-02-26T13:35:42.201Z"
   },
   {
    "duration": 99,
    "start_time": "2024-02-26T13:35:42.670Z"
   },
   {
    "duration": 26,
    "start_time": "2024-02-26T13:35:42.771Z"
   },
   {
    "duration": 47,
    "start_time": "2024-02-26T13:35:42.799Z"
   },
   {
    "duration": 30,
    "start_time": "2024-02-26T13:35:42.847Z"
   },
   {
    "duration": 66,
    "start_time": "2024-02-26T13:35:42.896Z"
   },
   {
    "duration": 34,
    "start_time": "2024-02-26T13:35:42.964Z"
   },
   {
    "duration": 79,
    "start_time": "2024-02-26T13:35:43.000Z"
   },
   {
    "duration": 16,
    "start_time": "2024-02-26T13:35:43.081Z"
   },
   {
    "duration": 49,
    "start_time": "2024-02-26T13:35:43.098Z"
   },
   {
    "duration": 63,
    "start_time": "2024-02-26T13:35:43.149Z"
   },
   {
    "duration": 22,
    "start_time": "2024-02-26T13:35:43.214Z"
   },
   {
    "duration": 276,
    "start_time": "2024-02-26T13:35:43.238Z"
   },
   {
    "duration": 15,
    "start_time": "2024-02-26T13:35:43.515Z"
   },
   {
    "duration": 102,
    "start_time": "2024-02-26T13:35:43.531Z"
   },
   {
    "duration": 266,
    "start_time": "2024-02-26T13:35:43.634Z"
   },
   {
    "duration": 22,
    "start_time": "2024-02-26T13:35:43.902Z"
   },
   {
    "duration": 38,
    "start_time": "2024-02-26T13:35:43.925Z"
   },
   {
    "duration": 2981,
    "start_time": "2024-02-26T13:35:43.965Z"
   },
   {
    "duration": 412,
    "start_time": "2024-02-26T13:35:46.948Z"
   },
   {
    "duration": 21,
    "start_time": "2024-02-26T13:35:47.362Z"
   },
   {
    "duration": 20,
    "start_time": "2024-02-26T13:35:47.385Z"
   },
   {
    "duration": 141,
    "start_time": "2024-02-26T13:35:47.407Z"
   },
   {
    "duration": 59,
    "start_time": "2024-02-26T13:35:47.552Z"
   },
   {
    "duration": 3,
    "start_time": "2024-02-26T13:35:47.612Z"
   },
   {
    "duration": 694,
    "start_time": "2024-02-26T13:35:47.617Z"
   },
   {
    "duration": 3,
    "start_time": "2024-02-26T13:35:48.313Z"
   },
   {
    "duration": 256,
    "start_time": "2024-02-26T13:35:48.318Z"
   },
   {
    "duration": 50,
    "start_time": "2024-02-26T13:35:48.576Z"
   },
   {
    "duration": 108,
    "start_time": "2024-02-26T13:35:48.628Z"
   },
   {
    "duration": 3,
    "start_time": "2024-02-26T13:35:48.738Z"
   },
   {
    "duration": 140,
    "start_time": "2024-02-26T13:35:48.742Z"
   },
   {
    "duration": 0,
    "start_time": "2024-02-26T13:35:48.883Z"
   },
   {
    "duration": 0,
    "start_time": "2024-02-26T13:35:48.885Z"
   },
   {
    "duration": 0,
    "start_time": "2024-02-26T13:35:48.886Z"
   },
   {
    "duration": 0,
    "start_time": "2024-02-26T13:35:48.887Z"
   },
   {
    "duration": 0,
    "start_time": "2024-02-26T13:35:48.888Z"
   },
   {
    "duration": 0,
    "start_time": "2024-02-26T13:35:48.889Z"
   },
   {
    "duration": 0,
    "start_time": "2024-02-26T13:35:48.894Z"
   },
   {
    "duration": 0,
    "start_time": "2024-02-26T13:35:48.896Z"
   },
   {
    "duration": 0,
    "start_time": "2024-02-26T13:35:48.897Z"
   },
   {
    "duration": 0,
    "start_time": "2024-02-26T13:35:48.899Z"
   },
   {
    "duration": 0,
    "start_time": "2024-02-26T13:35:48.900Z"
   },
   {
    "duration": 0,
    "start_time": "2024-02-26T13:35:48.901Z"
   },
   {
    "duration": 1,
    "start_time": "2024-02-26T13:35:48.902Z"
   },
   {
    "duration": 0,
    "start_time": "2024-02-26T13:35:48.904Z"
   },
   {
    "duration": 0,
    "start_time": "2024-02-26T13:35:48.905Z"
   },
   {
    "duration": 0,
    "start_time": "2024-02-26T13:35:48.907Z"
   },
   {
    "duration": 0,
    "start_time": "2024-02-26T13:35:48.908Z"
   },
   {
    "duration": 0,
    "start_time": "2024-02-26T13:35:48.909Z"
   },
   {
    "duration": 0,
    "start_time": "2024-02-26T13:35:48.911Z"
   },
   {
    "duration": 0,
    "start_time": "2024-02-26T13:35:48.912Z"
   },
   {
    "duration": 0,
    "start_time": "2024-02-26T13:35:48.913Z"
   },
   {
    "duration": 18,
    "start_time": "2024-02-26T13:36:15.011Z"
   },
   {
    "duration": 1502,
    "start_time": "2024-02-26T13:36:23.678Z"
   },
   {
    "duration": 891,
    "start_time": "2024-02-26T13:36:25.182Z"
   },
   {
    "duration": 19,
    "start_time": "2024-02-26T13:36:26.075Z"
   },
   {
    "duration": 149,
    "start_time": "2024-02-26T13:36:26.095Z"
   },
   {
    "duration": 485,
    "start_time": "2024-02-26T13:36:26.246Z"
   },
   {
    "duration": 97,
    "start_time": "2024-02-26T13:36:26.733Z"
   },
   {
    "duration": 12,
    "start_time": "2024-02-26T13:36:26.831Z"
   },
   {
    "duration": 57,
    "start_time": "2024-02-26T13:36:26.845Z"
   },
   {
    "duration": 26,
    "start_time": "2024-02-26T13:36:26.904Z"
   },
   {
    "duration": 80,
    "start_time": "2024-02-26T13:36:26.932Z"
   },
   {
    "duration": 29,
    "start_time": "2024-02-26T13:36:27.013Z"
   },
   {
    "duration": 20,
    "start_time": "2024-02-26T13:36:27.043Z"
   },
   {
    "duration": 15,
    "start_time": "2024-02-26T13:36:27.065Z"
   },
   {
    "duration": 41,
    "start_time": "2024-02-26T13:36:27.097Z"
   },
   {
    "duration": 57,
    "start_time": "2024-02-26T13:36:27.139Z"
   },
   {
    "duration": 24,
    "start_time": "2024-02-26T13:36:27.197Z"
   },
   {
    "duration": 272,
    "start_time": "2024-02-26T13:36:27.222Z"
   },
   {
    "duration": 15,
    "start_time": "2024-02-26T13:36:27.495Z"
   },
   {
    "duration": 120,
    "start_time": "2024-02-26T13:36:27.512Z"
   },
   {
    "duration": 251,
    "start_time": "2024-02-26T13:36:27.634Z"
   },
   {
    "duration": 18,
    "start_time": "2024-02-26T13:36:27.887Z"
   },
   {
    "duration": 66,
    "start_time": "2024-02-26T13:36:27.907Z"
   },
   {
    "duration": 2984,
    "start_time": "2024-02-26T13:36:27.975Z"
   },
   {
    "duration": 387,
    "start_time": "2024-02-26T13:36:30.961Z"
   },
   {
    "duration": 20,
    "start_time": "2024-02-26T13:36:31.350Z"
   },
   {
    "duration": 49,
    "start_time": "2024-02-26T13:36:31.372Z"
   },
   {
    "duration": 118,
    "start_time": "2024-02-26T13:36:31.423Z"
   },
   {
    "duration": 79,
    "start_time": "2024-02-26T13:36:31.542Z"
   },
   {
    "duration": 3,
    "start_time": "2024-02-26T13:36:31.622Z"
   },
   {
    "duration": 755,
    "start_time": "2024-02-26T13:36:31.626Z"
   },
   {
    "duration": 3,
    "start_time": "2024-02-26T13:36:32.382Z"
   },
   {
    "duration": 269,
    "start_time": "2024-02-26T13:36:32.386Z"
   },
   {
    "duration": 54,
    "start_time": "2024-02-26T13:36:32.657Z"
   },
   {
    "duration": 30,
    "start_time": "2024-02-26T13:36:32.713Z"
   },
   {
    "duration": 3,
    "start_time": "2024-02-26T13:36:32.744Z"
   },
   {
    "duration": 150,
    "start_time": "2024-02-26T13:36:32.748Z"
   },
   {
    "duration": 0,
    "start_time": "2024-02-26T13:36:32.900Z"
   },
   {
    "duration": 0,
    "start_time": "2024-02-26T13:36:32.901Z"
   },
   {
    "duration": 0,
    "start_time": "2024-02-26T13:36:32.902Z"
   },
   {
    "duration": 0,
    "start_time": "2024-02-26T13:36:32.903Z"
   },
   {
    "duration": 0,
    "start_time": "2024-02-26T13:36:32.903Z"
   },
   {
    "duration": 0,
    "start_time": "2024-02-26T13:36:32.905Z"
   },
   {
    "duration": 0,
    "start_time": "2024-02-26T13:36:32.905Z"
   },
   {
    "duration": 0,
    "start_time": "2024-02-26T13:36:32.906Z"
   },
   {
    "duration": 0,
    "start_time": "2024-02-26T13:36:32.908Z"
   },
   {
    "duration": 0,
    "start_time": "2024-02-26T13:36:32.909Z"
   },
   {
    "duration": 0,
    "start_time": "2024-02-26T13:36:32.910Z"
   },
   {
    "duration": 0,
    "start_time": "2024-02-26T13:36:32.911Z"
   },
   {
    "duration": 0,
    "start_time": "2024-02-26T13:36:32.913Z"
   },
   {
    "duration": 0,
    "start_time": "2024-02-26T13:36:32.914Z"
   },
   {
    "duration": 0,
    "start_time": "2024-02-26T13:36:32.915Z"
   },
   {
    "duration": 0,
    "start_time": "2024-02-26T13:36:32.916Z"
   },
   {
    "duration": 0,
    "start_time": "2024-02-26T13:36:32.917Z"
   },
   {
    "duration": 0,
    "start_time": "2024-02-26T13:36:32.918Z"
   },
   {
    "duration": 0,
    "start_time": "2024-02-26T13:36:32.918Z"
   },
   {
    "duration": 0,
    "start_time": "2024-02-26T13:36:32.919Z"
   },
   {
    "duration": 0,
    "start_time": "2024-02-26T13:36:32.920Z"
   },
   {
    "duration": 106,
    "start_time": "2024-02-26T15:20:09.132Z"
   },
   {
    "duration": 1359,
    "start_time": "2024-02-26T15:20:23.145Z"
   },
   {
    "duration": 853,
    "start_time": "2024-02-26T15:20:24.506Z"
   },
   {
    "duration": 17,
    "start_time": "2024-02-26T15:20:25.360Z"
   },
   {
    "duration": 181,
    "start_time": "2024-02-26T15:20:25.378Z"
   },
   {
    "duration": 475,
    "start_time": "2024-02-26T15:20:25.561Z"
   },
   {
    "duration": 100,
    "start_time": "2024-02-26T15:20:26.037Z"
   },
   {
    "duration": 12,
    "start_time": "2024-02-26T15:20:26.138Z"
   },
   {
    "duration": 70,
    "start_time": "2024-02-26T15:20:26.151Z"
   },
   {
    "duration": 26,
    "start_time": "2024-02-26T15:20:26.223Z"
   },
   {
    "duration": 89,
    "start_time": "2024-02-26T15:20:26.250Z"
   },
   {
    "duration": 25,
    "start_time": "2024-02-26T15:20:26.340Z"
   },
   {
    "duration": 33,
    "start_time": "2024-02-26T15:20:26.367Z"
   },
   {
    "duration": 13,
    "start_time": "2024-02-26T15:20:26.401Z"
   },
   {
    "duration": 38,
    "start_time": "2024-02-26T15:20:26.417Z"
   },
   {
    "duration": 71,
    "start_time": "2024-02-26T15:20:26.457Z"
   },
   {
    "duration": 27,
    "start_time": "2024-02-26T15:20:26.530Z"
   },
   {
    "duration": 267,
    "start_time": "2024-02-26T15:20:26.559Z"
   },
   {
    "duration": 14,
    "start_time": "2024-02-26T15:20:26.828Z"
   },
   {
    "duration": 115,
    "start_time": "2024-02-26T15:20:26.844Z"
   },
   {
    "duration": 246,
    "start_time": "2024-02-26T15:20:26.960Z"
   },
   {
    "duration": 18,
    "start_time": "2024-02-26T15:20:27.208Z"
   },
   {
    "duration": 45,
    "start_time": "2024-02-26T15:20:27.228Z"
   },
   {
    "duration": 2982,
    "start_time": "2024-02-26T15:20:27.275Z"
   },
   {
    "duration": 410,
    "start_time": "2024-02-26T15:20:30.259Z"
   },
   {
    "duration": 30,
    "start_time": "2024-02-26T15:20:30.670Z"
   },
   {
    "duration": 58,
    "start_time": "2024-02-26T15:20:30.702Z"
   },
   {
    "duration": 150,
    "start_time": "2024-02-26T15:20:30.762Z"
   },
   {
    "duration": 99,
    "start_time": "2024-02-26T15:20:30.914Z"
   },
   {
    "duration": 165,
    "start_time": "2024-02-26T15:20:31.015Z"
   },
   {
    "duration": 3,
    "start_time": "2024-02-26T15:20:31.181Z"
   },
   {
    "duration": 719,
    "start_time": "2024-02-26T15:20:31.185Z"
   },
   {
    "duration": 3,
    "start_time": "2024-02-26T15:20:31.905Z"
   },
   {
    "duration": 249,
    "start_time": "2024-02-26T15:20:31.910Z"
   },
   {
    "duration": 49,
    "start_time": "2024-02-26T15:20:32.161Z"
   },
   {
    "duration": 49,
    "start_time": "2024-02-26T15:20:32.212Z"
   },
   {
    "duration": 19,
    "start_time": "2024-02-26T15:20:32.262Z"
   },
   {
    "duration": 150,
    "start_time": "2024-02-26T15:20:32.283Z"
   },
   {
    "duration": 0,
    "start_time": "2024-02-26T15:20:32.435Z"
   },
   {
    "duration": 0,
    "start_time": "2024-02-26T15:20:32.436Z"
   },
   {
    "duration": 0,
    "start_time": "2024-02-26T15:20:32.437Z"
   },
   {
    "duration": 0,
    "start_time": "2024-02-26T15:20:32.438Z"
   },
   {
    "duration": 0,
    "start_time": "2024-02-26T15:20:32.439Z"
   },
   {
    "duration": 0,
    "start_time": "2024-02-26T15:20:32.440Z"
   },
   {
    "duration": 0,
    "start_time": "2024-02-26T15:20:32.441Z"
   },
   {
    "duration": 0,
    "start_time": "2024-02-26T15:20:32.442Z"
   },
   {
    "duration": 0,
    "start_time": "2024-02-26T15:20:32.443Z"
   },
   {
    "duration": 0,
    "start_time": "2024-02-26T15:20:32.445Z"
   },
   {
    "duration": 0,
    "start_time": "2024-02-26T15:20:32.445Z"
   },
   {
    "duration": 0,
    "start_time": "2024-02-26T15:20:32.447Z"
   },
   {
    "duration": 0,
    "start_time": "2024-02-26T15:20:32.447Z"
   },
   {
    "duration": 0,
    "start_time": "2024-02-26T15:20:32.448Z"
   },
   {
    "duration": 0,
    "start_time": "2024-02-26T15:20:32.450Z"
   },
   {
    "duration": 0,
    "start_time": "2024-02-26T15:20:32.451Z"
   },
   {
    "duration": 0,
    "start_time": "2024-02-26T15:20:32.452Z"
   },
   {
    "duration": 0,
    "start_time": "2024-02-26T15:20:32.453Z"
   },
   {
    "duration": 0,
    "start_time": "2024-02-26T15:20:32.453Z"
   },
   {
    "duration": 0,
    "start_time": "2024-02-26T15:20:32.454Z"
   },
   {
    "duration": 0,
    "start_time": "2024-02-26T15:20:32.455Z"
   },
   {
    "duration": 1483,
    "start_time": "2024-02-26T15:23:30.015Z"
   },
   {
    "duration": 939,
    "start_time": "2024-02-26T15:23:31.501Z"
   },
   {
    "duration": 17,
    "start_time": "2024-02-26T15:23:33.631Z"
   },
   {
    "duration": 154,
    "start_time": "2024-02-26T15:23:34.130Z"
   },
   {
    "duration": 512,
    "start_time": "2024-02-26T15:23:35.140Z"
   },
   {
    "duration": 103,
    "start_time": "2024-02-26T15:23:35.654Z"
   },
   {
    "duration": 12,
    "start_time": "2024-02-26T15:23:37.724Z"
   },
   {
    "duration": 45,
    "start_time": "2024-02-26T15:23:37.914Z"
   },
   {
    "duration": 38,
    "start_time": "2024-02-26T15:23:39.054Z"
   },
   {
    "duration": 66,
    "start_time": "2024-02-26T15:23:39.284Z"
   },
   {
    "duration": 26,
    "start_time": "2024-02-26T15:23:39.819Z"
   },
   {
    "duration": 20,
    "start_time": "2024-02-26T15:23:40.162Z"
   },
   {
    "duration": 5,
    "start_time": "2024-02-26T15:23:41.039Z"
   },
   {
    "duration": 25,
    "start_time": "2024-02-26T15:23:42.576Z"
   },
   {
    "duration": 50,
    "start_time": "2024-02-26T15:23:43.603Z"
   },
   {
    "duration": 37,
    "start_time": "2024-02-26T15:23:49.018Z"
   },
   {
    "duration": 250,
    "start_time": "2024-02-26T15:23:51.195Z"
   },
   {
    "duration": 14,
    "start_time": "2024-02-26T15:23:52.722Z"
   },
   {
    "duration": 85,
    "start_time": "2024-02-26T15:23:54.211Z"
   },
   {
    "duration": 237,
    "start_time": "2024-02-26T15:23:55.168Z"
   },
   {
    "duration": 17,
    "start_time": "2024-02-26T15:23:55.814Z"
   },
   {
    "duration": 26,
    "start_time": "2024-02-26T15:23:56.595Z"
   },
   {
    "duration": 3042,
    "start_time": "2024-02-26T15:23:56.921Z"
   },
   {
    "duration": 411,
    "start_time": "2024-02-26T15:24:03.022Z"
   },
   {
    "duration": 20,
    "start_time": "2024-02-26T15:24:10.045Z"
   },
   {
    "duration": 12,
    "start_time": "2024-02-26T15:24:13.256Z"
   },
   {
    "duration": 97,
    "start_time": "2024-02-26T15:24:14.064Z"
   },
   {
    "duration": 47,
    "start_time": "2024-02-26T15:24:16.957Z"
   },
   {
    "duration": 138,
    "start_time": "2024-02-26T15:24:19.325Z"
   },
   {
    "duration": 142,
    "start_time": "2024-02-26T15:25:12.440Z"
   },
   {
    "duration": 126,
    "start_time": "2024-02-26T15:25:27.583Z"
   },
   {
    "duration": 125,
    "start_time": "2024-02-26T15:25:59.531Z"
   },
   {
    "duration": 121,
    "start_time": "2024-02-26T15:26:10.352Z"
   },
   {
    "duration": 1462,
    "start_time": "2024-02-26T15:26:19.279Z"
   },
   {
    "duration": 863,
    "start_time": "2024-02-26T15:26:20.743Z"
   },
   {
    "duration": 16,
    "start_time": "2024-02-26T15:26:21.608Z"
   },
   {
    "duration": 177,
    "start_time": "2024-02-26T15:26:21.626Z"
   },
   {
    "duration": 482,
    "start_time": "2024-02-26T15:26:21.805Z"
   },
   {
    "duration": 92,
    "start_time": "2024-02-26T15:26:22.289Z"
   },
   {
    "duration": 21,
    "start_time": "2024-02-26T15:26:22.382Z"
   },
   {
    "duration": 58,
    "start_time": "2024-02-26T15:26:22.405Z"
   },
   {
    "duration": 26,
    "start_time": "2024-02-26T15:26:22.465Z"
   },
   {
    "duration": 63,
    "start_time": "2024-02-26T15:26:22.495Z"
   },
   {
    "duration": 43,
    "start_time": "2024-02-26T15:26:22.560Z"
   },
   {
    "duration": 20,
    "start_time": "2024-02-26T15:26:22.604Z"
   },
   {
    "duration": 23,
    "start_time": "2024-02-26T15:26:22.626Z"
   },
   {
    "duration": 29,
    "start_time": "2024-02-26T15:26:22.650Z"
   },
   {
    "duration": 54,
    "start_time": "2024-02-26T15:26:22.680Z"
   },
   {
    "duration": 24,
    "start_time": "2024-02-26T15:26:22.735Z"
   },
   {
    "duration": 264,
    "start_time": "2024-02-26T15:26:22.761Z"
   },
   {
    "duration": 15,
    "start_time": "2024-02-26T15:26:23.027Z"
   },
   {
    "duration": 103,
    "start_time": "2024-02-26T15:26:23.044Z"
   },
   {
    "duration": 275,
    "start_time": "2024-02-26T15:26:23.149Z"
   },
   {
    "duration": 19,
    "start_time": "2024-02-26T15:26:23.425Z"
   },
   {
    "duration": 53,
    "start_time": "2024-02-26T15:26:23.446Z"
   },
   {
    "duration": 2947,
    "start_time": "2024-02-26T15:26:23.501Z"
   },
   {
    "duration": 413,
    "start_time": "2024-02-26T15:26:26.449Z"
   },
   {
    "duration": 20,
    "start_time": "2024-02-26T15:26:26.864Z"
   },
   {
    "duration": 36,
    "start_time": "2024-02-26T15:26:26.886Z"
   },
   {
    "duration": 112,
    "start_time": "2024-02-26T15:26:26.924Z"
   },
   {
    "duration": 54,
    "start_time": "2024-02-26T15:26:27.040Z"
   },
   {
    "duration": 148,
    "start_time": "2024-02-26T15:26:27.096Z"
   },
   {
    "duration": 143,
    "start_time": "2024-02-26T15:26:27.246Z"
   },
   {
    "duration": 137,
    "start_time": "2024-02-26T15:26:27.390Z"
   },
   {
    "duration": 3,
    "start_time": "2024-02-26T15:26:27.529Z"
   },
   {
    "duration": 707,
    "start_time": "2024-02-26T15:26:27.534Z"
   },
   {
    "duration": 0,
    "start_time": "2024-02-26T15:26:28.243Z"
   },
   {
    "duration": 0,
    "start_time": "2024-02-26T15:26:28.244Z"
   },
   {
    "duration": 0,
    "start_time": "2024-02-26T15:26:28.245Z"
   },
   {
    "duration": 0,
    "start_time": "2024-02-26T15:26:28.246Z"
   },
   {
    "duration": 0,
    "start_time": "2024-02-26T15:26:28.247Z"
   },
   {
    "duration": 0,
    "start_time": "2024-02-26T15:26:28.248Z"
   },
   {
    "duration": 0,
    "start_time": "2024-02-26T15:26:28.249Z"
   },
   {
    "duration": 0,
    "start_time": "2024-02-26T15:26:28.250Z"
   },
   {
    "duration": 0,
    "start_time": "2024-02-26T15:26:28.251Z"
   },
   {
    "duration": 0,
    "start_time": "2024-02-26T15:26:28.252Z"
   },
   {
    "duration": 0,
    "start_time": "2024-02-26T15:26:28.253Z"
   },
   {
    "duration": 0,
    "start_time": "2024-02-26T15:26:28.254Z"
   },
   {
    "duration": 0,
    "start_time": "2024-02-26T15:26:28.256Z"
   },
   {
    "duration": 0,
    "start_time": "2024-02-26T15:26:28.257Z"
   },
   {
    "duration": 0,
    "start_time": "2024-02-26T15:26:28.258Z"
   },
   {
    "duration": 0,
    "start_time": "2024-02-26T15:26:28.259Z"
   },
   {
    "duration": 0,
    "start_time": "2024-02-26T15:26:28.260Z"
   },
   {
    "duration": 0,
    "start_time": "2024-02-26T15:26:28.261Z"
   },
   {
    "duration": 0,
    "start_time": "2024-02-26T15:26:28.261Z"
   },
   {
    "duration": 0,
    "start_time": "2024-02-26T15:26:28.263Z"
   },
   {
    "duration": 0,
    "start_time": "2024-02-26T15:26:28.264Z"
   },
   {
    "duration": 0,
    "start_time": "2024-02-26T15:26:28.294Z"
   },
   {
    "duration": 0,
    "start_time": "2024-02-26T15:26:28.295Z"
   },
   {
    "duration": 0,
    "start_time": "2024-02-26T15:26:28.296Z"
   },
   {
    "duration": 0,
    "start_time": "2024-02-26T15:26:28.297Z"
   },
   {
    "duration": 0,
    "start_time": "2024-02-26T15:26:28.298Z"
   },
   {
    "duration": 0,
    "start_time": "2024-02-26T15:26:28.299Z"
   },
   {
    "duration": 102,
    "start_time": "2024-02-26T15:30:05.199Z"
   },
   {
    "duration": 60,
    "start_time": "2024-02-26T15:34:54.830Z"
   },
   {
    "duration": 54,
    "start_time": "2024-02-26T15:37:24.317Z"
   },
   {
    "duration": 3,
    "start_time": "2024-02-26T15:46:31.345Z"
   },
   {
    "duration": 11,
    "start_time": "2024-02-26T16:08:32.602Z"
   },
   {
    "duration": 1425,
    "start_time": "2024-02-26T16:25:05.657Z"
   },
   {
    "duration": 879,
    "start_time": "2024-02-26T16:25:07.084Z"
   },
   {
    "duration": 16,
    "start_time": "2024-02-26T16:25:07.965Z"
   },
   {
    "duration": 167,
    "start_time": "2024-02-26T16:25:07.982Z"
   },
   {
    "duration": 491,
    "start_time": "2024-02-26T16:25:08.151Z"
   },
   {
    "duration": 94,
    "start_time": "2024-02-26T16:25:08.644Z"
   },
   {
    "duration": 13,
    "start_time": "2024-02-26T16:25:08.739Z"
   },
   {
    "duration": 81,
    "start_time": "2024-02-26T16:25:08.753Z"
   },
   {
    "duration": 25,
    "start_time": "2024-02-26T16:25:08.836Z"
   },
   {
    "duration": 100,
    "start_time": "2024-02-26T16:25:08.863Z"
   },
   {
    "duration": 34,
    "start_time": "2024-02-26T16:25:08.964Z"
   },
   {
    "duration": 22,
    "start_time": "2024-02-26T16:25:09.000Z"
   },
   {
    "duration": 25,
    "start_time": "2024-02-26T16:25:09.024Z"
   },
   {
    "duration": 59,
    "start_time": "2024-02-26T16:25:09.051Z"
   },
   {
    "duration": 83,
    "start_time": "2024-02-26T16:25:09.112Z"
   },
   {
    "duration": 24,
    "start_time": "2024-02-26T16:25:09.197Z"
   },
   {
    "duration": 285,
    "start_time": "2024-02-26T16:25:09.223Z"
   },
   {
    "duration": 14,
    "start_time": "2024-02-26T16:25:09.509Z"
   },
   {
    "duration": 101,
    "start_time": "2024-02-26T16:25:09.525Z"
   },
   {
    "duration": 245,
    "start_time": "2024-02-26T16:25:09.627Z"
   },
   {
    "duration": 22,
    "start_time": "2024-02-26T16:25:09.873Z"
   },
   {
    "duration": 31,
    "start_time": "2024-02-26T16:25:09.897Z"
   },
   {
    "duration": 2977,
    "start_time": "2024-02-26T16:25:09.930Z"
   },
   {
    "duration": 361,
    "start_time": "2024-02-26T16:25:12.909Z"
   },
   {
    "duration": 25,
    "start_time": "2024-02-26T16:25:13.271Z"
   },
   {
    "duration": 22,
    "start_time": "2024-02-26T16:25:13.298Z"
   },
   {
    "duration": 88,
    "start_time": "2024-02-26T16:25:13.321Z"
   },
   {
    "duration": 127,
    "start_time": "2024-02-26T16:25:13.411Z"
   },
   {
    "duration": 131,
    "start_time": "2024-02-26T16:25:13.539Z"
   },
   {
    "duration": 147,
    "start_time": "2024-02-26T16:25:13.672Z"
   },
   {
    "duration": 131,
    "start_time": "2024-02-26T16:25:13.821Z"
   },
   {
    "duration": 117,
    "start_time": "2024-02-26T16:25:13.954Z"
   },
   {
    "duration": 0,
    "start_time": "2024-02-26T16:25:14.073Z"
   },
   {
    "duration": 0,
    "start_time": "2024-02-26T16:25:14.074Z"
   },
   {
    "duration": 0,
    "start_time": "2024-02-26T16:25:14.075Z"
   },
   {
    "duration": 0,
    "start_time": "2024-02-26T16:25:14.077Z"
   },
   {
    "duration": 0,
    "start_time": "2024-02-26T16:25:14.093Z"
   },
   {
    "duration": 0,
    "start_time": "2024-02-26T16:25:14.094Z"
   },
   {
    "duration": 0,
    "start_time": "2024-02-26T16:25:14.096Z"
   },
   {
    "duration": 0,
    "start_time": "2024-02-26T16:25:14.097Z"
   },
   {
    "duration": 0,
    "start_time": "2024-02-26T16:25:14.099Z"
   },
   {
    "duration": 0,
    "start_time": "2024-02-26T16:25:14.100Z"
   },
   {
    "duration": 0,
    "start_time": "2024-02-26T16:25:14.101Z"
   },
   {
    "duration": 0,
    "start_time": "2024-02-26T16:25:14.102Z"
   },
   {
    "duration": 0,
    "start_time": "2024-02-26T16:25:14.104Z"
   },
   {
    "duration": 0,
    "start_time": "2024-02-26T16:25:14.105Z"
   },
   {
    "duration": 0,
    "start_time": "2024-02-26T16:25:14.106Z"
   },
   {
    "duration": 0,
    "start_time": "2024-02-26T16:25:14.108Z"
   },
   {
    "duration": 0,
    "start_time": "2024-02-26T16:25:14.109Z"
   },
   {
    "duration": 0,
    "start_time": "2024-02-26T16:25:14.111Z"
   },
   {
    "duration": 0,
    "start_time": "2024-02-26T16:25:14.111Z"
   },
   {
    "duration": 0,
    "start_time": "2024-02-26T16:25:14.113Z"
   },
   {
    "duration": 0,
    "start_time": "2024-02-26T16:25:14.114Z"
   },
   {
    "duration": 0,
    "start_time": "2024-02-26T16:25:14.115Z"
   },
   {
    "duration": 0,
    "start_time": "2024-02-26T16:25:14.116Z"
   },
   {
    "duration": 0,
    "start_time": "2024-02-26T16:25:14.117Z"
   },
   {
    "duration": 0,
    "start_time": "2024-02-26T16:25:14.118Z"
   },
   {
    "duration": 0,
    "start_time": "2024-02-26T16:25:14.119Z"
   },
   {
    "duration": 0,
    "start_time": "2024-02-26T16:25:14.120Z"
   },
   {
    "duration": 0,
    "start_time": "2024-02-26T16:25:14.121Z"
   },
   {
    "duration": 1425,
    "start_time": "2024-02-26T16:26:33.879Z"
   },
   {
    "duration": 814,
    "start_time": "2024-02-26T16:26:35.306Z"
   },
   {
    "duration": 15,
    "start_time": "2024-02-26T16:26:36.121Z"
   },
   {
    "duration": 250,
    "start_time": "2024-02-26T16:26:36.138Z"
   },
   {
    "duration": 462,
    "start_time": "2024-02-26T16:26:36.390Z"
   },
   {
    "duration": 105,
    "start_time": "2024-02-26T16:26:36.853Z"
   },
   {
    "duration": 12,
    "start_time": "2024-02-26T16:26:36.960Z"
   },
   {
    "duration": 54,
    "start_time": "2024-02-26T16:26:36.973Z"
   },
   {
    "duration": 26,
    "start_time": "2024-02-26T16:26:37.028Z"
   },
   {
    "duration": 86,
    "start_time": "2024-02-26T16:26:37.057Z"
   },
   {
    "duration": 26,
    "start_time": "2024-02-26T16:26:37.145Z"
   },
   {
    "duration": 54,
    "start_time": "2024-02-26T16:26:37.172Z"
   },
   {
    "duration": 40,
    "start_time": "2024-02-26T16:26:37.228Z"
   },
   {
    "duration": 65,
    "start_time": "2024-02-26T16:26:37.270Z"
   },
   {
    "duration": 57,
    "start_time": "2024-02-26T16:26:37.337Z"
   },
   {
    "duration": 24,
    "start_time": "2024-02-26T16:26:37.395Z"
   },
   {
    "duration": 266,
    "start_time": "2024-02-26T16:26:37.420Z"
   },
   {
    "duration": 18,
    "start_time": "2024-02-26T16:26:37.687Z"
   },
   {
    "duration": 99,
    "start_time": "2024-02-26T16:26:37.706Z"
   },
   {
    "duration": 252,
    "start_time": "2024-02-26T16:26:37.806Z"
   },
   {
    "duration": 18,
    "start_time": "2024-02-26T16:26:38.060Z"
   },
   {
    "duration": 65,
    "start_time": "2024-02-26T16:26:38.079Z"
   },
   {
    "duration": 2819,
    "start_time": "2024-02-26T16:26:38.145Z"
   },
   {
    "duration": 376,
    "start_time": "2024-02-26T16:26:40.965Z"
   },
   {
    "duration": 20,
    "start_time": "2024-02-26T16:26:41.342Z"
   },
   {
    "duration": 14,
    "start_time": "2024-02-26T16:26:41.363Z"
   },
   {
    "duration": 93,
    "start_time": "2024-02-26T16:26:41.378Z"
   },
   {
    "duration": 49,
    "start_time": "2024-02-26T16:26:41.475Z"
   },
   {
    "duration": 131,
    "start_time": "2024-02-26T16:26:41.525Z"
   },
   {
    "duration": 168,
    "start_time": "2024-02-26T16:26:41.657Z"
   },
   {
    "duration": 120,
    "start_time": "2024-02-26T16:26:41.827Z"
   },
   {
    "duration": 110,
    "start_time": "2024-02-26T16:26:41.949Z"
   },
   {
    "duration": 0,
    "start_time": "2024-02-26T16:26:42.060Z"
   },
   {
    "duration": 0,
    "start_time": "2024-02-26T16:26:42.061Z"
   },
   {
    "duration": 0,
    "start_time": "2024-02-26T16:26:42.062Z"
   },
   {
    "duration": 0,
    "start_time": "2024-02-26T16:26:42.063Z"
   },
   {
    "duration": 0,
    "start_time": "2024-02-26T16:26:42.064Z"
   },
   {
    "duration": 0,
    "start_time": "2024-02-26T16:26:42.066Z"
   },
   {
    "duration": 0,
    "start_time": "2024-02-26T16:26:42.066Z"
   },
   {
    "duration": 0,
    "start_time": "2024-02-26T16:26:42.067Z"
   },
   {
    "duration": 0,
    "start_time": "2024-02-26T16:26:42.068Z"
   },
   {
    "duration": 0,
    "start_time": "2024-02-26T16:26:42.069Z"
   },
   {
    "duration": 0,
    "start_time": "2024-02-26T16:26:42.070Z"
   },
   {
    "duration": 0,
    "start_time": "2024-02-26T16:26:42.071Z"
   },
   {
    "duration": 0,
    "start_time": "2024-02-26T16:26:42.094Z"
   },
   {
    "duration": 0,
    "start_time": "2024-02-26T16:26:42.095Z"
   },
   {
    "duration": 0,
    "start_time": "2024-02-26T16:26:42.096Z"
   },
   {
    "duration": 0,
    "start_time": "2024-02-26T16:26:42.097Z"
   },
   {
    "duration": 0,
    "start_time": "2024-02-26T16:26:42.098Z"
   },
   {
    "duration": 0,
    "start_time": "2024-02-26T16:26:42.099Z"
   },
   {
    "duration": 0,
    "start_time": "2024-02-26T16:26:42.100Z"
   },
   {
    "duration": 0,
    "start_time": "2024-02-26T16:26:42.101Z"
   },
   {
    "duration": 0,
    "start_time": "2024-02-26T16:26:42.102Z"
   },
   {
    "duration": 0,
    "start_time": "2024-02-26T16:26:42.103Z"
   },
   {
    "duration": 0,
    "start_time": "2024-02-26T16:26:42.104Z"
   },
   {
    "duration": 0,
    "start_time": "2024-02-26T16:26:42.106Z"
   },
   {
    "duration": 0,
    "start_time": "2024-02-26T16:26:42.106Z"
   },
   {
    "duration": 0,
    "start_time": "2024-02-26T16:26:42.107Z"
   },
   {
    "duration": 0,
    "start_time": "2024-02-26T16:26:42.108Z"
   },
   {
    "duration": 0,
    "start_time": "2024-02-26T16:26:42.109Z"
   },
   {
    "duration": 12,
    "start_time": "2024-02-26T16:28:43.710Z"
   },
   {
    "duration": 93,
    "start_time": "2024-02-26T16:28:44.662Z"
   },
   {
    "duration": 4,
    "start_time": "2024-02-26T16:37:54.325Z"
   },
   {
    "duration": 1611,
    "start_time": "2024-02-27T21:00:01.598Z"
   },
   {
    "duration": 4,
    "start_time": "2024-02-27T21:23:54.719Z"
   },
   {
    "duration": 54,
    "start_time": "2024-02-28T16:13:25.584Z"
   },
   {
    "duration": 1653,
    "start_time": "2024-02-28T16:13:35.965Z"
   },
   {
    "duration": 1186,
    "start_time": "2024-02-28T16:13:37.621Z"
   },
   {
    "duration": 19,
    "start_time": "2024-02-28T16:13:38.808Z"
   },
   {
    "duration": 172,
    "start_time": "2024-02-28T16:13:38.828Z"
   },
   {
    "duration": 530,
    "start_time": "2024-02-28T16:13:39.002Z"
   },
   {
    "duration": 119,
    "start_time": "2024-02-28T16:13:39.534Z"
   },
   {
    "duration": 13,
    "start_time": "2024-02-28T16:13:39.654Z"
   },
   {
    "duration": 58,
    "start_time": "2024-02-28T16:13:39.669Z"
   },
   {
    "duration": 28,
    "start_time": "2024-02-28T16:13:39.729Z"
   },
   {
    "duration": 84,
    "start_time": "2024-02-28T16:13:39.758Z"
   },
   {
    "duration": 28,
    "start_time": "2024-02-28T16:13:39.844Z"
   },
   {
    "duration": 22,
    "start_time": "2024-02-28T16:13:39.873Z"
   },
   {
    "duration": 6,
    "start_time": "2024-02-28T16:13:39.915Z"
   },
   {
    "duration": 33,
    "start_time": "2024-02-28T16:13:39.924Z"
   },
   {
    "duration": 67,
    "start_time": "2024-02-28T16:13:39.958Z"
   },
   {
    "duration": 25,
    "start_time": "2024-02-28T16:13:40.027Z"
   },
   {
    "duration": 301,
    "start_time": "2024-02-28T16:13:40.054Z"
   },
   {
    "duration": 15,
    "start_time": "2024-02-28T16:13:40.356Z"
   },
   {
    "duration": 108,
    "start_time": "2024-02-28T16:13:40.373Z"
   },
   {
    "duration": 310,
    "start_time": "2024-02-28T16:13:40.483Z"
   },
   {
    "duration": 22,
    "start_time": "2024-02-28T16:13:40.795Z"
   },
   {
    "duration": 35,
    "start_time": "2024-02-28T16:13:40.818Z"
   },
   {
    "duration": 3232,
    "start_time": "2024-02-28T16:13:40.855Z"
   },
   {
    "duration": 446,
    "start_time": "2024-02-28T16:13:44.088Z"
   },
   {
    "duration": 21,
    "start_time": "2024-02-28T16:13:44.536Z"
   },
   {
    "duration": 12,
    "start_time": "2024-02-28T16:13:44.559Z"
   },
   {
    "duration": 115,
    "start_time": "2024-02-28T16:13:44.573Z"
   },
   {
    "duration": 74,
    "start_time": "2024-02-28T16:13:44.690Z"
   },
   {
    "duration": 156,
    "start_time": "2024-02-28T16:13:44.766Z"
   },
   {
    "duration": 163,
    "start_time": "2024-02-28T16:13:44.924Z"
   },
   {
    "duration": 137,
    "start_time": "2024-02-28T16:13:45.089Z"
   },
   {
    "duration": 11,
    "start_time": "2024-02-28T16:13:45.228Z"
   },
   {
    "duration": 122,
    "start_time": "2024-02-28T16:13:45.241Z"
   },
   {
    "duration": 2,
    "start_time": "2024-02-28T16:13:45.365Z"
   },
   {
    "duration": 41,
    "start_time": "2024-02-28T16:13:45.369Z"
   },
   {
    "duration": 702,
    "start_time": "2024-02-28T16:13:45.412Z"
   },
   {
    "duration": 0,
    "start_time": "2024-02-28T16:13:46.117Z"
   },
   {
    "duration": 0,
    "start_time": "2024-02-28T16:13:46.119Z"
   },
   {
    "duration": 0,
    "start_time": "2024-02-28T16:13:46.121Z"
   },
   {
    "duration": 0,
    "start_time": "2024-02-28T16:13:46.123Z"
   },
   {
    "duration": 0,
    "start_time": "2024-02-28T16:13:46.124Z"
   },
   {
    "duration": 0,
    "start_time": "2024-02-28T16:13:46.125Z"
   },
   {
    "duration": 0,
    "start_time": "2024-02-28T16:13:46.127Z"
   },
   {
    "duration": 0,
    "start_time": "2024-02-28T16:13:46.128Z"
   },
   {
    "duration": 0,
    "start_time": "2024-02-28T16:13:46.130Z"
   },
   {
    "duration": 0,
    "start_time": "2024-02-28T16:13:46.131Z"
   },
   {
    "duration": 0,
    "start_time": "2024-02-28T16:13:46.133Z"
   },
   {
    "duration": 0,
    "start_time": "2024-02-28T16:13:46.134Z"
   },
   {
    "duration": 0,
    "start_time": "2024-02-28T16:13:46.136Z"
   },
   {
    "duration": 0,
    "start_time": "2024-02-28T16:13:46.138Z"
   },
   {
    "duration": 0,
    "start_time": "2024-02-28T16:13:46.139Z"
   },
   {
    "duration": 0,
    "start_time": "2024-02-28T16:13:46.141Z"
   },
   {
    "duration": 0,
    "start_time": "2024-02-28T16:13:46.143Z"
   },
   {
    "duration": 0,
    "start_time": "2024-02-28T16:13:46.144Z"
   },
   {
    "duration": 0,
    "start_time": "2024-02-28T16:13:46.146Z"
   },
   {
    "duration": 0,
    "start_time": "2024-02-28T16:13:46.147Z"
   },
   {
    "duration": 0,
    "start_time": "2024-02-28T16:13:46.150Z"
   },
   {
    "duration": 0,
    "start_time": "2024-02-28T16:13:46.151Z"
   },
   {
    "duration": 0,
    "start_time": "2024-02-28T16:13:46.152Z"
   },
   {
    "duration": 0,
    "start_time": "2024-02-28T16:13:46.153Z"
   },
   {
    "duration": 0,
    "start_time": "2024-02-28T16:13:46.215Z"
   },
   {
    "duration": 0,
    "start_time": "2024-02-28T16:13:46.217Z"
   },
   {
    "duration": 112,
    "start_time": "2024-02-28T16:19:03.825Z"
   },
   {
    "duration": 48,
    "start_time": "2024-02-29T17:25:51.203Z"
   },
   {
    "duration": 6,
    "start_time": "2024-02-29T17:25:57.487Z"
   },
   {
    "duration": 1604,
    "start_time": "2024-02-29T17:26:03.844Z"
   },
   {
    "duration": 1105,
    "start_time": "2024-02-29T17:26:05.450Z"
   },
   {
    "duration": 16,
    "start_time": "2024-02-29T17:26:06.557Z"
   },
   {
    "duration": 171,
    "start_time": "2024-02-29T17:26:06.574Z"
   },
   {
    "duration": 491,
    "start_time": "2024-02-29T17:26:06.748Z"
   },
   {
    "duration": 94,
    "start_time": "2024-02-29T17:26:07.241Z"
   },
   {
    "duration": 11,
    "start_time": "2024-02-29T17:26:07.337Z"
   },
   {
    "duration": 53,
    "start_time": "2024-02-29T17:26:07.350Z"
   },
   {
    "duration": 24,
    "start_time": "2024-02-29T17:26:07.405Z"
   },
   {
    "duration": 73,
    "start_time": "2024-02-29T17:26:07.430Z"
   },
   {
    "duration": 25,
    "start_time": "2024-02-29T17:26:07.505Z"
   },
   {
    "duration": 18,
    "start_time": "2024-02-29T17:26:07.532Z"
   },
   {
    "duration": 18,
    "start_time": "2024-02-29T17:26:07.551Z"
   },
   {
    "duration": 35,
    "start_time": "2024-02-29T17:26:07.571Z"
   },
   {
    "duration": 55,
    "start_time": "2024-02-29T17:26:07.607Z"
   },
   {
    "duration": 22,
    "start_time": "2024-02-29T17:26:07.663Z"
   },
   {
    "duration": 264,
    "start_time": "2024-02-29T17:26:07.686Z"
   },
   {
    "duration": 22,
    "start_time": "2024-02-29T17:26:07.951Z"
   },
   {
    "duration": 94,
    "start_time": "2024-02-29T17:26:07.974Z"
   },
   {
    "duration": 247,
    "start_time": "2024-02-29T17:26:08.070Z"
   },
   {
    "duration": 17,
    "start_time": "2024-02-29T17:26:08.318Z"
   },
   {
    "duration": 35,
    "start_time": "2024-02-29T17:26:08.337Z"
   },
   {
    "duration": 2922,
    "start_time": "2024-02-29T17:26:08.373Z"
   },
   {
    "duration": 385,
    "start_time": "2024-02-29T17:26:11.297Z"
   },
   {
    "duration": 21,
    "start_time": "2024-02-29T17:26:11.684Z"
   },
   {
    "duration": 11,
    "start_time": "2024-02-29T17:26:11.707Z"
   },
   {
    "duration": 98,
    "start_time": "2024-02-29T17:26:11.719Z"
   },
   {
    "duration": 65,
    "start_time": "2024-02-29T17:26:11.819Z"
   },
   {
    "duration": 125,
    "start_time": "2024-02-29T17:26:11.885Z"
   },
   {
    "duration": 151,
    "start_time": "2024-02-29T17:26:12.011Z"
   },
   {
    "duration": 136,
    "start_time": "2024-02-29T17:26:12.164Z"
   },
   {
    "duration": 11,
    "start_time": "2024-02-29T17:26:12.302Z"
   },
   {
    "duration": 111,
    "start_time": "2024-02-29T17:26:12.314Z"
   },
   {
    "duration": 2,
    "start_time": "2024-02-29T17:26:12.427Z"
   },
   {
    "duration": 15,
    "start_time": "2024-02-29T17:26:12.430Z"
   },
   {
    "duration": 104,
    "start_time": "2024-02-29T17:26:12.447Z"
   },
   {
    "duration": 2,
    "start_time": "2024-02-29T17:26:12.553Z"
   },
   {
    "duration": 219,
    "start_time": "2024-02-29T17:26:12.556Z"
   },
   {
    "duration": 15,
    "start_time": "2024-02-29T17:26:12.776Z"
   },
   {
    "duration": 10,
    "start_time": "2024-02-29T17:26:12.792Z"
   },
   {
    "duration": 116,
    "start_time": "2024-02-29T17:26:12.805Z"
   },
   {
    "duration": 0,
    "start_time": "2024-02-29T17:26:12.922Z"
   },
   {
    "duration": 0,
    "start_time": "2024-02-29T17:26:12.924Z"
   },
   {
    "duration": 0,
    "start_time": "2024-02-29T17:26:12.924Z"
   },
   {
    "duration": 0,
    "start_time": "2024-02-29T17:26:12.925Z"
   },
   {
    "duration": 0,
    "start_time": "2024-02-29T17:26:12.926Z"
   },
   {
    "duration": 0,
    "start_time": "2024-02-29T17:26:12.927Z"
   },
   {
    "duration": 0,
    "start_time": "2024-02-29T17:26:12.928Z"
   },
   {
    "duration": 0,
    "start_time": "2024-02-29T17:26:12.929Z"
   },
   {
    "duration": 0,
    "start_time": "2024-02-29T17:26:12.930Z"
   },
   {
    "duration": 0,
    "start_time": "2024-02-29T17:26:12.931Z"
   },
   {
    "duration": 0,
    "start_time": "2024-02-29T17:26:12.932Z"
   },
   {
    "duration": 0,
    "start_time": "2024-02-29T17:26:12.933Z"
   },
   {
    "duration": 0,
    "start_time": "2024-02-29T17:26:12.934Z"
   },
   {
    "duration": 0,
    "start_time": "2024-02-29T17:26:12.935Z"
   },
   {
    "duration": 0,
    "start_time": "2024-02-29T17:26:12.936Z"
   },
   {
    "duration": 0,
    "start_time": "2024-02-29T17:26:12.937Z"
   },
   {
    "duration": 0,
    "start_time": "2024-02-29T17:26:12.937Z"
   },
   {
    "duration": 0,
    "start_time": "2024-02-29T17:26:12.938Z"
   },
   {
    "duration": 0,
    "start_time": "2024-02-29T17:26:12.966Z"
   },
   {
    "duration": 0,
    "start_time": "2024-02-29T17:26:12.967Z"
   },
   {
    "duration": 0,
    "start_time": "2024-02-29T17:26:12.968Z"
   },
   {
    "duration": 84,
    "start_time": "2024-02-29T17:26:34.787Z"
   },
   {
    "duration": 87,
    "start_time": "2024-02-29T17:26:46.447Z"
   },
   {
    "duration": 85,
    "start_time": "2024-02-29T17:26:59.769Z"
   },
   {
    "duration": 1442,
    "start_time": "2024-02-29T17:27:06.183Z"
   },
   {
    "duration": 812,
    "start_time": "2024-02-29T17:27:07.627Z"
   },
   {
    "duration": 16,
    "start_time": "2024-02-29T17:27:08.440Z"
   },
   {
    "duration": 157,
    "start_time": "2024-02-29T17:27:08.458Z"
   },
   {
    "duration": 486,
    "start_time": "2024-02-29T17:27:08.616Z"
   },
   {
    "duration": 107,
    "start_time": "2024-02-29T17:27:09.104Z"
   },
   {
    "duration": 12,
    "start_time": "2024-02-29T17:27:09.212Z"
   },
   {
    "duration": 67,
    "start_time": "2024-02-29T17:27:09.226Z"
   },
   {
    "duration": 29,
    "start_time": "2024-02-29T17:27:09.296Z"
   },
   {
    "duration": 83,
    "start_time": "2024-02-29T17:27:09.328Z"
   },
   {
    "duration": 25,
    "start_time": "2024-02-29T17:27:09.413Z"
   },
   {
    "duration": 26,
    "start_time": "2024-02-29T17:27:09.439Z"
   },
   {
    "duration": 5,
    "start_time": "2024-02-29T17:27:09.467Z"
   },
   {
    "duration": 33,
    "start_time": "2024-02-29T17:27:09.473Z"
   },
   {
    "duration": 58,
    "start_time": "2024-02-29T17:27:09.508Z"
   },
   {
    "duration": 23,
    "start_time": "2024-02-29T17:27:09.567Z"
   },
   {
    "duration": 258,
    "start_time": "2024-02-29T17:27:09.591Z"
   },
   {
    "duration": 21,
    "start_time": "2024-02-29T17:27:09.851Z"
   },
   {
    "duration": 91,
    "start_time": "2024-02-29T17:27:09.874Z"
   },
   {
    "duration": 244,
    "start_time": "2024-02-29T17:27:09.967Z"
   },
   {
    "duration": 18,
    "start_time": "2024-02-29T17:27:10.213Z"
   },
   {
    "duration": 36,
    "start_time": "2024-02-29T17:27:10.232Z"
   },
   {
    "duration": 2929,
    "start_time": "2024-02-29T17:27:10.269Z"
   },
   {
    "duration": 400,
    "start_time": "2024-02-29T17:27:13.200Z"
   },
   {
    "duration": 20,
    "start_time": "2024-02-29T17:27:13.602Z"
   },
   {
    "duration": 11,
    "start_time": "2024-02-29T17:27:13.623Z"
   },
   {
    "duration": 98,
    "start_time": "2024-02-29T17:27:13.636Z"
   },
   {
    "duration": 59,
    "start_time": "2024-02-29T17:27:13.738Z"
   },
   {
    "duration": 128,
    "start_time": "2024-02-29T17:27:13.799Z"
   },
   {
    "duration": 142,
    "start_time": "2024-02-29T17:27:13.928Z"
   },
   {
    "duration": 139,
    "start_time": "2024-02-29T17:27:14.071Z"
   },
   {
    "duration": 11,
    "start_time": "2024-02-29T17:27:14.212Z"
   },
   {
    "duration": 107,
    "start_time": "2024-02-29T17:27:14.224Z"
   },
   {
    "duration": 2,
    "start_time": "2024-02-29T17:27:14.333Z"
   },
   {
    "duration": 17,
    "start_time": "2024-02-29T17:27:14.336Z"
   },
   {
    "duration": 196,
    "start_time": "2024-02-29T17:27:14.354Z"
   },
   {
    "duration": 0,
    "start_time": "2024-02-29T17:27:14.551Z"
   },
   {
    "duration": 0,
    "start_time": "2024-02-29T17:27:14.553Z"
   },
   {
    "duration": 0,
    "start_time": "2024-02-29T17:27:14.554Z"
   },
   {
    "duration": 0,
    "start_time": "2024-02-29T17:27:14.565Z"
   },
   {
    "duration": 0,
    "start_time": "2024-02-29T17:27:14.566Z"
   },
   {
    "duration": 0,
    "start_time": "2024-02-29T17:27:14.568Z"
   },
   {
    "duration": 0,
    "start_time": "2024-02-29T17:27:14.569Z"
   },
   {
    "duration": 0,
    "start_time": "2024-02-29T17:27:14.571Z"
   },
   {
    "duration": 0,
    "start_time": "2024-02-29T17:27:14.572Z"
   },
   {
    "duration": 0,
    "start_time": "2024-02-29T17:27:14.573Z"
   },
   {
    "duration": 0,
    "start_time": "2024-02-29T17:27:14.574Z"
   },
   {
    "duration": 0,
    "start_time": "2024-02-29T17:27:14.576Z"
   },
   {
    "duration": 0,
    "start_time": "2024-02-29T17:27:14.577Z"
   },
   {
    "duration": 0,
    "start_time": "2024-02-29T17:27:14.579Z"
   },
   {
    "duration": 0,
    "start_time": "2024-02-29T17:27:14.580Z"
   },
   {
    "duration": 0,
    "start_time": "2024-02-29T17:27:14.580Z"
   },
   {
    "duration": 0,
    "start_time": "2024-02-29T17:27:14.581Z"
   },
   {
    "duration": 0,
    "start_time": "2024-02-29T17:27:14.582Z"
   },
   {
    "duration": 0,
    "start_time": "2024-02-29T17:27:14.583Z"
   },
   {
    "duration": 0,
    "start_time": "2024-02-29T17:27:14.584Z"
   },
   {
    "duration": 0,
    "start_time": "2024-02-29T17:27:14.585Z"
   },
   {
    "duration": 0,
    "start_time": "2024-02-29T17:27:14.586Z"
   },
   {
    "duration": 0,
    "start_time": "2024-02-29T17:27:14.587Z"
   },
   {
    "duration": 0,
    "start_time": "2024-02-29T17:27:14.589Z"
   },
   {
    "duration": 0,
    "start_time": "2024-02-29T17:27:14.590Z"
   },
   {
    "duration": 0,
    "start_time": "2024-02-29T17:27:14.590Z"
   },
   {
    "duration": 92,
    "start_time": "2024-02-29T17:27:36.074Z"
   },
   {
    "duration": 53,
    "start_time": "2024-03-05T11:44:01.799Z"
   },
   {
    "duration": 1812,
    "start_time": "2024-03-05T11:44:11.017Z"
   },
   {
    "duration": 2946,
    "start_time": "2024-03-05T11:44:12.832Z"
   },
   {
    "duration": 19,
    "start_time": "2024-03-05T11:44:15.780Z"
   },
   {
    "duration": 169,
    "start_time": "2024-03-05T11:44:15.800Z"
   },
   {
    "duration": 541,
    "start_time": "2024-03-05T11:44:15.972Z"
   },
   {
    "duration": 111,
    "start_time": "2024-03-05T11:44:16.514Z"
   },
   {
    "duration": 13,
    "start_time": "2024-03-05T11:44:16.626Z"
   },
   {
    "duration": 81,
    "start_time": "2024-03-05T11:44:16.640Z"
   },
   {
    "duration": 36,
    "start_time": "2024-03-05T11:44:16.723Z"
   },
   {
    "duration": 132,
    "start_time": "2024-03-05T11:44:16.761Z"
   },
   {
    "duration": 31,
    "start_time": "2024-03-05T11:44:16.895Z"
   },
   {
    "duration": 23,
    "start_time": "2024-03-05T11:44:16.928Z"
   },
   {
    "duration": 16,
    "start_time": "2024-03-05T11:44:16.954Z"
   },
   {
    "duration": 43,
    "start_time": "2024-03-05T11:44:16.975Z"
   },
   {
    "duration": 58,
    "start_time": "2024-03-05T11:44:17.020Z"
   },
   {
    "duration": 31,
    "start_time": "2024-03-05T11:44:17.080Z"
   },
   {
    "duration": 317,
    "start_time": "2024-03-05T11:44:17.112Z"
   },
   {
    "duration": 15,
    "start_time": "2024-03-05T11:44:17.431Z"
   },
   {
    "duration": 106,
    "start_time": "2024-03-05T11:44:17.448Z"
   },
   {
    "duration": 284,
    "start_time": "2024-03-05T11:44:17.556Z"
   },
   {
    "duration": 20,
    "start_time": "2024-03-05T11:44:17.842Z"
   },
   {
    "duration": 43,
    "start_time": "2024-03-05T11:44:17.865Z"
   },
   {
    "duration": 3315,
    "start_time": "2024-03-05T11:44:17.911Z"
   },
   {
    "duration": 462,
    "start_time": "2024-03-05T11:44:21.228Z"
   },
   {
    "duration": 22,
    "start_time": "2024-03-05T11:44:21.692Z"
   },
   {
    "duration": 15,
    "start_time": "2024-03-05T11:44:21.716Z"
   },
   {
    "duration": 112,
    "start_time": "2024-03-05T11:44:21.733Z"
   },
   {
    "duration": 67,
    "start_time": "2024-03-05T11:44:21.847Z"
   },
   {
    "duration": 186,
    "start_time": "2024-03-05T11:44:21.916Z"
   },
   {
    "duration": 180,
    "start_time": "2024-03-05T11:44:22.103Z"
   },
   {
    "duration": 133,
    "start_time": "2024-03-05T11:44:22.284Z"
   },
   {
    "duration": 11,
    "start_time": "2024-03-05T11:44:22.419Z"
   },
   {
    "duration": 114,
    "start_time": "2024-03-05T11:44:22.432Z"
   },
   {
    "duration": 2,
    "start_time": "2024-03-05T11:44:22.548Z"
   },
   {
    "duration": 72,
    "start_time": "2024-03-05T11:44:22.551Z"
   },
   {
    "duration": 1984,
    "start_time": "2024-03-05T11:44:22.625Z"
   },
   {
    "duration": 0,
    "start_time": "2024-03-05T11:44:24.612Z"
   },
   {
    "duration": 0,
    "start_time": "2024-03-05T11:44:24.614Z"
   },
   {
    "duration": 0,
    "start_time": "2024-03-05T11:44:24.615Z"
   },
   {
    "duration": 0,
    "start_time": "2024-03-05T11:44:24.617Z"
   },
   {
    "duration": 0,
    "start_time": "2024-03-05T11:44:24.618Z"
   },
   {
    "duration": 0,
    "start_time": "2024-03-05T11:44:24.620Z"
   },
   {
    "duration": 0,
    "start_time": "2024-03-05T11:44:24.622Z"
   },
   {
    "duration": 0,
    "start_time": "2024-03-05T11:44:24.623Z"
   },
   {
    "duration": 0,
    "start_time": "2024-03-05T11:44:24.625Z"
   },
   {
    "duration": 0,
    "start_time": "2024-03-05T11:44:24.626Z"
   },
   {
    "duration": 0,
    "start_time": "2024-03-05T11:44:24.628Z"
   },
   {
    "duration": 0,
    "start_time": "2024-03-05T11:44:24.629Z"
   },
   {
    "duration": 0,
    "start_time": "2024-03-05T11:44:24.631Z"
   },
   {
    "duration": 0,
    "start_time": "2024-03-05T11:44:24.633Z"
   },
   {
    "duration": 0,
    "start_time": "2024-03-05T11:44:24.634Z"
   },
   {
    "duration": 0,
    "start_time": "2024-03-05T11:44:24.635Z"
   },
   {
    "duration": 0,
    "start_time": "2024-03-05T11:44:24.637Z"
   },
   {
    "duration": 0,
    "start_time": "2024-03-05T11:44:24.638Z"
   },
   {
    "duration": 0,
    "start_time": "2024-03-05T11:44:24.639Z"
   },
   {
    "duration": 0,
    "start_time": "2024-03-05T11:44:24.641Z"
   },
   {
    "duration": 0,
    "start_time": "2024-03-05T11:44:24.642Z"
   },
   {
    "duration": 0,
    "start_time": "2024-03-05T11:44:24.644Z"
   },
   {
    "duration": 0,
    "start_time": "2024-03-05T11:44:24.645Z"
   },
   {
    "duration": 0,
    "start_time": "2024-03-05T11:44:24.646Z"
   },
   {
    "duration": 0,
    "start_time": "2024-03-05T11:44:24.647Z"
   },
   {
    "duration": 0,
    "start_time": "2024-03-05T11:44:24.648Z"
   },
   {
    "duration": 135,
    "start_time": "2024-03-05T11:46:29.726Z"
   },
   {
    "duration": 95,
    "start_time": "2024-03-05T11:46:40.633Z"
   },
   {
    "duration": 91,
    "start_time": "2024-03-05T11:46:57.062Z"
   },
   {
    "duration": 1675,
    "start_time": "2024-03-05T11:47:43.399Z"
   },
   {
    "duration": 1568,
    "start_time": "2024-03-05T11:47:58.381Z"
   },
   {
    "duration": 974,
    "start_time": "2024-03-05T11:47:59.951Z"
   },
   {
    "duration": 18,
    "start_time": "2024-03-05T11:48:00.927Z"
   },
   {
    "duration": 301,
    "start_time": "2024-03-05T11:48:00.947Z"
   },
   {
    "duration": 603,
    "start_time": "2024-03-05T11:48:01.251Z"
   },
   {
    "duration": 113,
    "start_time": "2024-03-05T11:48:01.856Z"
   },
   {
    "duration": 66,
    "start_time": "2024-03-05T11:48:01.971Z"
   },
   {
    "duration": 306,
    "start_time": "2024-03-05T11:48:02.039Z"
   },
   {
    "duration": 159,
    "start_time": "2024-03-05T11:48:02.346Z"
   },
   {
    "duration": 135,
    "start_time": "2024-03-05T11:48:02.507Z"
   },
   {
    "duration": 30,
    "start_time": "2024-03-05T11:48:02.644Z"
   },
   {
    "duration": 33,
    "start_time": "2024-03-05T11:48:02.676Z"
   },
   {
    "duration": 30,
    "start_time": "2024-03-05T11:48:02.710Z"
   },
   {
    "duration": 48,
    "start_time": "2024-03-05T11:48:02.744Z"
   },
   {
    "duration": 58,
    "start_time": "2024-03-05T11:48:02.794Z"
   },
   {
    "duration": 25,
    "start_time": "2024-03-05T11:48:02.854Z"
   },
   {
    "duration": 306,
    "start_time": "2024-03-05T11:48:02.881Z"
   },
   {
    "duration": 43,
    "start_time": "2024-03-05T11:48:03.188Z"
   },
   {
    "duration": 321,
    "start_time": "2024-03-05T11:48:03.232Z"
   },
   {
    "duration": 354,
    "start_time": "2024-03-05T11:48:03.555Z"
   },
   {
    "duration": 20,
    "start_time": "2024-03-05T11:48:03.911Z"
   },
   {
    "duration": 232,
    "start_time": "2024-03-05T11:48:03.933Z"
   },
   {
    "duration": 3216,
    "start_time": "2024-03-05T11:48:04.166Z"
   },
   {
    "duration": 465,
    "start_time": "2024-03-05T11:48:07.383Z"
   },
   {
    "duration": 22,
    "start_time": "2024-03-05T11:48:07.850Z"
   },
   {
    "duration": 27,
    "start_time": "2024-03-05T11:48:07.874Z"
   },
   {
    "duration": 112,
    "start_time": "2024-03-05T11:48:07.902Z"
   },
   {
    "duration": 57,
    "start_time": "2024-03-05T11:48:08.016Z"
   },
   {
    "duration": 170,
    "start_time": "2024-03-05T11:48:08.075Z"
   },
   {
    "duration": 175,
    "start_time": "2024-03-05T11:48:08.247Z"
   },
   {
    "duration": 128,
    "start_time": "2024-03-05T11:48:08.424Z"
   },
   {
    "duration": 12,
    "start_time": "2024-03-05T11:48:08.553Z"
   },
   {
    "duration": 110,
    "start_time": "2024-03-05T11:48:08.567Z"
   },
   {
    "duration": 3,
    "start_time": "2024-03-05T11:48:08.678Z"
   },
   {
    "duration": 12,
    "start_time": "2024-03-05T11:48:08.692Z"
   },
   {
    "duration": 1722,
    "start_time": "2024-03-05T11:48:08.705Z"
   },
   {
    "duration": 0,
    "start_time": "2024-03-05T11:48:10.430Z"
   },
   {
    "duration": 0,
    "start_time": "2024-03-05T11:48:10.432Z"
   },
   {
    "duration": 0,
    "start_time": "2024-03-05T11:48:10.434Z"
   },
   {
    "duration": 0,
    "start_time": "2024-03-05T11:48:10.435Z"
   },
   {
    "duration": 0,
    "start_time": "2024-03-05T11:48:10.436Z"
   },
   {
    "duration": 0,
    "start_time": "2024-03-05T11:48:10.437Z"
   },
   {
    "duration": 0,
    "start_time": "2024-03-05T11:48:10.438Z"
   },
   {
    "duration": 0,
    "start_time": "2024-03-05T11:48:10.440Z"
   },
   {
    "duration": 0,
    "start_time": "2024-03-05T11:48:10.442Z"
   },
   {
    "duration": 0,
    "start_time": "2024-03-05T11:48:10.443Z"
   },
   {
    "duration": 0,
    "start_time": "2024-03-05T11:48:10.444Z"
   },
   {
    "duration": 0,
    "start_time": "2024-03-05T11:48:10.445Z"
   },
   {
    "duration": 0,
    "start_time": "2024-03-05T11:48:10.447Z"
   },
   {
    "duration": 0,
    "start_time": "2024-03-05T11:48:10.448Z"
   },
   {
    "duration": 0,
    "start_time": "2024-03-05T11:48:10.449Z"
   },
   {
    "duration": 0,
    "start_time": "2024-03-05T11:48:10.450Z"
   },
   {
    "duration": 0,
    "start_time": "2024-03-05T11:48:10.451Z"
   },
   {
    "duration": 0,
    "start_time": "2024-03-05T11:48:10.452Z"
   },
   {
    "duration": 0,
    "start_time": "2024-03-05T11:48:10.453Z"
   },
   {
    "duration": 0,
    "start_time": "2024-03-05T11:48:10.455Z"
   },
   {
    "duration": 0,
    "start_time": "2024-03-05T11:48:10.456Z"
   },
   {
    "duration": 0,
    "start_time": "2024-03-05T11:48:10.457Z"
   },
   {
    "duration": 0,
    "start_time": "2024-03-05T11:48:10.458Z"
   },
   {
    "duration": 0,
    "start_time": "2024-03-05T11:48:10.459Z"
   },
   {
    "duration": 0,
    "start_time": "2024-03-05T11:48:10.460Z"
   },
   {
    "duration": 0,
    "start_time": "2024-03-05T11:48:10.462Z"
   },
   {
    "duration": 5,
    "start_time": "2024-03-05T11:53:53.333Z"
   },
   {
    "duration": 250,
    "start_time": "2024-03-05T11:55:11.734Z"
   },
   {
    "duration": 8,
    "start_time": "2024-03-05T12:12:19.101Z"
   },
   {
    "duration": 141,
    "start_time": "2024-03-05T12:12:47.338Z"
   },
   {
    "duration": 1579,
    "start_time": "2024-03-05T12:13:39.546Z"
   },
   {
    "duration": 1029,
    "start_time": "2024-03-05T12:13:41.127Z"
   },
   {
    "duration": 19,
    "start_time": "2024-03-05T12:13:42.157Z"
   },
   {
    "duration": 174,
    "start_time": "2024-03-05T12:13:42.178Z"
   },
   {
    "duration": 564,
    "start_time": "2024-03-05T12:13:42.354Z"
   },
   {
    "duration": 115,
    "start_time": "2024-03-05T12:13:42.920Z"
   },
   {
    "duration": 14,
    "start_time": "2024-03-05T12:13:43.037Z"
   },
   {
    "duration": 61,
    "start_time": "2024-03-05T12:13:43.053Z"
   },
   {
    "duration": 29,
    "start_time": "2024-03-05T12:13:43.115Z"
   },
   {
    "duration": 83,
    "start_time": "2024-03-05T12:13:43.146Z"
   },
   {
    "duration": 29,
    "start_time": "2024-03-05T12:13:43.231Z"
   },
   {
    "duration": 35,
    "start_time": "2024-03-05T12:13:43.262Z"
   },
   {
    "duration": 16,
    "start_time": "2024-03-05T12:13:43.299Z"
   },
   {
    "duration": 29,
    "start_time": "2024-03-05T12:13:43.317Z"
   },
   {
    "duration": 63,
    "start_time": "2024-03-05T12:13:43.347Z"
   },
   {
    "duration": 26,
    "start_time": "2024-03-05T12:13:43.412Z"
   },
   {
    "duration": 290,
    "start_time": "2024-03-05T12:13:43.440Z"
   },
   {
    "duration": 17,
    "start_time": "2024-03-05T12:13:43.732Z"
   },
   {
    "duration": 113,
    "start_time": "2024-03-05T12:13:43.751Z"
   },
   {
    "duration": 289,
    "start_time": "2024-03-05T12:13:43.866Z"
   },
   {
    "duration": 20,
    "start_time": "2024-03-05T12:13:44.157Z"
   },
   {
    "duration": 38,
    "start_time": "2024-03-05T12:13:44.179Z"
   },
   {
    "duration": 3242,
    "start_time": "2024-03-05T12:13:44.219Z"
   },
   {
    "duration": 476,
    "start_time": "2024-03-05T12:13:47.463Z"
   },
   {
    "duration": 22,
    "start_time": "2024-03-05T12:13:47.941Z"
   },
   {
    "duration": 25,
    "start_time": "2024-03-05T12:13:47.964Z"
   },
   {
    "duration": 113,
    "start_time": "2024-03-05T12:13:47.991Z"
   },
   {
    "duration": 54,
    "start_time": "2024-03-05T12:13:48.108Z"
   },
   {
    "duration": 162,
    "start_time": "2024-03-05T12:13:48.164Z"
   },
   {
    "duration": 173,
    "start_time": "2024-03-05T12:13:48.328Z"
   },
   {
    "duration": 139,
    "start_time": "2024-03-05T12:13:48.503Z"
   },
   {
    "duration": 12,
    "start_time": "2024-03-05T12:13:48.644Z"
   },
   {
    "duration": 138,
    "start_time": "2024-03-05T12:13:48.657Z"
   },
   {
    "duration": 2,
    "start_time": "2024-03-05T12:13:48.796Z"
   },
   {
    "duration": 28,
    "start_time": "2024-03-05T12:13:48.800Z"
   },
   {
    "duration": 32,
    "start_time": "2024-03-05T12:13:48.830Z"
   },
   {
    "duration": 34,
    "start_time": "2024-03-05T12:13:48.864Z"
   },
   {
    "duration": 256,
    "start_time": "2024-03-05T12:13:48.900Z"
   },
   {
    "duration": 17,
    "start_time": "2024-03-05T12:13:49.157Z"
   },
   {
    "duration": 17,
    "start_time": "2024-03-05T12:13:49.176Z"
   },
   {
    "duration": 126,
    "start_time": "2024-03-05T12:13:49.195Z"
   },
   {
    "duration": 0,
    "start_time": "2024-03-05T12:13:49.323Z"
   },
   {
    "duration": 0,
    "start_time": "2024-03-05T12:13:49.324Z"
   },
   {
    "duration": 0,
    "start_time": "2024-03-05T12:13:49.325Z"
   },
   {
    "duration": 0,
    "start_time": "2024-03-05T12:13:49.327Z"
   },
   {
    "duration": 0,
    "start_time": "2024-03-05T12:13:49.327Z"
   },
   {
    "duration": 0,
    "start_time": "2024-03-05T12:13:49.329Z"
   },
   {
    "duration": 0,
    "start_time": "2024-03-05T12:13:49.330Z"
   },
   {
    "duration": 0,
    "start_time": "2024-03-05T12:13:49.331Z"
   },
   {
    "duration": 0,
    "start_time": "2024-03-05T12:13:49.332Z"
   },
   {
    "duration": 0,
    "start_time": "2024-03-05T12:13:49.333Z"
   },
   {
    "duration": 0,
    "start_time": "2024-03-05T12:13:49.334Z"
   },
   {
    "duration": 0,
    "start_time": "2024-03-05T12:13:49.336Z"
   },
   {
    "duration": 0,
    "start_time": "2024-03-05T12:13:49.337Z"
   },
   {
    "duration": 0,
    "start_time": "2024-03-05T12:13:49.338Z"
   },
   {
    "duration": 0,
    "start_time": "2024-03-05T12:13:49.338Z"
   },
   {
    "duration": 0,
    "start_time": "2024-03-05T12:13:49.340Z"
   },
   {
    "duration": 0,
    "start_time": "2024-03-05T12:13:49.341Z"
   },
   {
    "duration": 0,
    "start_time": "2024-03-05T12:13:49.342Z"
   },
   {
    "duration": 0,
    "start_time": "2024-03-05T12:13:49.342Z"
   },
   {
    "duration": 1,
    "start_time": "2024-03-05T12:13:49.343Z"
   },
   {
    "duration": 0,
    "start_time": "2024-03-05T12:13:49.344Z"
   },
   {
    "duration": 14,
    "start_time": "2024-03-05T13:02:21.395Z"
   },
   {
    "duration": 1592,
    "start_time": "2024-03-05T13:02:31.166Z"
   },
   {
    "duration": 994,
    "start_time": "2024-03-05T13:02:32.760Z"
   },
   {
    "duration": 18,
    "start_time": "2024-03-05T13:02:33.756Z"
   },
   {
    "duration": 174,
    "start_time": "2024-03-05T13:02:33.775Z"
   },
   {
    "duration": 566,
    "start_time": "2024-03-05T13:02:33.951Z"
   },
   {
    "duration": 117,
    "start_time": "2024-03-05T13:02:34.519Z"
   },
   {
    "duration": 14,
    "start_time": "2024-03-05T13:02:34.638Z"
   },
   {
    "duration": 63,
    "start_time": "2024-03-05T13:02:34.653Z"
   },
   {
    "duration": 28,
    "start_time": "2024-03-05T13:02:34.718Z"
   },
   {
    "duration": 88,
    "start_time": "2024-03-05T13:02:34.748Z"
   },
   {
    "duration": 30,
    "start_time": "2024-03-05T13:02:34.837Z"
   },
   {
    "duration": 30,
    "start_time": "2024-03-05T13:02:34.868Z"
   },
   {
    "duration": 5,
    "start_time": "2024-03-05T13:02:34.900Z"
   },
   {
    "duration": 29,
    "start_time": "2024-03-05T13:02:34.908Z"
   },
   {
    "duration": 79,
    "start_time": "2024-03-05T13:02:34.938Z"
   },
   {
    "duration": 26,
    "start_time": "2024-03-05T13:02:35.019Z"
   },
   {
    "duration": 291,
    "start_time": "2024-03-05T13:02:35.047Z"
   },
   {
    "duration": 15,
    "start_time": "2024-03-05T13:02:35.340Z"
   },
   {
    "duration": 104,
    "start_time": "2024-03-05T13:02:35.357Z"
   },
   {
    "duration": 270,
    "start_time": "2024-03-05T13:02:35.462Z"
   },
   {
    "duration": 20,
    "start_time": "2024-03-05T13:02:35.734Z"
   },
   {
    "duration": 39,
    "start_time": "2024-03-05T13:02:35.755Z"
   },
   {
    "duration": 3205,
    "start_time": "2024-03-05T13:02:35.795Z"
   },
   {
    "duration": 390,
    "start_time": "2024-03-05T13:02:39.001Z"
   },
   {
    "duration": 23,
    "start_time": "2024-03-05T13:02:39.393Z"
   },
   {
    "duration": 16,
    "start_time": "2024-03-05T13:02:39.417Z"
   },
   {
    "duration": 104,
    "start_time": "2024-03-05T13:02:39.434Z"
   },
   {
    "duration": 66,
    "start_time": "2024-03-05T13:02:39.540Z"
   },
   {
    "duration": 159,
    "start_time": "2024-03-05T13:02:39.608Z"
   },
   {
    "duration": 170,
    "start_time": "2024-03-05T13:02:39.769Z"
   },
   {
    "duration": 162,
    "start_time": "2024-03-05T13:02:39.941Z"
   },
   {
    "duration": 13,
    "start_time": "2024-03-05T13:02:40.105Z"
   },
   {
    "duration": 133,
    "start_time": "2024-03-05T13:02:40.120Z"
   },
   {
    "duration": 3,
    "start_time": "2024-03-05T13:02:40.255Z"
   },
   {
    "duration": 57,
    "start_time": "2024-03-05T13:02:40.260Z"
   },
   {
    "duration": 202,
    "start_time": "2024-03-05T13:02:40.319Z"
   },
   {
    "duration": 0,
    "start_time": "2024-03-05T13:02:40.523Z"
   },
   {
    "duration": 0,
    "start_time": "2024-03-05T13:02:40.524Z"
   },
   {
    "duration": 0,
    "start_time": "2024-03-05T13:02:40.525Z"
   },
   {
    "duration": 0,
    "start_time": "2024-03-05T13:02:40.526Z"
   },
   {
    "duration": 0,
    "start_time": "2024-03-05T13:02:40.528Z"
   },
   {
    "duration": 0,
    "start_time": "2024-03-05T13:02:40.529Z"
   },
   {
    "duration": 0,
    "start_time": "2024-03-05T13:02:40.530Z"
   },
   {
    "duration": 0,
    "start_time": "2024-03-05T13:02:40.531Z"
   },
   {
    "duration": 0,
    "start_time": "2024-03-05T13:02:40.532Z"
   },
   {
    "duration": 0,
    "start_time": "2024-03-05T13:02:40.533Z"
   },
   {
    "duration": 0,
    "start_time": "2024-03-05T13:02:40.534Z"
   },
   {
    "duration": 0,
    "start_time": "2024-03-05T13:02:40.535Z"
   },
   {
    "duration": 0,
    "start_time": "2024-03-05T13:02:40.535Z"
   },
   {
    "duration": 0,
    "start_time": "2024-03-05T13:02:40.536Z"
   },
   {
    "duration": 0,
    "start_time": "2024-03-05T13:02:40.537Z"
   },
   {
    "duration": 0,
    "start_time": "2024-03-05T13:02:40.538Z"
   },
   {
    "duration": 0,
    "start_time": "2024-03-05T13:02:40.540Z"
   },
   {
    "duration": 0,
    "start_time": "2024-03-05T13:02:40.541Z"
   },
   {
    "duration": 0,
    "start_time": "2024-03-05T13:02:40.542Z"
   },
   {
    "duration": 0,
    "start_time": "2024-03-05T13:02:40.543Z"
   },
   {
    "duration": 0,
    "start_time": "2024-03-05T13:02:40.544Z"
   },
   {
    "duration": 0,
    "start_time": "2024-03-05T13:02:40.545Z"
   },
   {
    "duration": 0,
    "start_time": "2024-03-05T13:02:40.547Z"
   },
   {
    "duration": 0,
    "start_time": "2024-03-05T13:02:40.548Z"
   },
   {
    "duration": 0,
    "start_time": "2024-03-05T13:02:40.549Z"
   },
   {
    "duration": 0,
    "start_time": "2024-03-05T13:02:40.591Z"
   },
   {
    "duration": 589,
    "start_time": "2024-03-05T13:03:43.137Z"
   },
   {
    "duration": 729,
    "start_time": "2024-03-05T13:03:52.445Z"
   },
   {
    "duration": 1563,
    "start_time": "2024-03-05T13:05:41.867Z"
   },
   {
    "duration": 965,
    "start_time": "2024-03-05T13:05:43.432Z"
   },
   {
    "duration": 17,
    "start_time": "2024-03-05T13:05:44.399Z"
   },
   {
    "duration": 174,
    "start_time": "2024-03-05T13:05:44.418Z"
   },
   {
    "duration": 566,
    "start_time": "2024-03-05T13:05:44.594Z"
   },
   {
    "duration": 118,
    "start_time": "2024-03-05T13:05:45.162Z"
   },
   {
    "duration": 146,
    "start_time": "2024-03-05T13:05:45.282Z"
   },
   {
    "duration": 58,
    "start_time": "2024-03-05T13:05:45.430Z"
   },
   {
    "duration": 30,
    "start_time": "2024-03-05T13:05:45.489Z"
   },
   {
    "duration": 79,
    "start_time": "2024-03-05T13:05:45.523Z"
   },
   {
    "duration": 30,
    "start_time": "2024-03-05T13:05:45.604Z"
   },
   {
    "duration": 25,
    "start_time": "2024-03-05T13:05:45.636Z"
   },
   {
    "duration": 8,
    "start_time": "2024-03-05T13:05:45.663Z"
   },
   {
    "duration": 31,
    "start_time": "2024-03-05T13:05:45.692Z"
   },
   {
    "duration": 68,
    "start_time": "2024-03-05T13:05:45.725Z"
   },
   {
    "duration": 29,
    "start_time": "2024-03-05T13:05:45.795Z"
   },
   {
    "duration": 292,
    "start_time": "2024-03-05T13:05:45.826Z"
   },
   {
    "duration": 17,
    "start_time": "2024-03-05T13:05:46.120Z"
   },
   {
    "duration": 113,
    "start_time": "2024-03-05T13:05:46.139Z"
   },
   {
    "duration": 279,
    "start_time": "2024-03-05T13:05:46.253Z"
   },
   {
    "duration": 21,
    "start_time": "2024-03-05T13:05:46.534Z"
   },
   {
    "duration": 53,
    "start_time": "2024-03-05T13:05:46.556Z"
   },
   {
    "duration": 3259,
    "start_time": "2024-03-05T13:05:46.611Z"
   },
   {
    "duration": 480,
    "start_time": "2024-03-05T13:05:49.872Z"
   },
   {
    "duration": 23,
    "start_time": "2024-03-05T13:05:50.353Z"
   },
   {
    "duration": 23,
    "start_time": "2024-03-05T13:05:50.378Z"
   },
   {
    "duration": 110,
    "start_time": "2024-03-05T13:05:50.403Z"
   },
   {
    "duration": 56,
    "start_time": "2024-03-05T13:05:50.518Z"
   },
   {
    "duration": 177,
    "start_time": "2024-03-05T13:05:50.576Z"
   },
   {
    "duration": 157,
    "start_time": "2024-03-05T13:05:50.755Z"
   },
   {
    "duration": 130,
    "start_time": "2024-03-05T13:05:50.914Z"
   },
   {
    "duration": 12,
    "start_time": "2024-03-05T13:05:51.045Z"
   },
   {
    "duration": 111,
    "start_time": "2024-03-05T13:05:51.059Z"
   },
   {
    "duration": 2,
    "start_time": "2024-03-05T13:05:51.172Z"
   },
   {
    "duration": 17,
    "start_time": "2024-03-05T13:05:51.176Z"
   },
   {
    "duration": 141,
    "start_time": "2024-03-05T13:05:51.194Z"
   },
   {
    "duration": 0,
    "start_time": "2024-03-05T13:05:51.337Z"
   },
   {
    "duration": 0,
    "start_time": "2024-03-05T13:05:51.338Z"
   },
   {
    "duration": 0,
    "start_time": "2024-03-05T13:05:51.339Z"
   },
   {
    "duration": 0,
    "start_time": "2024-03-05T13:05:51.341Z"
   },
   {
    "duration": 0,
    "start_time": "2024-03-05T13:05:51.342Z"
   },
   {
    "duration": 0,
    "start_time": "2024-03-05T13:05:51.343Z"
   },
   {
    "duration": 0,
    "start_time": "2024-03-05T13:05:51.344Z"
   },
   {
    "duration": 0,
    "start_time": "2024-03-05T13:05:51.345Z"
   },
   {
    "duration": 0,
    "start_time": "2024-03-05T13:05:51.347Z"
   },
   {
    "duration": 1,
    "start_time": "2024-03-05T13:05:51.347Z"
   },
   {
    "duration": 0,
    "start_time": "2024-03-05T13:05:51.348Z"
   },
   {
    "duration": 0,
    "start_time": "2024-03-05T13:05:51.349Z"
   },
   {
    "duration": 0,
    "start_time": "2024-03-05T13:05:51.350Z"
   },
   {
    "duration": 0,
    "start_time": "2024-03-05T13:05:51.351Z"
   },
   {
    "duration": 0,
    "start_time": "2024-03-05T13:05:51.353Z"
   },
   {
    "duration": 0,
    "start_time": "2024-03-05T13:05:51.354Z"
   },
   {
    "duration": 0,
    "start_time": "2024-03-05T13:05:51.355Z"
   },
   {
    "duration": 0,
    "start_time": "2024-03-05T13:05:51.356Z"
   },
   {
    "duration": 0,
    "start_time": "2024-03-05T13:05:51.357Z"
   },
   {
    "duration": 0,
    "start_time": "2024-03-05T13:05:51.358Z"
   },
   {
    "duration": 0,
    "start_time": "2024-03-05T13:05:51.359Z"
   },
   {
    "duration": 0,
    "start_time": "2024-03-05T13:05:51.392Z"
   },
   {
    "duration": 0,
    "start_time": "2024-03-05T13:05:51.393Z"
   },
   {
    "duration": 0,
    "start_time": "2024-03-05T13:05:51.394Z"
   },
   {
    "duration": 0,
    "start_time": "2024-03-05T13:05:51.395Z"
   },
   {
    "duration": 0,
    "start_time": "2024-03-05T13:05:51.396Z"
   },
   {
    "duration": 738,
    "start_time": "2024-03-05T13:06:08.076Z"
   },
   {
    "duration": 607,
    "start_time": "2024-03-05T13:08:36.841Z"
   },
   {
    "duration": 1121,
    "start_time": "2024-03-05T13:08:43.779Z"
   },
   {
    "duration": 1065,
    "start_time": "2024-03-05T13:10:50.062Z"
   },
   {
    "duration": 1247,
    "start_time": "2024-03-05T13:12:48.440Z"
   },
   {
    "duration": 1252,
    "start_time": "2024-03-05T13:12:56.833Z"
   },
   {
    "duration": 1301,
    "start_time": "2024-03-05T13:13:02.848Z"
   },
   {
    "duration": 1607,
    "start_time": "2024-03-05T13:14:33.152Z"
   },
   {
    "duration": 1560,
    "start_time": "2024-03-05T13:15:08.886Z"
   },
   {
    "duration": 476,
    "start_time": "2024-03-05T13:51:18.933Z"
   },
   {
    "duration": 471,
    "start_time": "2024-03-05T13:52:27.098Z"
   },
   {
    "duration": 1684,
    "start_time": "2024-03-05T13:52:59.664Z"
   },
   {
    "duration": 1032,
    "start_time": "2024-03-05T13:53:01.350Z"
   },
   {
    "duration": 19,
    "start_time": "2024-03-05T13:53:02.384Z"
   },
   {
    "duration": 253,
    "start_time": "2024-03-05T13:53:02.405Z"
   },
   {
    "duration": 565,
    "start_time": "2024-03-05T13:53:02.660Z"
   },
   {
    "duration": 107,
    "start_time": "2024-03-05T13:53:03.226Z"
   },
   {
    "duration": 14,
    "start_time": "2024-03-05T13:53:03.335Z"
   },
   {
    "duration": 199,
    "start_time": "2024-03-05T13:53:03.351Z"
   },
   {
    "duration": 42,
    "start_time": "2024-03-05T13:53:03.552Z"
   },
   {
    "duration": 271,
    "start_time": "2024-03-05T13:53:03.597Z"
   },
   {
    "duration": 331,
    "start_time": "2024-03-05T13:53:03.869Z"
   },
   {
    "duration": 169,
    "start_time": "2024-03-05T13:53:04.202Z"
   },
   {
    "duration": 43,
    "start_time": "2024-03-05T13:53:04.373Z"
   },
   {
    "duration": 39,
    "start_time": "2024-03-05T13:53:04.418Z"
   },
   {
    "duration": 66,
    "start_time": "2024-03-05T13:53:04.459Z"
   },
   {
    "duration": 26,
    "start_time": "2024-03-05T13:53:04.527Z"
   },
   {
    "duration": 308,
    "start_time": "2024-03-05T13:53:04.555Z"
   },
   {
    "duration": 27,
    "start_time": "2024-03-05T13:53:04.865Z"
   },
   {
    "duration": 115,
    "start_time": "2024-03-05T13:53:04.894Z"
   },
   {
    "duration": 280,
    "start_time": "2024-03-05T13:53:05.011Z"
   },
   {
    "duration": 22,
    "start_time": "2024-03-05T13:53:05.293Z"
   },
   {
    "duration": 67,
    "start_time": "2024-03-05T13:53:05.317Z"
   },
   {
    "duration": 3192,
    "start_time": "2024-03-05T13:53:05.386Z"
   },
   {
    "duration": 367,
    "start_time": "2024-03-05T13:53:08.580Z"
   },
   {
    "duration": 24,
    "start_time": "2024-03-05T13:53:08.949Z"
   },
   {
    "duration": 44,
    "start_time": "2024-03-05T13:53:08.975Z"
   },
   {
    "duration": 134,
    "start_time": "2024-03-05T13:53:09.021Z"
   },
   {
    "duration": 74,
    "start_time": "2024-03-05T13:53:09.160Z"
   },
   {
    "duration": 162,
    "start_time": "2024-03-05T13:53:09.236Z"
   },
   {
    "duration": 196,
    "start_time": "2024-03-05T13:53:09.400Z"
   },
   {
    "duration": 143,
    "start_time": "2024-03-05T13:53:09.598Z"
   },
   {
    "duration": 13,
    "start_time": "2024-03-05T13:53:09.744Z"
   },
   {
    "duration": 121,
    "start_time": "2024-03-05T13:53:09.760Z"
   },
   {
    "duration": 8,
    "start_time": "2024-03-05T13:53:09.883Z"
   },
   {
    "duration": 10,
    "start_time": "2024-03-05T13:53:09.893Z"
   },
   {
    "duration": 1608,
    "start_time": "2024-03-05T13:53:09.905Z"
   },
   {
    "duration": 479,
    "start_time": "2024-03-05T13:53:11.516Z"
   },
   {
    "duration": 214,
    "start_time": "2024-03-05T13:53:11.998Z"
   },
   {
    "duration": 0,
    "start_time": "2024-03-05T13:53:12.214Z"
   },
   {
    "duration": 0,
    "start_time": "2024-03-05T13:53:12.215Z"
   },
   {
    "duration": 0,
    "start_time": "2024-03-05T13:53:12.216Z"
   },
   {
    "duration": 0,
    "start_time": "2024-03-05T13:53:12.218Z"
   },
   {
    "duration": 0,
    "start_time": "2024-03-05T13:53:12.219Z"
   },
   {
    "duration": 0,
    "start_time": "2024-03-05T13:53:12.221Z"
   },
   {
    "duration": 0,
    "start_time": "2024-03-05T13:53:12.221Z"
   },
   {
    "duration": 0,
    "start_time": "2024-03-05T13:53:12.223Z"
   },
   {
    "duration": 0,
    "start_time": "2024-03-05T13:53:12.224Z"
   },
   {
    "duration": 0,
    "start_time": "2024-03-05T13:53:12.225Z"
   },
   {
    "duration": 0,
    "start_time": "2024-03-05T13:53:12.226Z"
   },
   {
    "duration": 0,
    "start_time": "2024-03-05T13:53:12.227Z"
   },
   {
    "duration": 0,
    "start_time": "2024-03-05T13:53:12.228Z"
   },
   {
    "duration": 0,
    "start_time": "2024-03-05T13:53:12.231Z"
   },
   {
    "duration": 0,
    "start_time": "2024-03-05T13:53:12.232Z"
   },
   {
    "duration": 0,
    "start_time": "2024-03-05T13:53:12.233Z"
   },
   {
    "duration": 0,
    "start_time": "2024-03-05T13:53:12.234Z"
   },
   {
    "duration": 0,
    "start_time": "2024-03-05T13:53:12.235Z"
   },
   {
    "duration": 0,
    "start_time": "2024-03-05T13:53:12.236Z"
   },
   {
    "duration": 0,
    "start_time": "2024-03-05T13:53:12.237Z"
   },
   {
    "duration": 0,
    "start_time": "2024-03-05T13:53:12.238Z"
   },
   {
    "duration": 0,
    "start_time": "2024-03-05T13:53:12.240Z"
   },
   {
    "duration": 0,
    "start_time": "2024-03-05T13:53:12.241Z"
   },
   {
    "duration": 0,
    "start_time": "2024-03-05T13:53:12.242Z"
   },
   {
    "duration": 0,
    "start_time": "2024-03-05T13:53:12.243Z"
   },
   {
    "duration": 0,
    "start_time": "2024-03-05T13:53:12.244Z"
   },
   {
    "duration": 482,
    "start_time": "2024-03-05T13:54:14.932Z"
   },
   {
    "duration": 18,
    "start_time": "2024-03-05T13:54:16.115Z"
   },
   {
    "duration": 468,
    "start_time": "2024-03-05T13:54:48.573Z"
   },
   {
    "duration": 86,
    "start_time": "2024-03-05T13:54:55.667Z"
   },
   {
    "duration": 488,
    "start_time": "2024-03-05T13:56:01.229Z"
   },
   {
    "duration": 41,
    "start_time": "2024-03-05T13:56:02.334Z"
   },
   {
    "duration": 83,
    "start_time": "2024-03-05T13:56:10.362Z"
   },
   {
    "duration": 1609,
    "start_time": "2024-03-05T13:57:16.121Z"
   },
   {
    "duration": 462,
    "start_time": "2024-03-05T13:57:18.754Z"
   },
   {
    "duration": 1528,
    "start_time": "2024-03-05T13:57:42.253Z"
   },
   {
    "duration": 459,
    "start_time": "2024-03-05T13:57:44.616Z"
   },
   {
    "duration": 38,
    "start_time": "2024-03-05T13:57:49.499Z"
   },
   {
    "duration": 104,
    "start_time": "2024-03-05T14:02:47.819Z"
   },
   {
    "duration": 1555,
    "start_time": "2024-03-05T14:02:58.915Z"
   },
   {
    "duration": 478,
    "start_time": "2024-03-05T14:03:01.474Z"
   },
   {
    "duration": 479,
    "start_time": "2024-03-05T14:03:04.100Z"
   },
   {
    "duration": 98,
    "start_time": "2024-03-05T14:40:18.000Z"
   },
   {
    "duration": 18,
    "start_time": "2024-03-05T14:42:47.211Z"
   },
   {
    "duration": 16,
    "start_time": "2024-03-05T14:43:03.114Z"
   },
   {
    "duration": 132,
    "start_time": "2024-03-05T14:43:07.893Z"
   },
   {
    "duration": 1827,
    "start_time": "2024-03-05T14:43:09.798Z"
   },
   {
    "duration": 554,
    "start_time": "2024-03-05T14:43:11.627Z"
   },
   {
    "duration": 562,
    "start_time": "2024-03-05T14:43:14.194Z"
   },
   {
    "duration": 67,
    "start_time": "2024-03-05T14:43:15.557Z"
   },
   {
    "duration": 141,
    "start_time": "2024-03-05T14:43:51.529Z"
   },
   {
    "duration": 1790,
    "start_time": "2024-03-05T14:43:52.443Z"
   },
   {
    "duration": 529,
    "start_time": "2024-03-05T14:43:54.767Z"
   },
   {
    "duration": 546,
    "start_time": "2024-03-05T14:43:55.949Z"
   },
   {
    "duration": 1578,
    "start_time": "2024-03-05T14:44:03.543Z"
   },
   {
    "duration": 972,
    "start_time": "2024-03-05T14:44:05.123Z"
   },
   {
    "duration": 18,
    "start_time": "2024-03-05T14:44:06.097Z"
   },
   {
    "duration": 181,
    "start_time": "2024-03-05T14:44:06.117Z"
   },
   {
    "duration": 548,
    "start_time": "2024-03-05T14:44:06.301Z"
   },
   {
    "duration": 114,
    "start_time": "2024-03-05T14:44:06.851Z"
   },
   {
    "duration": 24,
    "start_time": "2024-03-05T14:44:06.967Z"
   },
   {
    "duration": 50,
    "start_time": "2024-03-05T14:44:06.993Z"
   },
   {
    "duration": 30,
    "start_time": "2024-03-05T14:44:07.045Z"
   },
   {
    "duration": 88,
    "start_time": "2024-03-05T14:44:07.076Z"
   },
   {
    "duration": 47,
    "start_time": "2024-03-05T14:44:07.165Z"
   },
   {
    "duration": 36,
    "start_time": "2024-03-05T14:44:07.214Z"
   },
   {
    "duration": 16,
    "start_time": "2024-03-05T14:44:07.251Z"
   },
   {
    "duration": 39,
    "start_time": "2024-03-05T14:44:07.271Z"
   },
   {
    "duration": 99,
    "start_time": "2024-03-05T14:44:07.312Z"
   },
   {
    "duration": 29,
    "start_time": "2024-03-05T14:44:07.413Z"
   },
   {
    "duration": 317,
    "start_time": "2024-03-05T14:44:07.444Z"
   },
   {
    "duration": 15,
    "start_time": "2024-03-05T14:44:07.763Z"
   },
   {
    "duration": 105,
    "start_time": "2024-03-05T14:44:07.779Z"
   },
   {
    "duration": 270,
    "start_time": "2024-03-05T14:44:07.885Z"
   },
   {
    "duration": 19,
    "start_time": "2024-03-05T14:44:08.157Z"
   },
   {
    "duration": 42,
    "start_time": "2024-03-05T14:44:08.177Z"
   },
   {
    "duration": 3168,
    "start_time": "2024-03-05T14:44:08.221Z"
   },
   {
    "duration": 435,
    "start_time": "2024-03-05T14:44:11.391Z"
   },
   {
    "duration": 22,
    "start_time": "2024-03-05T14:44:11.828Z"
   },
   {
    "duration": 14,
    "start_time": "2024-03-05T14:44:11.853Z"
   },
   {
    "duration": 104,
    "start_time": "2024-03-05T14:44:11.869Z"
   },
   {
    "duration": 67,
    "start_time": "2024-03-05T14:44:11.974Z"
   },
   {
    "duration": 170,
    "start_time": "2024-03-05T14:44:12.043Z"
   },
   {
    "duration": 159,
    "start_time": "2024-03-05T14:44:12.215Z"
   },
   {
    "duration": 135,
    "start_time": "2024-03-05T14:44:12.376Z"
   },
   {
    "duration": 12,
    "start_time": "2024-03-05T14:44:12.513Z"
   },
   {
    "duration": 98,
    "start_time": "2024-03-05T14:44:12.527Z"
   },
   {
    "duration": 2,
    "start_time": "2024-03-05T14:44:12.627Z"
   },
   {
    "duration": 16,
    "start_time": "2024-03-05T14:44:12.630Z"
   },
   {
    "duration": 261,
    "start_time": "2024-03-05T14:44:12.648Z"
   },
   {
    "duration": 1799,
    "start_time": "2024-03-05T14:44:12.911Z"
   },
   {
    "duration": 543,
    "start_time": "2024-03-05T14:44:14.712Z"
   },
   {
    "duration": 551,
    "start_time": "2024-03-05T14:44:15.257Z"
   },
   {
    "duration": 63,
    "start_time": "2024-03-05T14:44:15.810Z"
   },
   {
    "duration": 16,
    "start_time": "2024-03-05T14:44:15.877Z"
   },
   {
    "duration": 223,
    "start_time": "2024-03-05T14:44:15.895Z"
   },
   {
    "duration": 17,
    "start_time": "2024-03-05T14:44:16.120Z"
   },
   {
    "duration": 46,
    "start_time": "2024-03-05T14:44:16.138Z"
   },
   {
    "duration": 166,
    "start_time": "2024-03-05T14:44:16.186Z"
   },
   {
    "duration": 0,
    "start_time": "2024-03-05T14:44:16.354Z"
   },
   {
    "duration": 0,
    "start_time": "2024-03-05T14:44:16.355Z"
   },
   {
    "duration": 0,
    "start_time": "2024-03-05T14:44:16.356Z"
   },
   {
    "duration": 0,
    "start_time": "2024-03-05T14:44:16.358Z"
   },
   {
    "duration": 0,
    "start_time": "2024-03-05T14:44:16.359Z"
   },
   {
    "duration": 0,
    "start_time": "2024-03-05T14:44:16.361Z"
   },
   {
    "duration": 0,
    "start_time": "2024-03-05T14:44:16.362Z"
   },
   {
    "duration": 0,
    "start_time": "2024-03-05T14:44:16.363Z"
   },
   {
    "duration": 0,
    "start_time": "2024-03-05T14:44:16.365Z"
   },
   {
    "duration": 0,
    "start_time": "2024-03-05T14:44:16.366Z"
   },
   {
    "duration": 1,
    "start_time": "2024-03-05T14:44:16.368Z"
   },
   {
    "duration": 0,
    "start_time": "2024-03-05T14:44:16.369Z"
   },
   {
    "duration": 0,
    "start_time": "2024-03-05T14:44:16.370Z"
   },
   {
    "duration": 0,
    "start_time": "2024-03-05T14:44:16.392Z"
   },
   {
    "duration": 0,
    "start_time": "2024-03-05T14:44:16.393Z"
   },
   {
    "duration": 0,
    "start_time": "2024-03-05T14:44:16.394Z"
   },
   {
    "duration": 0,
    "start_time": "2024-03-05T14:44:16.395Z"
   },
   {
    "duration": 0,
    "start_time": "2024-03-05T14:44:16.396Z"
   },
   {
    "duration": 0,
    "start_time": "2024-03-05T14:44:16.398Z"
   },
   {
    "duration": 0,
    "start_time": "2024-03-05T14:44:16.399Z"
   },
   {
    "duration": 0,
    "start_time": "2024-03-05T14:44:16.400Z"
   },
   {
    "duration": 1593,
    "start_time": "2024-03-05T14:46:23.259Z"
   },
   {
    "duration": 977,
    "start_time": "2024-03-05T14:46:24.855Z"
   },
   {
    "duration": 17,
    "start_time": "2024-03-05T14:46:25.833Z"
   },
   {
    "duration": 185,
    "start_time": "2024-03-05T14:46:25.852Z"
   },
   {
    "duration": 536,
    "start_time": "2024-03-05T14:46:26.039Z"
   },
   {
    "duration": 107,
    "start_time": "2024-03-05T14:46:26.576Z"
   },
   {
    "duration": 14,
    "start_time": "2024-03-05T14:46:26.690Z"
   },
   {
    "duration": 49,
    "start_time": "2024-03-05T14:46:26.706Z"
   },
   {
    "duration": 41,
    "start_time": "2024-03-05T14:46:26.756Z"
   },
   {
    "duration": 74,
    "start_time": "2024-03-05T14:46:26.798Z"
   },
   {
    "duration": 38,
    "start_time": "2024-03-05T14:46:26.874Z"
   },
   {
    "duration": 22,
    "start_time": "2024-03-05T14:46:26.914Z"
   },
   {
    "duration": 20,
    "start_time": "2024-03-05T14:46:26.938Z"
   },
   {
    "duration": 42,
    "start_time": "2024-03-05T14:46:26.961Z"
   },
   {
    "duration": 100,
    "start_time": "2024-03-05T14:46:27.004Z"
   },
   {
    "duration": 25,
    "start_time": "2024-03-05T14:46:27.106Z"
   },
   {
    "duration": 297,
    "start_time": "2024-03-05T14:46:27.132Z"
   },
   {
    "duration": 15,
    "start_time": "2024-03-05T14:46:27.431Z"
   },
   {
    "duration": 103,
    "start_time": "2024-03-05T14:46:27.448Z"
   },
   {
    "duration": 281,
    "start_time": "2024-03-05T14:46:27.553Z"
   },
   {
    "duration": 18,
    "start_time": "2024-03-05T14:46:27.836Z"
   },
   {
    "duration": 36,
    "start_time": "2024-03-05T14:46:27.856Z"
   },
   {
    "duration": 3226,
    "start_time": "2024-03-05T14:46:27.894Z"
   },
   {
    "duration": 492,
    "start_time": "2024-03-05T14:46:31.121Z"
   },
   {
    "duration": 22,
    "start_time": "2024-03-05T14:46:31.615Z"
   },
   {
    "duration": 112,
    "start_time": "2024-03-05T14:46:31.639Z"
   },
   {
    "duration": 308,
    "start_time": "2024-03-05T14:46:31.753Z"
   },
   {
    "duration": 117,
    "start_time": "2024-03-05T14:46:32.063Z"
   },
   {
    "duration": 176,
    "start_time": "2024-03-05T14:46:32.181Z"
   },
   {
    "duration": 155,
    "start_time": "2024-03-05T14:46:32.358Z"
   },
   {
    "duration": 125,
    "start_time": "2024-03-05T14:46:32.515Z"
   },
   {
    "duration": 12,
    "start_time": "2024-03-05T14:46:32.642Z"
   },
   {
    "duration": 163,
    "start_time": "2024-03-05T14:46:32.656Z"
   },
   {
    "duration": 289,
    "start_time": "2024-03-05T14:46:32.821Z"
   },
   {
    "duration": 164,
    "start_time": "2024-03-05T14:46:33.112Z"
   },
   {
    "duration": 171,
    "start_time": "2024-03-05T14:46:33.277Z"
   },
   {
    "duration": 1771,
    "start_time": "2024-03-05T14:46:33.450Z"
   },
   {
    "duration": 539,
    "start_time": "2024-03-05T14:46:35.223Z"
   },
   {
    "duration": 550,
    "start_time": "2024-03-05T14:46:35.763Z"
   },
   {
    "duration": 59,
    "start_time": "2024-03-05T14:46:36.314Z"
   },
   {
    "duration": 16,
    "start_time": "2024-03-05T14:46:36.377Z"
   },
   {
    "duration": 42,
    "start_time": "2024-03-05T14:46:36.394Z"
   },
   {
    "duration": 66,
    "start_time": "2024-03-05T14:46:36.438Z"
   },
   {
    "duration": 42,
    "start_time": "2024-03-05T14:46:36.505Z"
   },
   {
    "duration": 161,
    "start_time": "2024-03-05T14:46:36.548Z"
   },
   {
    "duration": 0,
    "start_time": "2024-03-05T14:46:36.711Z"
   },
   {
    "duration": 0,
    "start_time": "2024-03-05T14:46:36.712Z"
   },
   {
    "duration": 0,
    "start_time": "2024-03-05T14:46:36.713Z"
   },
   {
    "duration": 0,
    "start_time": "2024-03-05T14:46:36.715Z"
   },
   {
    "duration": 0,
    "start_time": "2024-03-05T14:46:36.716Z"
   },
   {
    "duration": 0,
    "start_time": "2024-03-05T14:46:36.717Z"
   },
   {
    "duration": 0,
    "start_time": "2024-03-05T14:46:36.719Z"
   },
   {
    "duration": 0,
    "start_time": "2024-03-05T14:46:36.720Z"
   },
   {
    "duration": 0,
    "start_time": "2024-03-05T14:46:36.721Z"
   },
   {
    "duration": 0,
    "start_time": "2024-03-05T14:46:36.722Z"
   },
   {
    "duration": 0,
    "start_time": "2024-03-05T14:46:36.724Z"
   },
   {
    "duration": 0,
    "start_time": "2024-03-05T14:46:36.725Z"
   },
   {
    "duration": 0,
    "start_time": "2024-03-05T14:46:36.726Z"
   },
   {
    "duration": 0,
    "start_time": "2024-03-05T14:46:36.728Z"
   },
   {
    "duration": 0,
    "start_time": "2024-03-05T14:46:36.729Z"
   },
   {
    "duration": 0,
    "start_time": "2024-03-05T14:46:36.731Z"
   },
   {
    "duration": 0,
    "start_time": "2024-03-05T14:46:36.732Z"
   },
   {
    "duration": 0,
    "start_time": "2024-03-05T14:46:36.734Z"
   },
   {
    "duration": 0,
    "start_time": "2024-03-05T14:46:36.736Z"
   },
   {
    "duration": 0,
    "start_time": "2024-03-05T14:46:36.738Z"
   },
   {
    "duration": 0,
    "start_time": "2024-03-05T14:46:36.739Z"
   },
   {
    "duration": 1541,
    "start_time": "2024-03-05T14:47:34.283Z"
   },
   {
    "duration": 951,
    "start_time": "2024-03-05T14:47:35.826Z"
   },
   {
    "duration": 20,
    "start_time": "2024-03-05T14:47:36.779Z"
   },
   {
    "duration": 158,
    "start_time": "2024-03-05T14:47:36.800Z"
   },
   {
    "duration": 548,
    "start_time": "2024-03-05T14:47:36.960Z"
   },
   {
    "duration": 110,
    "start_time": "2024-03-05T14:47:37.510Z"
   },
   {
    "duration": 14,
    "start_time": "2024-03-05T14:47:37.621Z"
   },
   {
    "duration": 61,
    "start_time": "2024-03-05T14:47:37.637Z"
   },
   {
    "duration": 28,
    "start_time": "2024-03-05T14:47:37.700Z"
   },
   {
    "duration": 84,
    "start_time": "2024-03-05T14:47:37.730Z"
   },
   {
    "duration": 28,
    "start_time": "2024-03-05T14:47:37.816Z"
   },
   {
    "duration": 21,
    "start_time": "2024-03-05T14:47:37.846Z"
   },
   {
    "duration": 24,
    "start_time": "2024-03-05T14:47:37.869Z"
   },
   {
    "duration": 29,
    "start_time": "2024-03-05T14:47:37.895Z"
   },
   {
    "duration": 71,
    "start_time": "2024-03-05T14:47:37.926Z"
   },
   {
    "duration": 27,
    "start_time": "2024-03-05T14:47:37.999Z"
   },
   {
    "duration": 305,
    "start_time": "2024-03-05T14:47:38.027Z"
   },
   {
    "duration": 15,
    "start_time": "2024-03-05T14:47:38.334Z"
   },
   {
    "duration": 102,
    "start_time": "2024-03-05T14:47:38.351Z"
   },
   {
    "duration": 291,
    "start_time": "2024-03-05T14:47:38.454Z"
   },
   {
    "duration": 19,
    "start_time": "2024-03-05T14:47:38.747Z"
   },
   {
    "duration": 36,
    "start_time": "2024-03-05T14:47:38.768Z"
   },
   {
    "duration": 3156,
    "start_time": "2024-03-05T14:47:38.806Z"
   },
   {
    "duration": 474,
    "start_time": "2024-03-05T14:47:41.964Z"
   },
   {
    "duration": 24,
    "start_time": "2024-03-05T14:47:42.440Z"
   },
   {
    "duration": 28,
    "start_time": "2024-03-05T14:47:42.466Z"
   },
   {
    "duration": 101,
    "start_time": "2024-03-05T14:47:42.495Z"
   },
   {
    "duration": 56,
    "start_time": "2024-03-05T14:47:42.600Z"
   },
   {
    "duration": 188,
    "start_time": "2024-03-05T14:47:42.658Z"
   },
   {
    "duration": 164,
    "start_time": "2024-03-05T14:47:42.847Z"
   },
   {
    "duration": 125,
    "start_time": "2024-03-05T14:47:43.012Z"
   },
   {
    "duration": 11,
    "start_time": "2024-03-05T14:47:43.138Z"
   },
   {
    "duration": 114,
    "start_time": "2024-03-05T14:47:43.151Z"
   },
   {
    "duration": 2,
    "start_time": "2024-03-05T14:47:43.267Z"
   },
   {
    "duration": 4,
    "start_time": "2024-03-05T14:47:43.271Z"
   },
   {
    "duration": 176,
    "start_time": "2024-03-05T14:47:43.277Z"
   },
   {
    "duration": 1817,
    "start_time": "2024-03-05T14:47:43.455Z"
   },
   {
    "duration": 575,
    "start_time": "2024-03-05T14:47:45.274Z"
   },
   {
    "duration": 550,
    "start_time": "2024-03-05T14:47:45.850Z"
   },
   {
    "duration": 64,
    "start_time": "2024-03-05T14:47:46.402Z"
   },
   {
    "duration": 4,
    "start_time": "2024-03-05T14:47:46.468Z"
   },
   {
    "duration": 17,
    "start_time": "2024-03-05T14:47:46.474Z"
   },
   {
    "duration": 2,
    "start_time": "2024-03-05T14:47:46.494Z"
   },
   {
    "duration": 9,
    "start_time": "2024-03-05T14:47:46.499Z"
   },
   {
    "duration": 144,
    "start_time": "2024-03-05T14:47:46.511Z"
   },
   {
    "duration": 0,
    "start_time": "2024-03-05T14:47:46.657Z"
   },
   {
    "duration": 0,
    "start_time": "2024-03-05T14:47:46.658Z"
   },
   {
    "duration": 0,
    "start_time": "2024-03-05T14:47:46.659Z"
   },
   {
    "duration": 0,
    "start_time": "2024-03-05T14:47:46.660Z"
   },
   {
    "duration": 0,
    "start_time": "2024-03-05T14:47:46.662Z"
   },
   {
    "duration": 0,
    "start_time": "2024-03-05T14:47:46.663Z"
   },
   {
    "duration": 0,
    "start_time": "2024-03-05T14:47:46.664Z"
   },
   {
    "duration": 0,
    "start_time": "2024-03-05T14:47:46.665Z"
   },
   {
    "duration": 0,
    "start_time": "2024-03-05T14:47:46.666Z"
   },
   {
    "duration": 0,
    "start_time": "2024-03-05T14:47:46.692Z"
   },
   {
    "duration": 0,
    "start_time": "2024-03-05T14:47:46.693Z"
   },
   {
    "duration": 0,
    "start_time": "2024-03-05T14:47:46.694Z"
   },
   {
    "duration": 0,
    "start_time": "2024-03-05T14:47:46.695Z"
   },
   {
    "duration": 0,
    "start_time": "2024-03-05T14:47:46.697Z"
   },
   {
    "duration": 0,
    "start_time": "2024-03-05T14:47:46.698Z"
   },
   {
    "duration": 0,
    "start_time": "2024-03-05T14:47:46.699Z"
   },
   {
    "duration": 0,
    "start_time": "2024-03-05T14:47:46.700Z"
   },
   {
    "duration": 0,
    "start_time": "2024-03-05T14:47:46.702Z"
   },
   {
    "duration": 1,
    "start_time": "2024-03-05T14:47:46.702Z"
   },
   {
    "duration": 0,
    "start_time": "2024-03-05T14:47:46.704Z"
   },
   {
    "duration": 0,
    "start_time": "2024-03-05T14:47:46.705Z"
   },
   {
    "duration": 14,
    "start_time": "2024-03-05T14:52:51.846Z"
   },
   {
    "duration": 3,
    "start_time": "2024-03-05T14:54:01.124Z"
   },
   {
    "duration": 123,
    "start_time": "2024-03-05T14:54:03.268Z"
   },
   {
    "duration": 486,
    "start_time": "2024-03-05T14:55:30.387Z"
   },
   {
    "duration": 16323,
    "start_time": "2024-03-05T14:56:07.770Z"
   },
   {
    "duration": 21,
    "start_time": "2024-03-05T14:56:42.695Z"
   },
   {
    "duration": 4,
    "start_time": "2024-03-05T14:57:06.069Z"
   },
   {
    "duration": 1571,
    "start_time": "2024-03-05T15:01:02.413Z"
   },
   {
    "duration": 2972,
    "start_time": "2024-03-05T15:01:03.986Z"
   },
   {
    "duration": 17,
    "start_time": "2024-03-05T15:01:06.960Z"
   },
   {
    "duration": 161,
    "start_time": "2024-03-05T15:01:06.978Z"
   },
   {
    "duration": 545,
    "start_time": "2024-03-05T15:01:07.142Z"
   },
   {
    "duration": 107,
    "start_time": "2024-03-05T15:01:07.689Z"
   },
   {
    "duration": 14,
    "start_time": "2024-03-05T15:01:07.797Z"
   },
   {
    "duration": 79,
    "start_time": "2024-03-05T15:01:07.812Z"
   },
   {
    "duration": 29,
    "start_time": "2024-03-05T15:01:07.893Z"
   },
   {
    "duration": 82,
    "start_time": "2024-03-05T15:01:07.924Z"
   },
   {
    "duration": 29,
    "start_time": "2024-03-05T15:01:08.008Z"
   },
   {
    "duration": 31,
    "start_time": "2024-03-05T15:01:08.038Z"
   },
   {
    "duration": 6,
    "start_time": "2024-03-05T15:01:08.070Z"
   },
   {
    "duration": 29,
    "start_time": "2024-03-05T15:01:08.091Z"
   },
   {
    "duration": 58,
    "start_time": "2024-03-05T15:01:08.121Z"
   },
   {
    "duration": 31,
    "start_time": "2024-03-05T15:01:08.180Z"
   },
   {
    "duration": 295,
    "start_time": "2024-03-05T15:01:08.213Z"
   },
   {
    "duration": 16,
    "start_time": "2024-03-05T15:01:08.510Z"
   },
   {
    "duration": 110,
    "start_time": "2024-03-05T15:01:08.528Z"
   },
   {
    "duration": 296,
    "start_time": "2024-03-05T15:01:08.641Z"
   },
   {
    "duration": 20,
    "start_time": "2024-03-05T15:01:08.939Z"
   },
   {
    "duration": 42,
    "start_time": "2024-03-05T15:01:08.961Z"
   },
   {
    "duration": 3146,
    "start_time": "2024-03-05T15:01:09.005Z"
   },
   {
    "duration": 451,
    "start_time": "2024-03-05T15:01:12.154Z"
   },
   {
    "duration": 23,
    "start_time": "2024-03-05T15:01:12.607Z"
   },
   {
    "duration": 16,
    "start_time": "2024-03-05T15:01:12.631Z"
   },
   {
    "duration": 107,
    "start_time": "2024-03-05T15:01:12.649Z"
   },
   {
    "duration": 74,
    "start_time": "2024-03-05T15:01:12.758Z"
   },
   {
    "duration": 140,
    "start_time": "2024-03-05T15:01:12.834Z"
   },
   {
    "duration": 159,
    "start_time": "2024-03-05T15:01:12.975Z"
   },
   {
    "duration": 143,
    "start_time": "2024-03-05T15:01:13.135Z"
   },
   {
    "duration": 21,
    "start_time": "2024-03-05T15:01:13.279Z"
   },
   {
    "duration": 111,
    "start_time": "2024-03-05T15:01:13.302Z"
   },
   {
    "duration": 2,
    "start_time": "2024-03-05T15:01:13.415Z"
   },
   {
    "duration": 25,
    "start_time": "2024-03-05T15:01:13.419Z"
   },
   {
    "duration": 191,
    "start_time": "2024-03-05T15:01:13.446Z"
   },
   {
    "duration": 1796,
    "start_time": "2024-03-05T15:01:13.639Z"
   },
   {
    "duration": 581,
    "start_time": "2024-03-05T15:01:15.437Z"
   },
   {
    "duration": 596,
    "start_time": "2024-03-05T15:01:16.020Z"
   },
   {
    "duration": 65,
    "start_time": "2024-03-05T15:01:16.617Z"
   },
   {
    "duration": 7,
    "start_time": "2024-03-05T15:01:16.686Z"
   },
   {
    "duration": 6,
    "start_time": "2024-03-05T15:01:16.695Z"
   },
   {
    "duration": 5,
    "start_time": "2024-03-05T15:01:16.703Z"
   },
   {
    "duration": 10,
    "start_time": "2024-03-05T15:01:16.710Z"
   },
   {
    "duration": 189,
    "start_time": "2024-03-05T15:01:16.722Z"
   },
   {
    "duration": 15478,
    "start_time": "2024-03-05T15:01:16.913Z"
   },
   {
    "duration": 202,
    "start_time": "2024-03-05T15:01:32.393Z"
   },
   {
    "duration": 95,
    "start_time": "2024-03-05T15:01:32.598Z"
   },
   {
    "duration": 147,
    "start_time": "2024-03-05T15:05:14.566Z"
   },
   {
    "duration": 1613,
    "start_time": "2024-03-05T15:05:25.328Z"
   },
   {
    "duration": 2966,
    "start_time": "2024-03-05T15:05:26.943Z"
   },
   {
    "duration": 17,
    "start_time": "2024-03-05T15:05:29.911Z"
   },
   {
    "duration": 179,
    "start_time": "2024-03-05T15:05:29.930Z"
   },
   {
    "duration": 992,
    "start_time": "2024-03-05T15:05:30.111Z"
   },
   {
    "duration": 126,
    "start_time": "2024-03-05T15:05:31.105Z"
   },
   {
    "duration": 16,
    "start_time": "2024-03-05T15:05:31.233Z"
   },
   {
    "duration": 151,
    "start_time": "2024-03-05T15:05:31.251Z"
   },
   {
    "duration": 62,
    "start_time": "2024-03-05T15:05:31.404Z"
   },
   {
    "duration": 249,
    "start_time": "2024-03-05T15:05:31.468Z"
   },
   {
    "duration": 65,
    "start_time": "2024-03-05T15:05:31.718Z"
   },
   {
    "duration": 103,
    "start_time": "2024-03-05T15:05:31.785Z"
   },
   {
    "duration": 172,
    "start_time": "2024-03-05T15:05:31.890Z"
   },
   {
    "duration": 149,
    "start_time": "2024-03-05T15:05:32.064Z"
   },
   {
    "duration": 147,
    "start_time": "2024-03-05T15:05:32.214Z"
   },
   {
    "duration": 26,
    "start_time": "2024-03-05T15:05:32.362Z"
   },
   {
    "duration": 277,
    "start_time": "2024-03-05T15:05:32.390Z"
   },
   {
    "duration": 15,
    "start_time": "2024-03-05T15:05:32.669Z"
   },
   {
    "duration": 115,
    "start_time": "2024-03-05T15:05:32.692Z"
   },
   {
    "duration": 268,
    "start_time": "2024-03-05T15:05:32.808Z"
   },
   {
    "duration": 23,
    "start_time": "2024-03-05T15:05:33.078Z"
   },
   {
    "duration": 57,
    "start_time": "2024-03-05T15:05:33.103Z"
   },
   {
    "duration": 3156,
    "start_time": "2024-03-05T15:05:33.162Z"
   },
   {
    "duration": 412,
    "start_time": "2024-03-05T15:05:36.320Z"
   },
   {
    "duration": 22,
    "start_time": "2024-03-05T15:05:36.734Z"
   },
   {
    "duration": 41,
    "start_time": "2024-03-05T15:05:36.758Z"
   },
   {
    "duration": 138,
    "start_time": "2024-03-05T15:05:36.801Z"
   },
   {
    "duration": 82,
    "start_time": "2024-03-05T15:05:36.943Z"
   },
   {
    "duration": 154,
    "start_time": "2024-03-05T15:05:37.027Z"
   },
   {
    "duration": 165,
    "start_time": "2024-03-05T15:05:37.183Z"
   },
   {
    "duration": 135,
    "start_time": "2024-03-05T15:05:37.350Z"
   },
   {
    "duration": 14,
    "start_time": "2024-03-05T15:05:37.490Z"
   },
   {
    "duration": 119,
    "start_time": "2024-03-05T15:05:37.506Z"
   },
   {
    "duration": 2,
    "start_time": "2024-03-05T15:05:37.627Z"
   },
   {
    "duration": 32,
    "start_time": "2024-03-05T15:05:37.632Z"
   },
   {
    "duration": 189,
    "start_time": "2024-03-05T15:05:37.666Z"
   },
   {
    "duration": 1791,
    "start_time": "2024-03-05T15:05:37.856Z"
   },
   {
    "duration": 576,
    "start_time": "2024-03-05T15:05:39.649Z"
   },
   {
    "duration": 598,
    "start_time": "2024-03-05T15:05:40.227Z"
   },
   {
    "duration": 72,
    "start_time": "2024-03-05T15:05:40.826Z"
   },
   {
    "duration": 3,
    "start_time": "2024-03-05T15:05:40.900Z"
   },
   {
    "duration": 31,
    "start_time": "2024-03-05T15:05:40.905Z"
   },
   {
    "duration": 40,
    "start_time": "2024-03-05T15:05:40.937Z"
   },
   {
    "duration": 52,
    "start_time": "2024-03-05T15:05:40.979Z"
   },
   {
    "duration": 169,
    "start_time": "2024-03-05T15:05:41.033Z"
   },
   {
    "duration": 15193,
    "start_time": "2024-03-05T15:05:41.204Z"
   },
   {
    "duration": 209,
    "start_time": "2024-03-05T15:05:56.398Z"
   },
   {
    "duration": 6,
    "start_time": "2024-03-05T15:05:56.692Z"
   },
   {
    "duration": 145,
    "start_time": "2024-03-05T15:14:29.385Z"
   },
   {
    "duration": 1565,
    "start_time": "2024-03-05T15:14:52.324Z"
   },
   {
    "duration": 2964,
    "start_time": "2024-03-05T15:14:53.891Z"
   },
   {
    "duration": 18,
    "start_time": "2024-03-05T15:14:56.857Z"
   },
   {
    "duration": 179,
    "start_time": "2024-03-05T15:14:56.877Z"
   },
   {
    "duration": 544,
    "start_time": "2024-03-05T15:14:57.058Z"
   },
   {
    "duration": 114,
    "start_time": "2024-03-05T15:14:57.605Z"
   },
   {
    "duration": 20,
    "start_time": "2024-03-05T15:14:57.721Z"
   },
   {
    "duration": 69,
    "start_time": "2024-03-05T15:14:57.743Z"
   },
   {
    "duration": 36,
    "start_time": "2024-03-05T15:14:57.815Z"
   },
   {
    "duration": 89,
    "start_time": "2024-03-05T15:14:57.853Z"
   },
   {
    "duration": 28,
    "start_time": "2024-03-05T15:14:57.944Z"
   },
   {
    "duration": 34,
    "start_time": "2024-03-05T15:14:57.974Z"
   },
   {
    "duration": 36,
    "start_time": "2024-03-05T15:14:58.010Z"
   },
   {
    "duration": 29,
    "start_time": "2024-03-05T15:14:58.049Z"
   },
   {
    "duration": 52,
    "start_time": "2024-03-05T15:14:58.079Z"
   },
   {
    "duration": 26,
    "start_time": "2024-03-05T15:14:58.133Z"
   },
   {
    "duration": 296,
    "start_time": "2024-03-05T15:14:58.160Z"
   },
   {
    "duration": 16,
    "start_time": "2024-03-05T15:14:58.458Z"
   },
   {
    "duration": 110,
    "start_time": "2024-03-05T15:14:58.476Z"
   },
   {
    "duration": 270,
    "start_time": "2024-03-05T15:14:58.592Z"
   },
   {
    "duration": 19,
    "start_time": "2024-03-05T15:14:58.864Z"
   },
   {
    "duration": 32,
    "start_time": "2024-03-05T15:14:58.885Z"
   },
   {
    "duration": 3163,
    "start_time": "2024-03-05T15:14:58.918Z"
   },
   {
    "duration": 460,
    "start_time": "2024-03-05T15:15:02.083Z"
   },
   {
    "duration": 22,
    "start_time": "2024-03-05T15:15:02.544Z"
   },
   {
    "duration": 26,
    "start_time": "2024-03-05T15:15:02.568Z"
   },
   {
    "duration": 96,
    "start_time": "2024-03-05T15:15:02.596Z"
   },
   {
    "duration": 64,
    "start_time": "2024-03-05T15:15:02.694Z"
   },
   {
    "duration": 171,
    "start_time": "2024-03-05T15:15:02.760Z"
   },
   {
    "duration": 175,
    "start_time": "2024-03-05T15:15:02.934Z"
   },
   {
    "duration": 138,
    "start_time": "2024-03-05T15:15:03.111Z"
   },
   {
    "duration": 12,
    "start_time": "2024-03-05T15:15:03.251Z"
   },
   {
    "duration": 105,
    "start_time": "2024-03-05T15:15:03.264Z"
   },
   {
    "duration": 2,
    "start_time": "2024-03-05T15:15:03.371Z"
   },
   {
    "duration": 17,
    "start_time": "2024-03-05T15:15:03.375Z"
   },
   {
    "duration": 169,
    "start_time": "2024-03-05T15:15:03.393Z"
   },
   {
    "duration": 1824,
    "start_time": "2024-03-05T15:15:03.563Z"
   },
   {
    "duration": 566,
    "start_time": "2024-03-05T15:15:05.388Z"
   },
   {
    "duration": 569,
    "start_time": "2024-03-05T15:15:05.955Z"
   },
   {
    "duration": 71,
    "start_time": "2024-03-05T15:15:06.526Z"
   },
   {
    "duration": 2,
    "start_time": "2024-03-05T15:15:06.601Z"
   },
   {
    "duration": 4,
    "start_time": "2024-03-05T15:15:06.605Z"
   },
   {
    "duration": 8,
    "start_time": "2024-03-05T15:15:06.610Z"
   },
   {
    "duration": 7,
    "start_time": "2024-03-05T15:15:06.619Z"
   },
   {
    "duration": 165,
    "start_time": "2024-03-05T15:15:06.628Z"
   },
   {
    "duration": 15299,
    "start_time": "2024-03-05T15:15:06.795Z"
   },
   {
    "duration": 196,
    "start_time": "2024-03-05T15:15:22.096Z"
   },
   {
    "duration": 7,
    "start_time": "2024-03-05T15:15:22.294Z"
   },
   {
    "duration": 1579,
    "start_time": "2024-03-05T15:19:34.694Z"
   },
   {
    "duration": 2935,
    "start_time": "2024-03-05T15:19:36.275Z"
   },
   {
    "duration": 17,
    "start_time": "2024-03-05T15:19:39.212Z"
   },
   {
    "duration": 165,
    "start_time": "2024-03-05T15:19:39.231Z"
   },
   {
    "duration": 571,
    "start_time": "2024-03-05T15:19:39.398Z"
   },
   {
    "duration": 124,
    "start_time": "2024-03-05T15:19:39.971Z"
   },
   {
    "duration": 15,
    "start_time": "2024-03-05T15:19:40.097Z"
   },
   {
    "duration": 49,
    "start_time": "2024-03-05T15:19:40.113Z"
   },
   {
    "duration": 45,
    "start_time": "2024-03-05T15:19:40.164Z"
   },
   {
    "duration": 88,
    "start_time": "2024-03-05T15:19:40.213Z"
   },
   {
    "duration": 29,
    "start_time": "2024-03-05T15:19:40.303Z"
   },
   {
    "duration": 39,
    "start_time": "2024-03-05T15:19:40.334Z"
   },
   {
    "duration": 13,
    "start_time": "2024-03-05T15:19:40.375Z"
   },
   {
    "duration": 35,
    "start_time": "2024-03-05T15:19:40.389Z"
   },
   {
    "duration": 51,
    "start_time": "2024-03-05T15:19:40.426Z"
   },
   {
    "duration": 32,
    "start_time": "2024-03-05T15:19:40.479Z"
   },
   {
    "duration": 291,
    "start_time": "2024-03-05T15:19:40.513Z"
   },
   {
    "duration": 18,
    "start_time": "2024-03-05T15:19:40.806Z"
   },
   {
    "duration": 109,
    "start_time": "2024-03-05T15:19:40.826Z"
   },
   {
    "duration": 295,
    "start_time": "2024-03-05T15:19:40.937Z"
   },
   {
    "duration": 23,
    "start_time": "2024-03-05T15:19:41.234Z"
   },
   {
    "duration": 43,
    "start_time": "2024-03-05T15:19:41.259Z"
   },
   {
    "duration": 3261,
    "start_time": "2024-03-05T15:19:41.304Z"
   },
   {
    "duration": 393,
    "start_time": "2024-03-05T15:19:44.566Z"
   },
   {
    "duration": 31,
    "start_time": "2024-03-05T15:19:44.961Z"
   },
   {
    "duration": 46,
    "start_time": "2024-03-05T15:19:44.995Z"
   },
   {
    "duration": 503,
    "start_time": "2024-03-05T15:19:45.043Z"
   },
   {
    "duration": 107,
    "start_time": "2024-03-05T15:19:45.550Z"
   },
   {
    "duration": 138,
    "start_time": "2024-03-05T15:19:45.659Z"
   },
   {
    "duration": 159,
    "start_time": "2024-03-05T15:19:45.798Z"
   },
   {
    "duration": 141,
    "start_time": "2024-03-05T15:19:45.958Z"
   },
   {
    "duration": 12,
    "start_time": "2024-03-05T15:19:46.101Z"
   },
   {
    "duration": 114,
    "start_time": "2024-03-05T15:19:46.114Z"
   },
   {
    "duration": 3,
    "start_time": "2024-03-05T15:19:46.229Z"
   },
   {
    "duration": 9,
    "start_time": "2024-03-05T15:19:46.233Z"
   },
   {
    "duration": 196,
    "start_time": "2024-03-05T15:19:46.244Z"
   },
   {
    "duration": 1867,
    "start_time": "2024-03-05T15:19:46.442Z"
   },
   {
    "duration": 562,
    "start_time": "2024-03-05T15:19:48.311Z"
   },
   {
    "duration": 539,
    "start_time": "2024-03-05T15:19:48.874Z"
   },
   {
    "duration": 60,
    "start_time": "2024-03-05T15:19:49.415Z"
   },
   {
    "duration": 2,
    "start_time": "2024-03-05T15:19:49.477Z"
   },
   {
    "duration": 37,
    "start_time": "2024-03-05T15:19:49.491Z"
   },
   {
    "duration": 39,
    "start_time": "2024-03-05T15:19:49.529Z"
   },
   {
    "duration": 22,
    "start_time": "2024-03-05T15:19:49.569Z"
   },
   {
    "duration": 163,
    "start_time": "2024-03-05T15:19:49.592Z"
   },
   {
    "duration": 17338,
    "start_time": "2024-03-05T15:19:49.756Z"
   },
   {
    "duration": 200,
    "start_time": "2024-03-05T15:20:07.096Z"
   },
   {
    "duration": 97,
    "start_time": "2024-03-05T15:20:07.299Z"
   },
   {
    "duration": 1591,
    "start_time": "2024-03-05T15:28:56.220Z"
   },
   {
    "duration": 2976,
    "start_time": "2024-03-05T15:28:58.936Z"
   },
   {
    "duration": 17,
    "start_time": "2024-03-05T15:29:08.760Z"
   },
   {
    "duration": 160,
    "start_time": "2024-03-05T15:29:10.243Z"
   },
   {
    "duration": 521,
    "start_time": "2024-03-05T15:29:13.862Z"
   },
   {
    "duration": 98,
    "start_time": "2024-03-05T15:29:16.804Z"
   },
   {
    "duration": 14,
    "start_time": "2024-03-05T15:29:24.183Z"
   },
   {
    "duration": 48,
    "start_time": "2024-03-05T15:29:32.766Z"
   },
   {
    "duration": 36,
    "start_time": "2024-03-05T15:29:36.732Z"
   },
   {
    "duration": 72,
    "start_time": "2024-03-05T15:29:38.376Z"
   },
   {
    "duration": 35,
    "start_time": "2024-03-05T15:29:39.974Z"
   },
   {
    "duration": 6,
    "start_time": "2024-03-05T15:29:42.810Z"
   },
   {
    "duration": 29,
    "start_time": "2024-03-05T15:29:45.758Z"
   },
   {
    "duration": 53,
    "start_time": "2024-03-05T15:29:47.548Z"
   },
   {
    "duration": 33,
    "start_time": "2024-03-05T15:29:49.804Z"
   },
   {
    "duration": 281,
    "start_time": "2024-03-05T15:29:51.106Z"
   },
   {
    "duration": 16,
    "start_time": "2024-03-05T15:29:53.472Z"
   },
   {
    "duration": 96,
    "start_time": "2024-03-05T15:29:55.010Z"
   },
   {
    "duration": 261,
    "start_time": "2024-03-05T15:29:56.776Z"
   },
   {
    "duration": 19,
    "start_time": "2024-03-05T15:29:58.558Z"
   },
   {
    "duration": 42,
    "start_time": "2024-03-05T15:30:00.058Z"
   },
   {
    "duration": 32,
    "start_time": "2024-03-05T15:30:07.617Z"
   },
   {
    "duration": 3236,
    "start_time": "2024-03-05T15:30:08.480Z"
   },
   {
    "duration": 412,
    "start_time": "2024-03-05T15:30:14.200Z"
   },
   {
    "duration": 22,
    "start_time": "2024-03-05T15:30:18.212Z"
   },
   {
    "duration": 17,
    "start_time": "2024-03-05T15:30:20.341Z"
   },
   {
    "duration": 89,
    "start_time": "2024-03-05T15:30:21.525Z"
   },
   {
    "duration": 61,
    "start_time": "2024-03-05T15:30:23.698Z"
   },
   {
    "duration": 146,
    "start_time": "2024-03-05T15:30:25.162Z"
   },
   {
    "duration": 184,
    "start_time": "2024-03-05T15:30:27.512Z"
   },
   {
    "duration": 130,
    "start_time": "2024-03-05T15:30:28.650Z"
   },
   {
    "duration": 13,
    "start_time": "2024-03-05T15:30:40.115Z"
   },
   {
    "duration": 98,
    "start_time": "2024-03-05T15:30:40.769Z"
   },
   {
    "duration": 2,
    "start_time": "2024-03-05T15:30:44.352Z"
   },
   {
    "duration": 3,
    "start_time": "2024-03-05T15:30:44.872Z"
   },
   {
    "duration": 176,
    "start_time": "2024-03-05T15:30:45.816Z"
   },
   {
    "duration": 1785,
    "start_time": "2024-03-05T15:30:47.186Z"
   },
   {
    "duration": 551,
    "start_time": "2024-03-05T15:30:48.973Z"
   },
   {
    "duration": 557,
    "start_time": "2024-03-05T15:30:49.592Z"
   },
   {
    "duration": 58,
    "start_time": "2024-03-05T15:30:50.497Z"
   },
   {
    "duration": 3,
    "start_time": "2024-03-05T15:31:01.172Z"
   },
   {
    "duration": 146,
    "start_time": "2024-03-05T15:31:02.212Z"
   },
   {
    "duration": 15384,
    "start_time": "2024-03-05T15:31:11.809Z"
   },
   {
    "duration": 137,
    "start_time": "2024-03-05T15:31:32.457Z"
   },
   {
    "duration": 4,
    "start_time": "2024-03-05T15:31:48.484Z"
   },
   {
    "duration": 1624,
    "start_time": "2024-03-05T15:50:56.265Z"
   },
   {
    "duration": 2936,
    "start_time": "2024-03-05T15:50:57.890Z"
   },
   {
    "duration": 18,
    "start_time": "2024-03-05T15:51:00.828Z"
   },
   {
    "duration": 261,
    "start_time": "2024-03-05T15:51:00.848Z"
   },
   {
    "duration": 557,
    "start_time": "2024-03-05T15:51:01.110Z"
   },
   {
    "duration": 102,
    "start_time": "2024-03-05T15:51:01.669Z"
   },
   {
    "duration": 27,
    "start_time": "2024-03-05T15:51:01.772Z"
   },
   {
    "duration": 69,
    "start_time": "2024-03-05T15:51:01.801Z"
   },
   {
    "duration": 113,
    "start_time": "2024-03-05T15:51:01.871Z"
   },
   {
    "duration": 225,
    "start_time": "2024-03-05T15:51:01.987Z"
   },
   {
    "duration": 196,
    "start_time": "2024-03-05T15:51:02.214Z"
   },
   {
    "duration": 50,
    "start_time": "2024-03-05T15:51:02.412Z"
   },
   {
    "duration": 21,
    "start_time": "2024-03-05T15:51:02.464Z"
   },
   {
    "duration": 40,
    "start_time": "2024-03-05T15:51:02.486Z"
   },
   {
    "duration": 99,
    "start_time": "2024-03-05T15:51:02.528Z"
   },
   {
    "duration": 25,
    "start_time": "2024-03-05T15:51:02.629Z"
   },
   {
    "duration": 305,
    "start_time": "2024-03-05T15:51:02.656Z"
   },
   {
    "duration": 17,
    "start_time": "2024-03-05T15:51:02.963Z"
   },
   {
    "duration": 221,
    "start_time": "2024-03-05T15:51:02.981Z"
   },
   {
    "duration": 1495,
    "start_time": "2024-03-05T15:51:05.840Z"
   },
   {
    "duration": 986,
    "start_time": "2024-03-05T15:51:07.337Z"
   },
   {
    "duration": 18,
    "start_time": "2024-03-05T15:51:08.325Z"
   },
   {
    "duration": 161,
    "start_time": "2024-03-05T15:51:08.344Z"
   },
   {
    "duration": 507,
    "start_time": "2024-03-05T15:51:08.507Z"
   },
   {
    "duration": 101,
    "start_time": "2024-03-05T15:51:09.016Z"
   },
   {
    "duration": 13,
    "start_time": "2024-03-05T15:51:09.119Z"
   },
   {
    "duration": 60,
    "start_time": "2024-03-05T15:51:09.133Z"
   },
   {
    "duration": 29,
    "start_time": "2024-03-05T15:51:09.195Z"
   },
   {
    "duration": 83,
    "start_time": "2024-03-05T15:51:09.226Z"
   },
   {
    "duration": 29,
    "start_time": "2024-03-05T15:51:09.311Z"
   },
   {
    "duration": 22,
    "start_time": "2024-03-05T15:51:09.342Z"
   },
   {
    "duration": 27,
    "start_time": "2024-03-05T15:51:09.365Z"
   },
   {
    "duration": 31,
    "start_time": "2024-03-05T15:51:09.395Z"
   },
   {
    "duration": 64,
    "start_time": "2024-03-05T15:51:09.431Z"
   },
   {
    "duration": 26,
    "start_time": "2024-03-05T15:51:09.496Z"
   },
   {
    "duration": 280,
    "start_time": "2024-03-05T15:51:09.524Z"
   },
   {
    "duration": 15,
    "start_time": "2024-03-05T15:51:09.806Z"
   },
   {
    "duration": 114,
    "start_time": "2024-03-05T15:51:09.823Z"
   },
   {
    "duration": 285,
    "start_time": "2024-03-05T15:51:09.938Z"
   },
   {
    "duration": 20,
    "start_time": "2024-03-05T15:51:10.225Z"
   },
   {
    "duration": 38,
    "start_time": "2024-03-05T15:51:10.247Z"
   },
   {
    "duration": 3052,
    "start_time": "2024-03-05T15:51:10.291Z"
   },
   {
    "duration": 423,
    "start_time": "2024-03-05T15:51:13.345Z"
   },
   {
    "duration": 27,
    "start_time": "2024-03-05T15:51:13.769Z"
   },
   {
    "duration": 14,
    "start_time": "2024-03-05T15:51:13.797Z"
   },
   {
    "duration": 106,
    "start_time": "2024-03-05T15:51:13.813Z"
   },
   {
    "duration": 72,
    "start_time": "2024-03-05T15:51:13.921Z"
   },
   {
    "duration": 180,
    "start_time": "2024-03-05T15:51:13.995Z"
   },
   {
    "duration": 157,
    "start_time": "2024-03-05T15:51:14.176Z"
   },
   {
    "duration": 134,
    "start_time": "2024-03-05T15:51:14.335Z"
   },
   {
    "duration": 11,
    "start_time": "2024-03-05T15:51:14.470Z"
   },
   {
    "duration": 110,
    "start_time": "2024-03-05T15:51:14.483Z"
   },
   {
    "duration": 2,
    "start_time": "2024-03-05T15:51:14.595Z"
   },
   {
    "duration": 33,
    "start_time": "2024-03-05T15:51:14.599Z"
   },
   {
    "duration": 191,
    "start_time": "2024-03-05T15:51:14.634Z"
   },
   {
    "duration": 1785,
    "start_time": "2024-03-05T15:51:14.827Z"
   },
   {
    "duration": 540,
    "start_time": "2024-03-05T15:51:16.614Z"
   },
   {
    "duration": 557,
    "start_time": "2024-03-05T15:51:17.156Z"
   },
   {
    "duration": 59,
    "start_time": "2024-03-05T15:51:17.715Z"
   },
   {
    "duration": 2,
    "start_time": "2024-03-05T15:51:17.778Z"
   },
   {
    "duration": 17,
    "start_time": "2024-03-05T15:51:17.791Z"
   },
   {
    "duration": 25,
    "start_time": "2024-03-05T15:51:17.810Z"
   },
   {
    "duration": 13,
    "start_time": "2024-03-05T15:51:17.837Z"
   },
   {
    "duration": 164,
    "start_time": "2024-03-05T15:51:17.852Z"
   },
   {
    "duration": 15779,
    "start_time": "2024-03-05T15:51:18.017Z"
   },
   {
    "duration": 204,
    "start_time": "2024-03-05T15:51:33.797Z"
   },
   {
    "duration": 6,
    "start_time": "2024-03-05T15:51:34.093Z"
   },
   {
    "duration": 91,
    "start_time": "2024-03-05T15:51:34.101Z"
   },
   {
    "duration": 10,
    "start_time": "2024-03-05T15:51:34.194Z"
   },
   {
    "duration": 3,
    "start_time": "2024-03-05T15:51:34.206Z"
   },
   {
    "duration": 251,
    "start_time": "2024-03-05T15:51:34.211Z"
   },
   {
    "duration": 124,
    "start_time": "2024-03-05T15:51:34.464Z"
   },
   {
    "duration": 12,
    "start_time": "2024-03-05T15:51:34.589Z"
   },
   {
    "duration": 1,
    "start_time": "2024-03-05T15:51:34.602Z"
   },
   {
    "duration": 0,
    "start_time": "2024-03-05T15:51:34.604Z"
   },
   {
    "duration": 0,
    "start_time": "2024-03-05T15:51:34.606Z"
   },
   {
    "duration": 0,
    "start_time": "2024-03-05T15:51:34.607Z"
   },
   {
    "duration": 1,
    "start_time": "2024-03-05T15:51:34.608Z"
   },
   {
    "duration": 0,
    "start_time": "2024-03-05T15:51:34.610Z"
   },
   {
    "duration": 0,
    "start_time": "2024-03-05T15:51:34.611Z"
   },
   {
    "duration": 0,
    "start_time": "2024-03-05T15:51:34.613Z"
   },
   {
    "duration": 0,
    "start_time": "2024-03-05T15:51:34.614Z"
   },
   {
    "duration": 0,
    "start_time": "2024-03-05T15:51:34.616Z"
   },
   {
    "duration": 0,
    "start_time": "2024-03-05T15:51:34.617Z"
   },
   {
    "duration": 1,
    "start_time": "2024-03-05T15:51:34.618Z"
   },
   {
    "duration": 2755,
    "start_time": "2024-03-05T15:53:20.248Z"
   },
   {
    "duration": 54,
    "start_time": "2024-03-05T15:53:40.295Z"
   },
   {
    "duration": 5,
    "start_time": "2024-03-05T15:53:53.234Z"
   },
   {
    "duration": 121286,
    "start_time": "2024-03-05T16:41:04.732Z"
   },
   {
    "duration": 684,
    "start_time": "2024-03-05T16:43:44.138Z"
   },
   {
    "duration": 5,
    "start_time": "2024-03-05T16:43:50.247Z"
   },
   {
    "duration": 122,
    "start_time": "2024-03-05T16:48:09.279Z"
   },
   {
    "duration": 98,
    "start_time": "2024-03-05T16:48:21.111Z"
   },
   {
    "duration": 117,
    "start_time": "2024-03-05T16:48:42.063Z"
   },
   {
    "duration": 130,
    "start_time": "2024-03-05T16:50:53.911Z"
   },
   {
    "duration": 101,
    "start_time": "2024-03-05T16:51:42.130Z"
   },
   {
    "duration": 110,
    "start_time": "2024-03-05T16:52:05.456Z"
   },
   {
    "duration": 129,
    "start_time": "2024-03-05T16:53:27.678Z"
   },
   {
    "duration": 159,
    "start_time": "2024-03-05T16:55:30.906Z"
   },
   {
    "duration": 5,
    "start_time": "2024-03-05T16:56:11.344Z"
   },
   {
    "duration": 118,
    "start_time": "2024-03-05T16:56:42.827Z"
   },
   {
    "duration": 14,
    "start_time": "2024-03-05T16:59:13.246Z"
   },
   {
    "duration": 3,
    "start_time": "2024-03-05T17:00:44.279Z"
   },
   {
    "duration": 3,
    "start_time": "2024-03-05T17:00:45.000Z"
   },
   {
    "duration": 123,
    "start_time": "2024-03-05T17:00:52.371Z"
   },
   {
    "duration": 139,
    "start_time": "2024-03-05T17:03:50.274Z"
   },
   {
    "duration": 1605,
    "start_time": "2024-03-05T17:07:18.888Z"
   },
   {
    "duration": 83,
    "start_time": "2024-03-05T17:07:52.419Z"
   },
   {
    "duration": 38383,
    "start_time": "2024-03-05T17:08:06.418Z"
   },
   {
    "duration": 119,
    "start_time": "2024-03-05T17:08:44.911Z"
   },
   {
    "duration": 1623,
    "start_time": "2024-03-05T17:10:45.459Z"
   },
   {
    "duration": 1041,
    "start_time": "2024-03-05T17:10:47.084Z"
   },
   {
    "duration": 19,
    "start_time": "2024-03-05T17:10:48.126Z"
   },
   {
    "duration": 183,
    "start_time": "2024-03-05T17:10:48.148Z"
   },
   {
    "duration": 565,
    "start_time": "2024-03-05T17:10:48.333Z"
   },
   {
    "duration": 139,
    "start_time": "2024-03-05T17:10:48.900Z"
   },
   {
    "duration": 15,
    "start_time": "2024-03-05T17:10:49.040Z"
   },
   {
    "duration": 67,
    "start_time": "2024-03-05T17:10:49.057Z"
   },
   {
    "duration": 30,
    "start_time": "2024-03-05T17:10:49.125Z"
   },
   {
    "duration": 92,
    "start_time": "2024-03-05T17:10:49.157Z"
   },
   {
    "duration": 42,
    "start_time": "2024-03-05T17:10:49.250Z"
   },
   {
    "duration": 33,
    "start_time": "2024-03-05T17:10:49.295Z"
   },
   {
    "duration": 45,
    "start_time": "2024-03-05T17:10:49.329Z"
   },
   {
    "duration": 73,
    "start_time": "2024-03-05T17:10:49.376Z"
   },
   {
    "duration": 69,
    "start_time": "2024-03-05T17:10:49.451Z"
   },
   {
    "duration": 26,
    "start_time": "2024-03-05T17:10:49.522Z"
   },
   {
    "duration": 301,
    "start_time": "2024-03-05T17:10:49.551Z"
   },
   {
    "duration": 17,
    "start_time": "2024-03-05T17:10:49.854Z"
   },
   {
    "duration": 126,
    "start_time": "2024-03-05T17:10:49.874Z"
   },
   {
    "duration": 307,
    "start_time": "2024-03-05T17:10:50.002Z"
   },
   {
    "duration": 20,
    "start_time": "2024-03-05T17:10:50.311Z"
   },
   {
    "duration": 61,
    "start_time": "2024-03-05T17:10:50.333Z"
   },
   {
    "duration": 3244,
    "start_time": "2024-03-05T17:10:50.397Z"
   },
   {
    "duration": 471,
    "start_time": "2024-03-05T17:10:53.643Z"
   },
   {
    "duration": 22,
    "start_time": "2024-03-05T17:10:54.115Z"
   },
   {
    "duration": 14,
    "start_time": "2024-03-05T17:10:54.139Z"
   },
   {
    "duration": 118,
    "start_time": "2024-03-05T17:10:54.154Z"
   },
   {
    "duration": 70,
    "start_time": "2024-03-05T17:10:54.295Z"
   },
   {
    "duration": 242,
    "start_time": "2024-03-05T17:10:54.367Z"
   },
   {
    "duration": 166,
    "start_time": "2024-03-05T17:10:54.610Z"
   },
   {
    "duration": 133,
    "start_time": "2024-03-05T17:10:54.778Z"
   },
   {
    "duration": 12,
    "start_time": "2024-03-05T17:10:54.913Z"
   },
   {
    "duration": 111,
    "start_time": "2024-03-05T17:10:54.927Z"
   },
   {
    "duration": 2,
    "start_time": "2024-03-05T17:10:55.041Z"
   },
   {
    "duration": 19,
    "start_time": "2024-03-05T17:10:55.045Z"
   },
   {
    "duration": 206,
    "start_time": "2024-03-05T17:10:55.066Z"
   },
   {
    "duration": 1810,
    "start_time": "2024-03-05T17:10:55.274Z"
   },
   {
    "duration": 644,
    "start_time": "2024-03-05T17:10:57.087Z"
   },
   {
    "duration": 574,
    "start_time": "2024-03-05T17:10:57.734Z"
   },
   {
    "duration": 63,
    "start_time": "2024-03-05T17:10:58.310Z"
   },
   {
    "duration": 3,
    "start_time": "2024-03-05T17:10:58.376Z"
   },
   {
    "duration": 3,
    "start_time": "2024-03-05T17:10:58.391Z"
   },
   {
    "duration": 14,
    "start_time": "2024-03-05T17:10:58.396Z"
   },
   {
    "duration": 11,
    "start_time": "2024-03-05T17:10:58.412Z"
   },
   {
    "duration": 159,
    "start_time": "2024-03-05T17:10:58.425Z"
   },
   {
    "duration": 20318,
    "start_time": "2024-03-05T17:10:58.586Z"
   },
   {
    "duration": 291,
    "start_time": "2024-03-05T17:11:18.906Z"
   },
   {
    "duration": 9,
    "start_time": "2024-03-05T17:11:19.200Z"
   },
   {
    "duration": 86,
    "start_time": "2024-03-05T17:11:19.211Z"
   },
   {
    "duration": 27,
    "start_time": "2024-03-05T17:11:19.300Z"
   },
   {
    "duration": 25,
    "start_time": "2024-03-05T17:11:19.330Z"
   },
   {
    "duration": 2913,
    "start_time": "2024-03-05T17:11:19.358Z"
   },
   {
    "duration": 62,
    "start_time": "2024-03-05T17:11:22.273Z"
   },
   {
    "duration": 5,
    "start_time": "2024-03-05T17:11:22.337Z"
   },
   {
    "duration": 25,
    "start_time": "2024-03-05T17:11:22.344Z"
   },
   {
    "duration": 25,
    "start_time": "2024-03-05T17:11:22.371Z"
   },
   {
    "duration": 40,
    "start_time": "2024-03-05T17:11:22.397Z"
   },
   {
    "duration": 36,
    "start_time": "2024-03-05T17:11:22.438Z"
   },
   {
    "duration": 123672,
    "start_time": "2024-03-05T17:11:22.476Z"
   },
   {
    "duration": 659,
    "start_time": "2024-03-05T17:13:26.150Z"
   },
   {
    "duration": 5,
    "start_time": "2024-03-05T17:13:26.811Z"
   },
   {
    "duration": 364,
    "start_time": "2024-03-05T17:13:26.817Z"
   },
   {
    "duration": 104,
    "start_time": "2024-03-05T17:13:27.182Z"
   },
   {
    "duration": 10,
    "start_time": "2024-03-05T17:13:27.288Z"
   },
   {
    "duration": 0,
    "start_time": "2024-03-05T17:13:27.300Z"
   },
   {
    "duration": 0,
    "start_time": "2024-03-05T17:13:27.301Z"
   },
   {
    "duration": 28,
    "start_time": "2024-03-05T17:15:01.208Z"
   },
   {
    "duration": 123,
    "start_time": "2024-03-05T17:15:37.950Z"
   },
   {
    "duration": 155,
    "start_time": "2024-03-05T17:18:32.642Z"
   },
   {
    "duration": 171,
    "start_time": "2024-03-05T17:29:39.590Z"
   },
   {
    "duration": 12,
    "start_time": "2024-03-05T17:38:43.142Z"
   },
   {
    "duration": 1571,
    "start_time": "2024-03-05T17:38:56.031Z"
   },
   {
    "duration": 71,
    "start_time": "2024-03-05T17:39:12.647Z"
   },
   {
    "duration": 28,
    "start_time": "2024-03-05T17:39:25.682Z"
   },
   {
    "duration": 1854,
    "start_time": "2024-03-05T17:39:53.762Z"
   },
   {
    "duration": 11,
    "start_time": "2024-03-05T17:41:04.695Z"
   },
   {
    "duration": 22,
    "start_time": "2024-03-05T17:41:06.214Z"
   },
   {
    "duration": 9,
    "start_time": "2024-03-05T17:42:49.537Z"
   },
   {
    "duration": 20,
    "start_time": "2024-03-05T17:42:59.317Z"
   },
   {
    "duration": 9,
    "start_time": "2024-03-05T17:43:32.854Z"
   },
   {
    "duration": 24,
    "start_time": "2024-03-05T17:43:41.858Z"
   },
   {
    "duration": 17,
    "start_time": "2024-03-05T17:43:48.456Z"
   },
   {
    "duration": 7,
    "start_time": "2024-03-05T17:46:37.355Z"
   },
   {
    "duration": 25,
    "start_time": "2024-03-05T17:46:52.679Z"
   },
   {
    "duration": 1586,
    "start_time": "2024-03-05T17:47:06.579Z"
   },
   {
    "duration": 935,
    "start_time": "2024-03-05T17:47:08.167Z"
   },
   {
    "duration": 25,
    "start_time": "2024-03-05T17:47:09.104Z"
   },
   {
    "duration": 181,
    "start_time": "2024-03-05T17:47:09.131Z"
   },
   {
    "duration": 549,
    "start_time": "2024-03-05T17:47:09.314Z"
   },
   {
    "duration": 106,
    "start_time": "2024-03-05T17:47:09.865Z"
   },
   {
    "duration": 23,
    "start_time": "2024-03-05T17:47:09.973Z"
   },
   {
    "duration": 49,
    "start_time": "2024-03-05T17:47:09.997Z"
   },
   {
    "duration": 46,
    "start_time": "2024-03-05T17:47:10.048Z"
   },
   {
    "duration": 70,
    "start_time": "2024-03-05T17:47:10.098Z"
   },
   {
    "duration": 43,
    "start_time": "2024-03-05T17:47:10.169Z"
   },
   {
    "duration": 23,
    "start_time": "2024-03-05T17:47:10.214Z"
   },
   {
    "duration": 7,
    "start_time": "2024-03-05T17:47:10.239Z"
   },
   {
    "duration": 53,
    "start_time": "2024-03-05T17:47:10.248Z"
   },
   {
    "duration": 55,
    "start_time": "2024-03-05T17:47:10.303Z"
   },
   {
    "duration": 39,
    "start_time": "2024-03-05T17:47:10.359Z"
   },
   {
    "duration": 307,
    "start_time": "2024-03-05T17:47:10.399Z"
   },
   {
    "duration": 15,
    "start_time": "2024-03-05T17:47:10.708Z"
   },
   {
    "duration": 105,
    "start_time": "2024-03-05T17:47:10.725Z"
   },
   {
    "duration": 276,
    "start_time": "2024-03-05T17:47:10.832Z"
   },
   {
    "duration": 19,
    "start_time": "2024-03-05T17:47:11.110Z"
   },
   {
    "duration": 37,
    "start_time": "2024-03-05T17:47:11.130Z"
   },
   {
    "duration": 3063,
    "start_time": "2024-03-05T17:47:11.169Z"
   },
   {
    "duration": 397,
    "start_time": "2024-03-05T17:47:14.234Z"
   },
   {
    "duration": 23,
    "start_time": "2024-03-05T17:47:14.633Z"
   },
   {
    "duration": 16,
    "start_time": "2024-03-05T17:47:14.657Z"
   },
   {
    "duration": 117,
    "start_time": "2024-03-05T17:47:14.675Z"
   },
   {
    "duration": 50,
    "start_time": "2024-03-05T17:47:14.796Z"
   },
   {
    "duration": 159,
    "start_time": "2024-03-05T17:47:14.848Z"
   },
   {
    "duration": 160,
    "start_time": "2024-03-05T17:47:15.009Z"
   },
   {
    "duration": 136,
    "start_time": "2024-03-05T17:47:15.171Z"
   },
   {
    "duration": 17,
    "start_time": "2024-03-05T17:47:15.308Z"
   },
   {
    "duration": 132,
    "start_time": "2024-03-05T17:47:15.327Z"
   },
   {
    "duration": 3,
    "start_time": "2024-03-05T17:47:15.460Z"
   },
   {
    "duration": 26,
    "start_time": "2024-03-05T17:47:15.464Z"
   },
   {
    "duration": 198,
    "start_time": "2024-03-05T17:47:15.492Z"
   },
   {
    "duration": 1879,
    "start_time": "2024-03-05T17:47:15.692Z"
   },
   {
    "duration": 580,
    "start_time": "2024-03-05T17:47:17.573Z"
   },
   {
    "duration": 559,
    "start_time": "2024-03-05T17:47:18.155Z"
   },
   {
    "duration": 58,
    "start_time": "2024-03-05T17:47:18.716Z"
   },
   {
    "duration": 3,
    "start_time": "2024-03-05T17:47:18.776Z"
   },
   {
    "duration": 13,
    "start_time": "2024-03-05T17:47:18.780Z"
   },
   {
    "duration": 3,
    "start_time": "2024-03-05T17:47:18.795Z"
   },
   {
    "duration": 4,
    "start_time": "2024-03-05T17:47:18.800Z"
   },
   {
    "duration": 159,
    "start_time": "2024-03-05T17:47:18.806Z"
   },
   {
    "duration": 15529,
    "start_time": "2024-03-05T17:47:18.967Z"
   },
   {
    "duration": 197,
    "start_time": "2024-03-05T17:47:34.498Z"
   },
   {
    "duration": 96,
    "start_time": "2024-03-05T17:47:34.697Z"
   },
   {
    "duration": 112,
    "start_time": "2024-03-05T17:47:34.798Z"
   },
   {
    "duration": 11,
    "start_time": "2024-03-05T17:47:34.912Z"
   },
   {
    "duration": 5,
    "start_time": "2024-03-05T17:47:34.925Z"
   },
   {
    "duration": 2813,
    "start_time": "2024-03-05T17:47:34.932Z"
   },
   {
    "duration": 58,
    "start_time": "2024-03-05T17:47:37.747Z"
   },
   {
    "duration": 5,
    "start_time": "2024-03-05T17:47:37.806Z"
   },
   {
    "duration": 17,
    "start_time": "2024-03-05T17:47:37.813Z"
   },
   {
    "duration": 4,
    "start_time": "2024-03-05T17:47:37.832Z"
   },
   {
    "duration": 4,
    "start_time": "2024-03-05T17:47:37.838Z"
   },
   {
    "duration": 4,
    "start_time": "2024-03-05T17:47:37.844Z"
   },
   {
    "duration": 120035,
    "start_time": "2024-03-05T17:47:37.850Z"
   },
   {
    "duration": 639,
    "start_time": "2024-03-05T17:49:37.887Z"
   },
   {
    "duration": 5,
    "start_time": "2024-03-05T17:49:38.527Z"
   },
   {
    "duration": 97,
    "start_time": "2024-03-05T17:49:38.533Z"
   },
   {
    "duration": 25,
    "start_time": "2024-03-05T17:49:38.632Z"
   },
   {
    "duration": 133,
    "start_time": "2024-03-05T17:49:38.658Z"
   },
   {
    "duration": 0,
    "start_time": "2024-03-05T17:49:38.793Z"
   },
   {
    "duration": 1,
    "start_time": "2024-03-05T17:49:38.794Z"
   },
   {
    "duration": 0,
    "start_time": "2024-03-05T17:49:38.796Z"
   },
   {
    "duration": 0,
    "start_time": "2024-03-05T17:49:38.798Z"
   },
   {
    "duration": 0,
    "start_time": "2024-03-05T17:49:38.799Z"
   },
   {
    "duration": 116580,
    "start_time": "2024-03-05T17:53:05.824Z"
   },
   {
    "duration": 37,
    "start_time": "2024-03-05T17:55:56.205Z"
   },
   {
    "duration": 775,
    "start_time": "2024-03-05T17:56:02.735Z"
   },
   {
    "duration": 5,
    "start_time": "2024-03-05T17:56:07.343Z"
   },
   {
    "duration": 35,
    "start_time": "2024-03-05T17:57:08.533Z"
   },
   {
    "duration": 798,
    "start_time": "2024-03-05T17:57:18.105Z"
   },
   {
    "duration": 6,
    "start_time": "2024-03-05T17:57:47.723Z"
   },
   {
    "duration": 3,
    "start_time": "2024-03-05T18:03:18.527Z"
   },
   {
    "duration": 10,
    "start_time": "2024-03-05T18:03:26.020Z"
   },
   {
    "duration": 5,
    "start_time": "2024-03-05T18:05:18.656Z"
   },
   {
    "duration": 5,
    "start_time": "2024-03-05T18:06:00.856Z"
   },
   {
    "duration": 5,
    "start_time": "2024-03-05T18:09:08.942Z"
   },
   {
    "duration": 14,
    "start_time": "2024-03-05T18:09:59.888Z"
   },
   {
    "duration": 6,
    "start_time": "2024-03-05T18:10:05.936Z"
   },
   {
    "duration": 5,
    "start_time": "2024-03-05T18:11:06.679Z"
   },
   {
    "duration": 108,
    "start_time": "2024-03-05T18:12:18.121Z"
   },
   {
    "duration": 6,
    "start_time": "2024-03-05T18:12:46.959Z"
   },
   {
    "duration": 274,
    "start_time": "2024-03-05T18:13:25.924Z"
   },
   {
    "duration": 5,
    "start_time": "2024-03-05T18:13:30.639Z"
   },
   {
    "duration": 849,
    "start_time": "2024-03-05T18:13:47.770Z"
   },
   {
    "duration": 5,
    "start_time": "2024-03-05T18:13:51.260Z"
   },
   {
    "duration": 4,
    "start_time": "2024-03-05T18:14:13.567Z"
   },
   {
    "duration": 3,
    "start_time": "2024-03-05T18:16:33.869Z"
   },
   {
    "duration": 10,
    "start_time": "2024-03-05T18:16:39.283Z"
   },
   {
    "duration": 3,
    "start_time": "2024-03-05T18:17:29.276Z"
   },
   {
    "duration": 17,
    "start_time": "2024-03-05T18:17:31.636Z"
   },
   {
    "duration": 119,
    "start_time": "2024-03-05T18:17:44.273Z"
   },
   {
    "duration": 9,
    "start_time": "2024-03-05T18:17:56.982Z"
   },
   {
    "duration": 101,
    "start_time": "2024-03-05T18:23:09.095Z"
   },
   {
    "duration": 48,
    "start_time": "2024-03-06T15:17:33.157Z"
   },
   {
    "duration": 11,
    "start_time": "2024-03-06T15:27:35.971Z"
   },
   {
    "duration": 1721,
    "start_time": "2024-03-06T15:27:44.898Z"
   },
   {
    "duration": 3000,
    "start_time": "2024-03-06T15:27:46.622Z"
   },
   {
    "duration": 16,
    "start_time": "2024-03-06T15:27:49.624Z"
   },
   {
    "duration": 207,
    "start_time": "2024-03-06T15:27:49.642Z"
   },
   {
    "duration": 542,
    "start_time": "2024-03-06T15:27:49.852Z"
   },
   {
    "duration": 108,
    "start_time": "2024-03-06T15:27:50.396Z"
   },
   {
    "duration": 14,
    "start_time": "2024-03-06T15:27:50.506Z"
   },
   {
    "duration": 54,
    "start_time": "2024-03-06T15:27:50.521Z"
   },
   {
    "duration": 37,
    "start_time": "2024-03-06T15:27:50.577Z"
   },
   {
    "duration": 89,
    "start_time": "2024-03-06T15:27:50.615Z"
   },
   {
    "duration": 28,
    "start_time": "2024-03-06T15:27:50.706Z"
   },
   {
    "duration": 21,
    "start_time": "2024-03-06T15:27:50.735Z"
   },
   {
    "duration": 6,
    "start_time": "2024-03-06T15:27:50.758Z"
   },
   {
    "duration": 29,
    "start_time": "2024-03-06T15:27:50.788Z"
   },
   {
    "duration": 70,
    "start_time": "2024-03-06T15:27:50.819Z"
   },
   {
    "duration": 33,
    "start_time": "2024-03-06T15:27:50.891Z"
   },
   {
    "duration": 289,
    "start_time": "2024-03-06T15:27:50.926Z"
   },
   {
    "duration": 16,
    "start_time": "2024-03-06T15:27:51.216Z"
   },
   {
    "duration": 108,
    "start_time": "2024-03-06T15:27:51.234Z"
   },
   {
    "duration": 268,
    "start_time": "2024-03-06T15:27:51.344Z"
   },
   {
    "duration": 19,
    "start_time": "2024-03-06T15:27:51.614Z"
   },
   {
    "duration": 33,
    "start_time": "2024-03-06T15:27:51.635Z"
   },
   {
    "duration": 3053,
    "start_time": "2024-03-06T15:27:51.669Z"
   },
   {
    "duration": 409,
    "start_time": "2024-03-06T15:27:54.724Z"
   },
   {
    "duration": 22,
    "start_time": "2024-03-06T15:27:55.135Z"
   },
   {
    "duration": 29,
    "start_time": "2024-03-06T15:27:55.158Z"
   },
   {
    "duration": 105,
    "start_time": "2024-03-06T15:27:55.189Z"
   },
   {
    "duration": 67,
    "start_time": "2024-03-06T15:27:55.295Z"
   },
   {
    "duration": 171,
    "start_time": "2024-03-06T15:27:55.364Z"
   },
   {
    "duration": 159,
    "start_time": "2024-03-06T15:27:55.536Z"
   },
   {
    "duration": 134,
    "start_time": "2024-03-06T15:27:55.697Z"
   },
   {
    "duration": 12,
    "start_time": "2024-03-06T15:27:55.832Z"
   },
   {
    "duration": 112,
    "start_time": "2024-03-06T15:27:55.846Z"
   },
   {
    "duration": 3,
    "start_time": "2024-03-06T15:27:55.959Z"
   },
   {
    "duration": 23,
    "start_time": "2024-03-06T15:27:55.963Z"
   },
   {
    "duration": 299,
    "start_time": "2024-03-06T15:27:55.987Z"
   },
   {
    "duration": 1772,
    "start_time": "2024-03-06T15:27:56.287Z"
   },
   {
    "duration": 542,
    "start_time": "2024-03-06T15:27:58.061Z"
   },
   {
    "duration": 158,
    "start_time": "2024-03-06T15:27:58.604Z"
   },
   {
    "duration": 0,
    "start_time": "2024-03-06T15:27:58.766Z"
   },
   {
    "duration": 0,
    "start_time": "2024-03-06T15:27:58.767Z"
   },
   {
    "duration": 0,
    "start_time": "2024-03-06T15:27:58.768Z"
   },
   {
    "duration": 0,
    "start_time": "2024-03-06T15:27:58.769Z"
   },
   {
    "duration": 0,
    "start_time": "2024-03-06T15:27:58.770Z"
   },
   {
    "duration": 0,
    "start_time": "2024-03-06T15:27:58.771Z"
   },
   {
    "duration": 0,
    "start_time": "2024-03-06T15:27:58.772Z"
   },
   {
    "duration": 0,
    "start_time": "2024-03-06T15:27:58.789Z"
   },
   {
    "duration": 0,
    "start_time": "2024-03-06T15:27:58.790Z"
   },
   {
    "duration": 0,
    "start_time": "2024-03-06T15:27:58.791Z"
   },
   {
    "duration": 0,
    "start_time": "2024-03-06T15:27:58.793Z"
   },
   {
    "duration": 0,
    "start_time": "2024-03-06T15:27:58.794Z"
   },
   {
    "duration": 0,
    "start_time": "2024-03-06T15:27:58.795Z"
   },
   {
    "duration": 0,
    "start_time": "2024-03-06T15:27:58.797Z"
   },
   {
    "duration": 0,
    "start_time": "2024-03-06T15:27:58.798Z"
   },
   {
    "duration": 0,
    "start_time": "2024-03-06T15:27:58.800Z"
   },
   {
    "duration": 0,
    "start_time": "2024-03-06T15:27:58.801Z"
   },
   {
    "duration": 0,
    "start_time": "2024-03-06T15:27:58.802Z"
   },
   {
    "duration": 0,
    "start_time": "2024-03-06T15:27:58.804Z"
   },
   {
    "duration": 0,
    "start_time": "2024-03-06T15:27:58.805Z"
   },
   {
    "duration": 0,
    "start_time": "2024-03-06T15:27:58.806Z"
   },
   {
    "duration": 0,
    "start_time": "2024-03-06T15:27:58.808Z"
   },
   {
    "duration": 0,
    "start_time": "2024-03-06T15:27:58.809Z"
   },
   {
    "duration": 0,
    "start_time": "2024-03-06T15:27:58.810Z"
   },
   {
    "duration": 0,
    "start_time": "2024-03-06T15:27:58.811Z"
   },
   {
    "duration": 0,
    "start_time": "2024-03-06T15:27:58.812Z"
   },
   {
    "duration": 0,
    "start_time": "2024-03-06T15:27:58.814Z"
   },
   {
    "duration": 0,
    "start_time": "2024-03-06T15:27:58.815Z"
   },
   {
    "duration": 0,
    "start_time": "2024-03-06T15:27:58.816Z"
   },
   {
    "duration": 0,
    "start_time": "2024-03-06T15:27:58.817Z"
   },
   {
    "duration": 0,
    "start_time": "2024-03-06T15:27:58.818Z"
   },
   {
    "duration": 0,
    "start_time": "2024-03-06T15:27:58.819Z"
   },
   {
    "duration": 0,
    "start_time": "2024-03-06T15:27:58.820Z"
   },
   {
    "duration": 230,
    "start_time": "2024-03-06T15:28:06.476Z"
   },
   {
    "duration": 244,
    "start_time": "2024-03-06T15:28:15.215Z"
   },
   {
    "duration": 19,
    "start_time": "2024-03-06T15:32:42.923Z"
   },
   {
    "duration": 1524,
    "start_time": "2024-03-06T15:32:49.551Z"
   },
   {
    "duration": 932,
    "start_time": "2024-03-06T15:32:51.077Z"
   },
   {
    "duration": 21,
    "start_time": "2024-03-06T15:32:52.012Z"
   },
   {
    "duration": 162,
    "start_time": "2024-03-06T15:32:52.034Z"
   },
   {
    "duration": 530,
    "start_time": "2024-03-06T15:32:52.198Z"
   },
   {
    "duration": 109,
    "start_time": "2024-03-06T15:32:52.730Z"
   },
   {
    "duration": 14,
    "start_time": "2024-03-06T15:32:52.841Z"
   },
   {
    "duration": 62,
    "start_time": "2024-03-06T15:32:52.856Z"
   },
   {
    "duration": 28,
    "start_time": "2024-03-06T15:32:52.920Z"
   },
   {
    "duration": 90,
    "start_time": "2024-03-06T15:32:52.950Z"
   },
   {
    "duration": 29,
    "start_time": "2024-03-06T15:32:53.041Z"
   },
   {
    "duration": 29,
    "start_time": "2024-03-06T15:32:53.071Z"
   },
   {
    "duration": 22,
    "start_time": "2024-03-06T15:32:53.102Z"
   },
   {
    "duration": 29,
    "start_time": "2024-03-06T15:32:53.127Z"
   },
   {
    "duration": 63,
    "start_time": "2024-03-06T15:32:53.158Z"
   },
   {
    "duration": 26,
    "start_time": "2024-03-06T15:32:53.223Z"
   },
   {
    "duration": 298,
    "start_time": "2024-03-06T15:32:53.250Z"
   },
   {
    "duration": 15,
    "start_time": "2024-03-06T15:32:53.550Z"
   },
   {
    "duration": 100,
    "start_time": "2024-03-06T15:32:53.567Z"
   },
   {
    "duration": 270,
    "start_time": "2024-03-06T15:32:53.668Z"
   },
   {
    "duration": 18,
    "start_time": "2024-03-06T15:32:53.940Z"
   },
   {
    "duration": 34,
    "start_time": "2024-03-06T15:32:53.959Z"
   },
   {
    "duration": 2958,
    "start_time": "2024-03-06T15:32:53.995Z"
   },
   {
    "duration": 360,
    "start_time": "2024-03-06T15:32:56.955Z"
   },
   {
    "duration": 22,
    "start_time": "2024-03-06T15:32:57.317Z"
   },
   {
    "duration": 15,
    "start_time": "2024-03-06T15:32:57.340Z"
   },
   {
    "duration": 102,
    "start_time": "2024-03-06T15:32:57.357Z"
   },
   {
    "duration": 53,
    "start_time": "2024-03-06T15:32:57.461Z"
   },
   {
    "duration": 146,
    "start_time": "2024-03-06T15:32:57.516Z"
   },
   {
    "duration": 156,
    "start_time": "2024-03-06T15:32:57.664Z"
   },
   {
    "duration": 123,
    "start_time": "2024-03-06T15:32:57.822Z"
   },
   {
    "duration": 11,
    "start_time": "2024-03-06T15:32:57.947Z"
   },
   {
    "duration": 108,
    "start_time": "2024-03-06T15:32:57.960Z"
   },
   {
    "duration": 3,
    "start_time": "2024-03-06T15:32:58.069Z"
   },
   {
    "duration": 14,
    "start_time": "2024-03-06T15:32:58.073Z"
   },
   {
    "duration": 120,
    "start_time": "2024-03-06T15:32:58.089Z"
   },
   {
    "duration": 0,
    "start_time": "2024-03-06T15:32:58.212Z"
   },
   {
    "duration": 0,
    "start_time": "2024-03-06T15:32:58.213Z"
   },
   {
    "duration": 0,
    "start_time": "2024-03-06T15:32:58.214Z"
   },
   {
    "duration": 0,
    "start_time": "2024-03-06T15:32:58.215Z"
   },
   {
    "duration": 0,
    "start_time": "2024-03-06T15:32:58.216Z"
   },
   {
    "duration": 0,
    "start_time": "2024-03-06T15:32:58.216Z"
   },
   {
    "duration": 0,
    "start_time": "2024-03-06T15:32:58.217Z"
   },
   {
    "duration": 0,
    "start_time": "2024-03-06T15:32:58.218Z"
   },
   {
    "duration": 0,
    "start_time": "2024-03-06T15:32:58.219Z"
   },
   {
    "duration": 0,
    "start_time": "2024-03-06T15:32:58.220Z"
   },
   {
    "duration": 0,
    "start_time": "2024-03-06T15:32:58.221Z"
   },
   {
    "duration": 0,
    "start_time": "2024-03-06T15:32:58.222Z"
   },
   {
    "duration": 0,
    "start_time": "2024-03-06T15:32:58.223Z"
   },
   {
    "duration": 0,
    "start_time": "2024-03-06T15:32:58.224Z"
   },
   {
    "duration": 0,
    "start_time": "2024-03-06T15:32:58.225Z"
   },
   {
    "duration": 0,
    "start_time": "2024-03-06T15:32:58.225Z"
   },
   {
    "duration": 0,
    "start_time": "2024-03-06T15:32:58.226Z"
   },
   {
    "duration": 0,
    "start_time": "2024-03-06T15:32:58.227Z"
   },
   {
    "duration": 0,
    "start_time": "2024-03-06T15:32:58.228Z"
   },
   {
    "duration": 0,
    "start_time": "2024-03-06T15:32:58.229Z"
   },
   {
    "duration": 0,
    "start_time": "2024-03-06T15:32:58.230Z"
   },
   {
    "duration": 0,
    "start_time": "2024-03-06T15:32:58.231Z"
   },
   {
    "duration": 0,
    "start_time": "2024-03-06T15:32:58.232Z"
   },
   {
    "duration": 0,
    "start_time": "2024-03-06T15:32:58.232Z"
   },
   {
    "duration": 0,
    "start_time": "2024-03-06T15:32:58.233Z"
   },
   {
    "duration": 0,
    "start_time": "2024-03-06T15:32:58.234Z"
   },
   {
    "duration": 1,
    "start_time": "2024-03-06T15:32:58.235Z"
   },
   {
    "duration": 0,
    "start_time": "2024-03-06T15:32:58.236Z"
   },
   {
    "duration": 0,
    "start_time": "2024-03-06T15:32:58.238Z"
   },
   {
    "duration": 0,
    "start_time": "2024-03-06T15:32:58.287Z"
   },
   {
    "duration": 0,
    "start_time": "2024-03-06T15:32:58.288Z"
   },
   {
    "duration": 0,
    "start_time": "2024-03-06T15:32:58.289Z"
   },
   {
    "duration": 0,
    "start_time": "2024-03-06T15:32:58.290Z"
   },
   {
    "duration": 0,
    "start_time": "2024-03-06T15:32:58.292Z"
   },
   {
    "duration": 0,
    "start_time": "2024-03-06T15:32:58.292Z"
   },
   {
    "duration": 0,
    "start_time": "2024-03-06T15:32:58.293Z"
   },
   {
    "duration": 1688,
    "start_time": "2024-03-06T15:33:38.544Z"
   },
   {
    "duration": 1685,
    "start_time": "2024-03-06T15:33:50.568Z"
   },
   {
    "duration": 507,
    "start_time": "2024-03-06T15:34:49.129Z"
   },
   {
    "duration": 38,
    "start_time": "2024-03-06T15:34:51.316Z"
   },
   {
    "duration": 1629,
    "start_time": "2024-03-06T15:35:25.914Z"
   },
   {
    "duration": 457,
    "start_time": "2024-03-06T15:35:50.163Z"
   },
   {
    "duration": 37,
    "start_time": "2024-03-06T15:36:04.119Z"
   },
   {
    "duration": 1661,
    "start_time": "2024-03-06T15:39:01.043Z"
   },
   {
    "duration": 467,
    "start_time": "2024-03-06T15:39:11.684Z"
   },
   {
    "duration": 488,
    "start_time": "2024-03-06T15:39:25.987Z"
   },
   {
    "duration": 37,
    "start_time": "2024-03-06T15:39:29.565Z"
   },
   {
    "duration": 17,
    "start_time": "2024-03-06T15:50:46.845Z"
   },
   {
    "duration": 25,
    "start_time": "2024-03-06T16:07:37.115Z"
   },
   {
    "duration": 1264,
    "start_time": "2024-03-06T16:07:57.014Z"
   },
   {
    "duration": 1384,
    "start_time": "2024-03-06T16:08:46.344Z"
   },
   {
    "duration": 1854,
    "start_time": "2024-03-06T16:09:03.744Z"
   },
   {
    "duration": 444,
    "start_time": "2024-03-06T16:09:17.516Z"
   },
   {
    "duration": 1635,
    "start_time": "2024-03-06T16:09:52.803Z"
   },
   {
    "duration": 996,
    "start_time": "2024-03-06T16:09:54.441Z"
   },
   {
    "duration": 18,
    "start_time": "2024-03-06T16:09:55.438Z"
   },
   {
    "duration": 184,
    "start_time": "2024-03-06T16:09:55.457Z"
   },
   {
    "duration": 550,
    "start_time": "2024-03-06T16:09:55.643Z"
   },
   {
    "duration": 104,
    "start_time": "2024-03-06T16:09:56.195Z"
   },
   {
    "duration": 14,
    "start_time": "2024-03-06T16:09:56.301Z"
   },
   {
    "duration": 74,
    "start_time": "2024-03-06T16:09:56.317Z"
   },
   {
    "duration": 32,
    "start_time": "2024-03-06T16:09:56.392Z"
   },
   {
    "duration": 92,
    "start_time": "2024-03-06T16:09:56.425Z"
   },
   {
    "duration": 29,
    "start_time": "2024-03-06T16:09:56.519Z"
   },
   {
    "duration": 39,
    "start_time": "2024-03-06T16:09:56.549Z"
   },
   {
    "duration": 7,
    "start_time": "2024-03-06T16:09:56.589Z"
   },
   {
    "duration": 29,
    "start_time": "2024-03-06T16:09:56.599Z"
   },
   {
    "duration": 71,
    "start_time": "2024-03-06T16:09:56.630Z"
   },
   {
    "duration": 30,
    "start_time": "2024-03-06T16:09:56.702Z"
   },
   {
    "duration": 291,
    "start_time": "2024-03-06T16:09:56.733Z"
   },
   {
    "duration": 16,
    "start_time": "2024-03-06T16:09:57.025Z"
   },
   {
    "duration": 121,
    "start_time": "2024-03-06T16:09:57.042Z"
   },
   {
    "duration": 275,
    "start_time": "2024-03-06T16:09:57.165Z"
   },
   {
    "duration": 19,
    "start_time": "2024-03-06T16:09:57.442Z"
   },
   {
    "duration": 46,
    "start_time": "2024-03-06T16:09:57.463Z"
   },
   {
    "duration": 3263,
    "start_time": "2024-03-06T16:09:57.510Z"
   },
   {
    "duration": 401,
    "start_time": "2024-03-06T16:10:00.775Z"
   },
   {
    "duration": 31,
    "start_time": "2024-03-06T16:10:01.178Z"
   },
   {
    "duration": 31,
    "start_time": "2024-03-06T16:10:01.211Z"
   },
   {
    "duration": 129,
    "start_time": "2024-03-06T16:10:01.244Z"
   },
   {
    "duration": 82,
    "start_time": "2024-03-06T16:10:01.374Z"
   },
   {
    "duration": 174,
    "start_time": "2024-03-06T16:10:01.458Z"
   },
   {
    "duration": 179,
    "start_time": "2024-03-06T16:10:01.634Z"
   },
   {
    "duration": 137,
    "start_time": "2024-03-06T16:10:01.815Z"
   },
   {
    "duration": 12,
    "start_time": "2024-03-06T16:10:01.953Z"
   },
   {
    "duration": 169,
    "start_time": "2024-03-06T16:10:01.966Z"
   },
   {
    "duration": 2,
    "start_time": "2024-03-06T16:10:02.137Z"
   },
   {
    "duration": 55,
    "start_time": "2024-03-06T16:10:02.140Z"
   },
   {
    "duration": 1894,
    "start_time": "2024-03-06T16:10:02.197Z"
   },
   {
    "duration": 559,
    "start_time": "2024-03-06T16:10:04.093Z"
   },
   {
    "duration": 0,
    "start_time": "2024-03-06T16:10:04.655Z"
   },
   {
    "duration": 0,
    "start_time": "2024-03-06T16:10:04.656Z"
   },
   {
    "duration": 0,
    "start_time": "2024-03-06T16:10:04.658Z"
   },
   {
    "duration": 0,
    "start_time": "2024-03-06T16:10:04.659Z"
   },
   {
    "duration": 0,
    "start_time": "2024-03-06T16:10:04.660Z"
   },
   {
    "duration": 0,
    "start_time": "2024-03-06T16:10:04.662Z"
   },
   {
    "duration": 0,
    "start_time": "2024-03-06T16:10:04.663Z"
   },
   {
    "duration": 0,
    "start_time": "2024-03-06T16:10:04.664Z"
   },
   {
    "duration": 0,
    "start_time": "2024-03-06T16:10:04.665Z"
   },
   {
    "duration": 0,
    "start_time": "2024-03-06T16:10:04.666Z"
   },
   {
    "duration": 0,
    "start_time": "2024-03-06T16:10:04.688Z"
   },
   {
    "duration": 0,
    "start_time": "2024-03-06T16:10:04.689Z"
   },
   {
    "duration": 0,
    "start_time": "2024-03-06T16:10:04.690Z"
   },
   {
    "duration": 0,
    "start_time": "2024-03-06T16:10:04.692Z"
   },
   {
    "duration": 0,
    "start_time": "2024-03-06T16:10:04.693Z"
   },
   {
    "duration": 0,
    "start_time": "2024-03-06T16:10:04.695Z"
   },
   {
    "duration": 0,
    "start_time": "2024-03-06T16:10:04.696Z"
   },
   {
    "duration": 0,
    "start_time": "2024-03-06T16:10:04.697Z"
   },
   {
    "duration": 0,
    "start_time": "2024-03-06T16:10:04.699Z"
   },
   {
    "duration": 0,
    "start_time": "2024-03-06T16:10:04.700Z"
   },
   {
    "duration": 0,
    "start_time": "2024-03-06T16:10:04.701Z"
   },
   {
    "duration": 0,
    "start_time": "2024-03-06T16:10:04.703Z"
   },
   {
    "duration": 0,
    "start_time": "2024-03-06T16:10:04.704Z"
   },
   {
    "duration": 0,
    "start_time": "2024-03-06T16:10:04.705Z"
   },
   {
    "duration": 0,
    "start_time": "2024-03-06T16:10:04.707Z"
   },
   {
    "duration": 0,
    "start_time": "2024-03-06T16:10:04.708Z"
   },
   {
    "duration": 0,
    "start_time": "2024-03-06T16:10:04.710Z"
   },
   {
    "duration": 0,
    "start_time": "2024-03-06T16:10:04.711Z"
   },
   {
    "duration": 0,
    "start_time": "2024-03-06T16:10:04.712Z"
   },
   {
    "duration": 0,
    "start_time": "2024-03-06T16:10:04.714Z"
   },
   {
    "duration": 0,
    "start_time": "2024-03-06T16:10:04.715Z"
   },
   {
    "duration": 0,
    "start_time": "2024-03-06T16:10:04.716Z"
   },
   {
    "duration": 0,
    "start_time": "2024-03-06T16:10:04.717Z"
   },
   {
    "duration": 0,
    "start_time": "2024-03-06T16:10:04.718Z"
   },
   {
    "duration": 501,
    "start_time": "2024-03-06T16:11:09.880Z"
   },
   {
    "duration": 484,
    "start_time": "2024-03-06T16:11:21.737Z"
   },
   {
    "duration": 516,
    "start_time": "2024-03-06T16:11:31.846Z"
   },
   {
    "duration": 1505,
    "start_time": "2024-03-06T16:12:22.590Z"
   },
   {
    "duration": 984,
    "start_time": "2024-03-06T16:12:24.097Z"
   },
   {
    "duration": 22,
    "start_time": "2024-03-06T16:12:25.083Z"
   },
   {
    "duration": 192,
    "start_time": "2024-03-06T16:12:25.106Z"
   },
   {
    "duration": 546,
    "start_time": "2024-03-06T16:12:25.302Z"
   },
   {
    "duration": 102,
    "start_time": "2024-03-06T16:12:25.850Z"
   },
   {
    "duration": 13,
    "start_time": "2024-03-06T16:12:25.954Z"
   },
   {
    "duration": 70,
    "start_time": "2024-03-06T16:12:25.968Z"
   },
   {
    "duration": 26,
    "start_time": "2024-03-06T16:12:26.040Z"
   },
   {
    "duration": 82,
    "start_time": "2024-03-06T16:12:26.068Z"
   },
   {
    "duration": 27,
    "start_time": "2024-03-06T16:12:26.152Z"
   },
   {
    "duration": 40,
    "start_time": "2024-03-06T16:12:26.187Z"
   },
   {
    "duration": 12,
    "start_time": "2024-03-06T16:12:26.229Z"
   },
   {
    "duration": 75,
    "start_time": "2024-03-06T16:12:26.245Z"
   },
   {
    "duration": 55,
    "start_time": "2024-03-06T16:12:26.322Z"
   },
   {
    "duration": 37,
    "start_time": "2024-03-06T16:12:26.379Z"
   },
   {
    "duration": 328,
    "start_time": "2024-03-06T16:12:26.417Z"
   },
   {
    "duration": 14,
    "start_time": "2024-03-06T16:12:26.747Z"
   },
   {
    "duration": 116,
    "start_time": "2024-03-06T16:12:26.763Z"
   },
   {
    "duration": 284,
    "start_time": "2024-03-06T16:12:26.881Z"
   },
   {
    "duration": 25,
    "start_time": "2024-03-06T16:12:27.166Z"
   },
   {
    "duration": 45,
    "start_time": "2024-03-06T16:12:27.196Z"
   },
   {
    "duration": 3407,
    "start_time": "2024-03-06T16:12:27.243Z"
   },
   {
    "duration": 472,
    "start_time": "2024-03-06T16:12:30.652Z"
   },
   {
    "duration": 22,
    "start_time": "2024-03-06T16:12:31.125Z"
   },
   {
    "duration": 35,
    "start_time": "2024-03-06T16:12:31.148Z"
   },
   {
    "duration": 154,
    "start_time": "2024-03-06T16:12:31.184Z"
   },
   {
    "duration": 146,
    "start_time": "2024-03-06T16:12:31.340Z"
   },
   {
    "duration": 169,
    "start_time": "2024-03-06T16:12:31.488Z"
   },
   {
    "duration": 189,
    "start_time": "2024-03-06T16:12:31.659Z"
   },
   {
    "duration": 152,
    "start_time": "2024-03-06T16:12:31.850Z"
   },
   {
    "duration": 12,
    "start_time": "2024-03-06T16:12:32.005Z"
   },
   {
    "duration": 166,
    "start_time": "2024-03-06T16:12:32.019Z"
   },
   {
    "duration": 4,
    "start_time": "2024-03-06T16:12:32.186Z"
   },
   {
    "duration": 55,
    "start_time": "2024-03-06T16:12:32.192Z"
   },
   {
    "duration": 1922,
    "start_time": "2024-03-06T16:12:32.248Z"
   },
   {
    "duration": 603,
    "start_time": "2024-03-06T16:12:34.172Z"
   },
   {
    "duration": 0,
    "start_time": "2024-03-06T16:12:34.777Z"
   },
   {
    "duration": 0,
    "start_time": "2024-03-06T16:12:34.779Z"
   },
   {
    "duration": 0,
    "start_time": "2024-03-06T16:12:34.780Z"
   },
   {
    "duration": 0,
    "start_time": "2024-03-06T16:12:34.787Z"
   },
   {
    "duration": 0,
    "start_time": "2024-03-06T16:12:34.788Z"
   },
   {
    "duration": 0,
    "start_time": "2024-03-06T16:12:34.789Z"
   },
   {
    "duration": 0,
    "start_time": "2024-03-06T16:12:34.791Z"
   },
   {
    "duration": 0,
    "start_time": "2024-03-06T16:12:34.792Z"
   },
   {
    "duration": 0,
    "start_time": "2024-03-06T16:12:34.793Z"
   },
   {
    "duration": 0,
    "start_time": "2024-03-06T16:12:34.794Z"
   },
   {
    "duration": 0,
    "start_time": "2024-03-06T16:12:34.795Z"
   },
   {
    "duration": 0,
    "start_time": "2024-03-06T16:12:34.796Z"
   },
   {
    "duration": 0,
    "start_time": "2024-03-06T16:12:34.797Z"
   },
   {
    "duration": 0,
    "start_time": "2024-03-06T16:12:34.798Z"
   },
   {
    "duration": 0,
    "start_time": "2024-03-06T16:12:34.799Z"
   },
   {
    "duration": 0,
    "start_time": "2024-03-06T16:12:34.801Z"
   },
   {
    "duration": 0,
    "start_time": "2024-03-06T16:12:34.802Z"
   },
   {
    "duration": 0,
    "start_time": "2024-03-06T16:12:34.803Z"
   },
   {
    "duration": 0,
    "start_time": "2024-03-06T16:12:34.804Z"
   },
   {
    "duration": 0,
    "start_time": "2024-03-06T16:12:34.805Z"
   },
   {
    "duration": 0,
    "start_time": "2024-03-06T16:12:34.806Z"
   },
   {
    "duration": 0,
    "start_time": "2024-03-06T16:12:34.808Z"
   },
   {
    "duration": 0,
    "start_time": "2024-03-06T16:12:34.808Z"
   },
   {
    "duration": 0,
    "start_time": "2024-03-06T16:12:34.810Z"
   },
   {
    "duration": 0,
    "start_time": "2024-03-06T16:12:34.811Z"
   },
   {
    "duration": 0,
    "start_time": "2024-03-06T16:12:34.811Z"
   },
   {
    "duration": 0,
    "start_time": "2024-03-06T16:12:34.813Z"
   },
   {
    "duration": 0,
    "start_time": "2024-03-06T16:12:34.814Z"
   },
   {
    "duration": 0,
    "start_time": "2024-03-06T16:12:34.815Z"
   },
   {
    "duration": 0,
    "start_time": "2024-03-06T16:12:34.816Z"
   },
   {
    "duration": 0,
    "start_time": "2024-03-06T16:12:34.816Z"
   },
   {
    "duration": 0,
    "start_time": "2024-03-06T16:12:34.818Z"
   },
   {
    "duration": 0,
    "start_time": "2024-03-06T16:12:34.819Z"
   },
   {
    "duration": 0,
    "start_time": "2024-03-06T16:12:34.820Z"
   },
   {
    "duration": 557,
    "start_time": "2024-03-06T16:13:11.153Z"
   },
   {
    "duration": 37,
    "start_time": "2024-03-06T16:13:18.928Z"
   },
   {
    "duration": 17,
    "start_time": "2024-03-06T16:15:47.525Z"
   },
   {
    "duration": 1671,
    "start_time": "2024-03-06T16:16:02.015Z"
   },
   {
    "duration": 498,
    "start_time": "2024-03-06T16:16:16.487Z"
   },
   {
    "duration": 1471,
    "start_time": "2024-03-06T16:16:35.747Z"
   },
   {
    "duration": 922,
    "start_time": "2024-03-06T16:16:37.220Z"
   },
   {
    "duration": 20,
    "start_time": "2024-03-06T16:16:38.144Z"
   },
   {
    "duration": 186,
    "start_time": "2024-03-06T16:16:38.166Z"
   },
   {
    "duration": 512,
    "start_time": "2024-03-06T16:16:38.354Z"
   },
   {
    "duration": 101,
    "start_time": "2024-03-06T16:16:38.867Z"
   },
   {
    "duration": 21,
    "start_time": "2024-03-06T16:16:38.970Z"
   },
   {
    "duration": 47,
    "start_time": "2024-03-06T16:16:38.992Z"
   },
   {
    "duration": 26,
    "start_time": "2024-03-06T16:16:39.041Z"
   },
   {
    "duration": 83,
    "start_time": "2024-03-06T16:16:39.068Z"
   },
   {
    "duration": 41,
    "start_time": "2024-03-06T16:16:39.153Z"
   },
   {
    "duration": 20,
    "start_time": "2024-03-06T16:16:39.196Z"
   },
   {
    "duration": 17,
    "start_time": "2024-03-06T16:16:39.218Z"
   },
   {
    "duration": 54,
    "start_time": "2024-03-06T16:16:39.239Z"
   },
   {
    "duration": 51,
    "start_time": "2024-03-06T16:16:39.295Z"
   },
   {
    "duration": 24,
    "start_time": "2024-03-06T16:16:39.348Z"
   },
   {
    "duration": 284,
    "start_time": "2024-03-06T16:16:39.374Z"
   },
   {
    "duration": 15,
    "start_time": "2024-03-06T16:16:39.659Z"
   },
   {
    "duration": 100,
    "start_time": "2024-03-06T16:16:39.675Z"
   },
   {
    "duration": 269,
    "start_time": "2024-03-06T16:16:39.777Z"
   },
   {
    "duration": 18,
    "start_time": "2024-03-06T16:16:40.048Z"
   },
   {
    "duration": 47,
    "start_time": "2024-03-06T16:16:40.068Z"
   },
   {
    "duration": 3104,
    "start_time": "2024-03-06T16:16:40.117Z"
   },
   {
    "duration": 441,
    "start_time": "2024-03-06T16:16:43.223Z"
   },
   {
    "duration": 26,
    "start_time": "2024-03-06T16:16:43.666Z"
   },
   {
    "duration": 12,
    "start_time": "2024-03-06T16:16:43.693Z"
   },
   {
    "duration": 107,
    "start_time": "2024-03-06T16:16:43.707Z"
   },
   {
    "duration": 53,
    "start_time": "2024-03-06T16:16:43.816Z"
   },
   {
    "duration": 151,
    "start_time": "2024-03-06T16:16:43.871Z"
   },
   {
    "duration": 157,
    "start_time": "2024-03-06T16:16:44.024Z"
   },
   {
    "duration": 135,
    "start_time": "2024-03-06T16:16:44.183Z"
   },
   {
    "duration": 11,
    "start_time": "2024-03-06T16:16:44.320Z"
   },
   {
    "duration": 132,
    "start_time": "2024-03-06T16:16:44.333Z"
   },
   {
    "duration": 4,
    "start_time": "2024-03-06T16:16:44.468Z"
   },
   {
    "duration": 5,
    "start_time": "2024-03-06T16:16:44.474Z"
   },
   {
    "duration": 1778,
    "start_time": "2024-03-06T16:16:44.488Z"
   },
   {
    "duration": 514,
    "start_time": "2024-03-06T16:16:46.267Z"
   },
   {
    "duration": 485,
    "start_time": "2024-03-06T16:16:46.782Z"
   },
   {
    "duration": 59,
    "start_time": "2024-03-06T16:16:47.269Z"
   },
   {
    "duration": 2,
    "start_time": "2024-03-06T16:16:47.330Z"
   },
   {
    "duration": 4,
    "start_time": "2024-03-06T16:16:47.337Z"
   },
   {
    "duration": 19,
    "start_time": "2024-03-06T16:16:47.343Z"
   },
   {
    "duration": 4,
    "start_time": "2024-03-06T16:16:47.364Z"
   },
   {
    "duration": 159,
    "start_time": "2024-03-06T16:16:47.369Z"
   },
   {
    "duration": 13660,
    "start_time": "2024-03-06T16:16:47.530Z"
   },
   {
    "duration": 221,
    "start_time": "2024-03-06T16:17:01.193Z"
   },
   {
    "duration": 94,
    "start_time": "2024-03-06T16:17:01.494Z"
   },
   {
    "duration": 47,
    "start_time": "2024-03-06T16:17:01.590Z"
   },
   {
    "duration": 62,
    "start_time": "2024-03-06T16:17:01.639Z"
   },
   {
    "duration": 114,
    "start_time": "2024-03-06T16:17:01.702Z"
   },
   {
    "duration": 2907,
    "start_time": "2024-03-06T16:17:01.818Z"
   },
   {
    "duration": 51,
    "start_time": "2024-03-06T16:17:04.727Z"
   },
   {
    "duration": 10,
    "start_time": "2024-03-06T16:17:04.779Z"
   },
   {
    "duration": 15,
    "start_time": "2024-03-06T16:17:04.790Z"
   },
   {
    "duration": 5,
    "start_time": "2024-03-06T16:17:04.807Z"
   },
   {
    "duration": 10,
    "start_time": "2024-03-06T16:17:04.814Z"
   },
   {
    "duration": 20,
    "start_time": "2024-03-06T16:17:04.825Z"
   },
   {
    "duration": 117147,
    "start_time": "2024-03-06T16:17:04.846Z"
   },
   {
    "duration": 635,
    "start_time": "2024-03-06T16:19:01.995Z"
   },
   {
    "duration": 5,
    "start_time": "2024-03-06T16:19:02.632Z"
   },
   {
    "duration": 97,
    "start_time": "2024-03-06T16:19:02.639Z"
   },
   {
    "duration": 22,
    "start_time": "2024-03-06T16:19:02.738Z"
   },
   {
    "duration": 554644,
    "start_time": "2024-03-06T16:19:02.762Z"
   },
   {
    "duration": 44,
    "start_time": "2024-03-06T16:28:17.408Z"
   },
   {
    "duration": 875,
    "start_time": "2024-03-06T16:28:17.454Z"
   },
   {
    "duration": 5,
    "start_time": "2024-03-06T16:28:18.331Z"
   },
   {
    "duration": 99,
    "start_time": "2024-03-06T16:28:18.337Z"
   },
   {
    "duration": 850,
    "start_time": "2024-03-06T16:28:18.438Z"
   },
   {
    "duration": 5,
    "start_time": "2024-03-06T16:28:19.290Z"
   },
   {
    "duration": 7,
    "start_time": "2024-03-06T16:28:19.297Z"
   },
   {
    "duration": 9,
    "start_time": "2024-03-06T16:28:19.306Z"
   },
   {
    "duration": 160,
    "start_time": "2024-03-06T16:50:02.787Z"
   },
   {
    "duration": 1846,
    "start_time": "2024-03-06T16:51:42.170Z"
   }
  ],
  "kernelspec": {
   "display_name": "Python 3 (ipykernel)",
   "language": "python",
   "name": "python3"
  },
  "language_info": {
   "codemirror_mode": {
    "name": "ipython",
    "version": 3
   },
   "file_extension": ".py",
   "mimetype": "text/x-python",
   "name": "python",
   "nbconvert_exporter": "python",
   "pygments_lexer": "ipython3",
   "version": "3.9.15"
  },
  "toc": {
   "base_numbering": 1,
   "nav_menu": {},
   "number_sections": true,
   "sideBar": true,
   "skip_h1_title": true,
   "title_cell": "Table of Contents",
   "title_sidebar": "Contents",
   "toc_cell": false,
   "toc_position": {
    "height": "calc(100% - 180px)",
    "left": "10px",
    "top": "150px",
    "width": "165px"
   },
   "toc_section_display": true,
   "toc_window_display": true
  }
 },
 "nbformat": 4,
 "nbformat_minor": 2
}
